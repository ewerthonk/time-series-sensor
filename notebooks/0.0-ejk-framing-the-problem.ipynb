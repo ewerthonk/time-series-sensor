{
 "cells": [
  {
   "attachments": {},
   "cell_type": "markdown",
   "metadata": {},
   "source": [
    "# 0. Abordando o problema\n",
    "\n",
    "#### Problema do Negócio\n",
    "\n",
    "Esse projeto é uma resolução de desafio (teste de conhecimento).\n",
    "\n",
    "O desafio proposto é a criação de um modelo de predição de séries temporais a partir de um dataset.\n",
    "\n",
    "O dataset é um conjunto de dados .jsonl de 5 dias com várias medições de diversos equipamentos de sensor. A medição deve ser do tipo univariada e as variáveis utilizadas serão HeliumLevel e BoreTemperature:\n",
    "\n",
    "<img src=\"../references/dataset.png\" alt=\"dataset\" width=\"800\"/>\n",
    "\n",
    "#### Objetivo do Negócio\n",
    "\n",
    "O objetivo é criar um modelo de predição de séries temporais usando um dataset de medições de um equipamento de sensor. O escopo é aberto e deixa livre para tomar decisões acerca dos pontos chaves do projeto, como:\n",
    "\n",
    "- Quais equipamentos serão utilizados na modelagem\n",
    "- Modelagem da série temporal\n",
    "- Divisão de treino e teste\n",
    "- Tipo de modelo \n",
    "- Medição de performance.\n",
    "\n",
    "Essas decisões serão tomadas ao longo do processo exploratório. A entrega consiste na documentação de processo exploratório e modelos treinados e  binarizados.\n",
    "\n",
    "#### Classificação do Problema\n",
    "\n",
    "Aprendizado supervisado offline direcionado para forecast de séries temporais. Há recursos disponíveis na internet e todo gerenciamento do projeto (To-Do list e recursos usados como base de conhecimento) estão disponíveis nesse link do [Notion](https://www.notion.so/ewerthonk/Fazer-o-desafio-de-S-ries-Temporais-855454bb4cf0402d9a462930b7b49905).\n"
   ]
  }
 ],
 "metadata": {
  "kernelspec": {
   "display_name": "Python 3.9.13 ('data-science')",
   "language": "python",
   "name": "python3"
  },
  "language_info": {
   "name": "python",
   "version": "3.9.13 | packaged by conda-forge | (main, May 27 2022, 17:00:52) \n[Clang 13.0.1 ]"
  },
  "orig_nbformat": 4,
  "vscode": {
   "interpreter": {
    "hash": "6fb7f821048b66e4dcbd0fd681d1654d7ce6bc35c8355f3e5aa7a4fc5e44c33b"
   }
  }
 },
 "nbformat": 4,
 "nbformat_minor": 2
}
