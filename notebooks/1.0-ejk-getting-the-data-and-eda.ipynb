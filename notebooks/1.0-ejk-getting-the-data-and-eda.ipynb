{
 "cells": [
  {
   "attachments": {},
   "cell_type": "markdown",
   "metadata": {},
   "source": [
    "# 1. Obtendo os dados"
   ]
  },
  {
   "attachments": {},
   "cell_type": "markdown",
   "metadata": {},
   "source": [
    "## Preparando a caixa de ferramentas 🧰"
   ]
  },
  {
   "cell_type": "code",
   "execution_count": 2,
   "metadata": {},
   "outputs": [
    {
     "data": {
      "text/html": [
       "        <script type=\"text/javascript\">\n",
       "        window.PlotlyConfig = {MathJaxConfig: 'local'};\n",
       "        if (window.MathJax && window.MathJax.Hub && window.MathJax.Hub.Config) {window.MathJax.Hub.Config({SVG: {font: \"STIX-Web\"}});}\n",
       "        if (typeof require !== 'undefined') {\n",
       "        require.undef(\"plotly\");\n",
       "        requirejs.config({\n",
       "            paths: {\n",
       "                'plotly': ['https://cdn.plot.ly/plotly-2.16.1.min']\n",
       "            }\n",
       "        });\n",
       "        require(['plotly'], function(Plotly) {\n",
       "            window._Plotly = Plotly;\n",
       "        });\n",
       "        }\n",
       "        </script>\n",
       "        "
      ]
     },
     "metadata": {},
     "output_type": "display_data"
    }
   ],
   "source": [
    "import pandas as pd\n",
    "import numpy as np\n",
    "from pathlib import Path\n",
    "import json\n",
    "import plotly.offline as pyo\n",
    "import plotly.io as pio\n",
    "import plotly.express as px\n",
    "from matplotlib import pyplot as plt\n",
    "\n",
    "# Initializing Plotly (off-line mode)\n",
    "pyo.init_notebook_mode(connected=True)\n",
    "\n",
    "# Setting Plotly template as Simple White\n",
    "pio.templates.default = \"plotly_white\"\n",
    "\n",
    "raw_data_folder = Path.cwd().resolve().parent.joinpath(\"data\", \"raw\")\n",
    "processed_data_folder = Path.cwd().resolve().parent.joinpath(\"data\", \"processed\")"
   ]
  },
  {
   "cell_type": "code",
   "execution_count": 3,
   "metadata": {},
   "outputs": [],
   "source": [
    "origin_df = pd.DataFrame()\n",
    "for jsonl_file in list(raw_data_folder.glob(\"*.jsonl\")):\n",
    "    with open(jsonl_file, \"r\") as jsonl_file:\n",
    "        origin_df = pd.concat(\n",
    "            (\n",
    "                origin_df, \n",
    "                pd.DataFrame(\n",
    "                    pd.json_normalize(  # Normalizes \"levels\" in the json schema to columns\n",
    "                        (json.loads(line) for line in jsonl_file)  # Loads each line at a time\n",
    "                    )\n",
    "                )\n",
    "            ),\n",
    "            ignore_index=True)\n",
    "\n",
    "# Renaming columns (no reason to do this, just making it more readable)\n",
    "origin_df.rename(columns= lambda col_name: col_name.split(\".\")[0], inplace=True)\n",
    "\n",
    "# Creating DataFrame for analysis\n",
    "df = origin_df[[\"Data\", \"IP\", \"HeliumLevel\", \"BoreTemperature\"]].copy().set_index(\"Data\")\n",
    "df[\"HeliumLevel\"] = df[\"HeliumLevel\"].astype(\"float64\")\n",
    "df[\"BoreTemperature\"] = df[\"BoreTemperature\"].astype(\"float64\")\n",
    "df.index = pd.to_datetime(df.index).tz_convert(None)  # Removing UTC Time Zone info\n",
    "df[\"Day\"] = df.index.date\n",
    "df.sort_index(inplace=True)\n"
   ]
  },
  {
   "attachments": {},
   "cell_type": "markdown",
   "metadata": {},
   "source": [
    "# 2. Analisando os dados de forma exploratória (EDA)"
   ]
  },
  {
   "attachments": {},
   "cell_type": "markdown",
   "metadata": {},
   "source": [
    "As principais questões a serem exploradas são:\n",
    "- Como os dados estão distribuídos ao longo do tempo?\n",
    "  - As medições exibem algum padrão?\n",
    "  - A frequência de dados é constante dentro de alguma janela (X medições por dia ou hora)?\n",
    "- Há algum equipamento com dados muito discrepante?\n",
    "- Quais e quantos equipamentos escolher para a modelagem?\n",
    "- Qual critério usar para divisão de janelas e treino e teste?\n",
    "- Quais modelos podem ser promissores?\n",
    "\n",
    "Como não há contexto do negócio sobre os dados, a EDA será direcionada a responder essas perguntas. "
   ]
  },
  {
   "attachments": {},
   "cell_type": "markdown",
   "metadata": {},
   "source": [
    "#### Observando os dados"
   ]
  },
  {
   "cell_type": "code",
   "execution_count": 4,
   "metadata": {},
   "outputs": [
    {
     "data": {
      "text/html": [
       "<div>\n",
       "<style scoped>\n",
       "    .dataframe tbody tr th:only-of-type {\n",
       "        vertical-align: middle;\n",
       "    }\n",
       "\n",
       "    .dataframe tbody tr th {\n",
       "        vertical-align: top;\n",
       "    }\n",
       "\n",
       "    .dataframe thead th {\n",
       "        text-align: right;\n",
       "    }\n",
       "</style>\n",
       "<table border=\"1\" class=\"dataframe\">\n",
       "  <thead>\n",
       "    <tr style=\"text-align: right;\">\n",
       "      <th></th>\n",
       "      <th>IP</th>\n",
       "      <th>HeliumLevel</th>\n",
       "      <th>BoreTemperature</th>\n",
       "      <th>Day</th>\n",
       "    </tr>\n",
       "    <tr>\n",
       "      <th>Data</th>\n",
       "      <th></th>\n",
       "      <th></th>\n",
       "      <th></th>\n",
       "      <th></th>\n",
       "    </tr>\n",
       "  </thead>\n",
       "  <tbody>\n",
       "    <tr>\n",
       "      <th>2022-10-21 02:00:19</th>\n",
       "      <td>172.22.8.31</td>\n",
       "      <td>76.900002</td>\n",
       "      <td>46.500000</td>\n",
       "      <td>2022-10-21</td>\n",
       "    </tr>\n",
       "    <tr>\n",
       "      <th>2022-10-21 05:00:17</th>\n",
       "      <td>10.115.16.230</td>\n",
       "      <td>85.000000</td>\n",
       "      <td>53.500000</td>\n",
       "      <td>2022-10-21</td>\n",
       "    </tr>\n",
       "    <tr>\n",
       "      <th>2022-10-21 05:00:18</th>\n",
       "      <td>10.115.17.226</td>\n",
       "      <td>91.500000</td>\n",
       "      <td>59.799999</td>\n",
       "      <td>2022-10-21</td>\n",
       "    </tr>\n",
       "    <tr>\n",
       "      <th>2022-10-21 05:00:19</th>\n",
       "      <td>172.17.216.6</td>\n",
       "      <td>91.400002</td>\n",
       "      <td>53.500000</td>\n",
       "      <td>2022-10-21</td>\n",
       "    </tr>\n",
       "    <tr>\n",
       "      <th>2022-10-25 17:25:13</th>\n",
       "      <td>10.23.149.30</td>\n",
       "      <td>0.000000</td>\n",
       "      <td>0.000000</td>\n",
       "      <td>2022-10-25</td>\n",
       "    </tr>\n",
       "    <tr>\n",
       "      <th>2022-10-25 17:25:49</th>\n",
       "      <td>10.23.153.13</td>\n",
       "      <td>79.699997</td>\n",
       "      <td>44.400002</td>\n",
       "      <td>2022-10-25</td>\n",
       "    </tr>\n",
       "    <tr>\n",
       "      <th>2022-10-25 17:49:53</th>\n",
       "      <td>10.23.153.13</td>\n",
       "      <td>79.699997</td>\n",
       "      <td>44.400002</td>\n",
       "      <td>2022-10-25</td>\n",
       "    </tr>\n",
       "    <tr>\n",
       "      <th>2022-10-25 20:45:17</th>\n",
       "      <td>172.19.152.53</td>\n",
       "      <td>0.000000</td>\n",
       "      <td>0.000000</td>\n",
       "      <td>2022-10-25</td>\n",
       "    </tr>\n",
       "  </tbody>\n",
       "</table>\n",
       "</div>"
      ],
      "text/plain": [
       "                                IP  HeliumLevel  BoreTemperature         Day\n",
       "Data                                                                        \n",
       "2022-10-21 02:00:19    172.22.8.31    76.900002        46.500000  2022-10-21\n",
       "2022-10-21 05:00:17  10.115.16.230    85.000000        53.500000  2022-10-21\n",
       "2022-10-21 05:00:18  10.115.17.226    91.500000        59.799999  2022-10-21\n",
       "2022-10-21 05:00:19   172.17.216.6    91.400002        53.500000  2022-10-21\n",
       "2022-10-25 17:25:13   10.23.149.30     0.000000         0.000000  2022-10-25\n",
       "2022-10-25 17:25:49   10.23.153.13    79.699997        44.400002  2022-10-25\n",
       "2022-10-25 17:49:53   10.23.153.13    79.699997        44.400002  2022-10-25\n",
       "2022-10-25 20:45:17  172.19.152.53     0.000000         0.000000  2022-10-25"
      ]
     },
     "execution_count": 4,
     "metadata": {},
     "output_type": "execute_result"
    }
   ],
   "source": [
    "df.iloc[np.r_[0:4, -4:0]]"
   ]
  },
  {
   "attachments": {},
   "cell_type": "markdown",
   "metadata": {},
   "source": [
    "#### Visualizando todas as séries temporais"
   ]
  },
  {
   "cell_type": "code",
   "execution_count": 9,
   "metadata": {},
   "outputs": [
    {
     "data": {
      "application/vnd.plotly.v1+json": {
       "config": {
        "plotlyServerURL": "https://plot.ly"
       },
       "data": [
        {
         "customdata": [
          [
           "172.22.8.31"
          ],
          [
           "172.22.8.31"
          ],
          [
           "172.22.8.31"
          ],
          [
           "172.22.8.31"
          ],
          [
           "172.22.8.31"
          ],
          [
           "172.22.8.31"
          ],
          [
           "172.22.8.31"
          ],
          [
           "172.22.8.31"
          ],
          [
           "172.22.8.31"
          ]
         ],
         "hovertemplate": "<br>%{x|%H:%M - %d/%m}<br>IP: %{customdata[0]}<br>BoreTemperature: %{y}<extra></extra>",
         "legendgroup": "172.22.8.31",
         "line": {
          "color": "#636efa",
          "dash": "solid"
         },
         "marker": {
          "symbol": "circle"
         },
         "mode": "lines+markers",
         "name": "172.22.8.31",
         "orientation": "v",
         "showlegend": true,
         "type": "scatter",
         "x": [
          "2022-10-21T02:00:19",
          "2022-10-21T06:23:47",
          "2022-10-22T02:00:19",
          "2022-10-22T06:21:05",
          "2022-10-23T02:00:19",
          "2022-10-24T02:00:19",
          "2022-10-24T06:26:59",
          "2022-10-25T02:00:20",
          "2022-10-25T06:27:29"
         ],
         "xaxis": "x",
         "y": [
          46.5,
          46.5,
          45.7999992370606,
          45.7999992370606,
          45.7999992370606,
          45.7999992370606,
          45.7999992370606,
          45.7999992370606,
          45.7999992370606
         ],
         "yaxis": "y"
        },
        {
         "customdata": [
          [
           "10.115.16.230"
          ],
          [
           "10.115.16.230"
          ],
          [
           "10.115.16.230"
          ],
          [
           "10.115.16.230"
          ],
          [
           "10.115.16.230"
          ],
          [
           "10.115.16.230"
          ],
          [
           "10.115.16.230"
          ],
          [
           "10.115.16.230"
          ],
          [
           "10.115.16.230"
          ],
          [
           "10.115.16.230"
          ],
          [
           "10.115.16.230"
          ]
         ],
         "hovertemplate": "<br>%{x|%H:%M - %d/%m}<br>IP: %{customdata[0]}<br>BoreTemperature: %{y}<extra></extra>",
         "legendgroup": "10.115.16.230",
         "line": {
          "color": "#EF553B",
          "dash": "solid"
         },
         "marker": {
          "symbol": "circle"
         },
         "mode": "lines+markers",
         "name": "10.115.16.230",
         "orientation": "v",
         "showlegend": true,
         "type": "scatter",
         "x": [
          "2022-10-21T05:00:17",
          "2022-10-21T05:00:39",
          "2022-10-22T05:00:18",
          "2022-10-22T05:00:37",
          "2022-10-23T05:00:17",
          "2022-10-23T11:44:39",
          "2022-10-23T11:44:44",
          "2022-10-24T05:00:18",
          "2022-10-24T11:15:37",
          "2022-10-25T05:00:18",
          "2022-10-25T05:00:46"
         ],
         "xaxis": "x",
         "y": [
          53.5,
          53.5,
          53.5,
          53.5,
          53.5,
          53.5,
          53.5,
          53.5,
          53.5,
          53.5,
          53.5
         ],
         "yaxis": "y"
        },
        {
         "customdata": [
          [
           "10.115.17.226"
          ],
          [
           "10.115.17.226"
          ],
          [
           "10.115.17.226"
          ],
          [
           "10.115.17.226"
          ],
          [
           "10.115.17.226"
          ],
          [
           "10.115.17.226"
          ],
          [
           "10.115.17.226"
          ],
          [
           "10.115.17.226"
          ],
          [
           "10.115.17.226"
          ],
          [
           "10.115.17.226"
          ],
          [
           "10.115.17.226"
          ],
          [
           "10.115.17.226"
          ],
          [
           "10.115.17.226"
          ],
          [
           "10.115.17.226"
          ],
          [
           "10.115.17.226"
          ],
          [
           "10.115.17.226"
          ],
          [
           "10.115.17.226"
          ],
          [
           "10.115.17.226"
          ]
         ],
         "hovertemplate": "<br>%{x|%H:%M - %d/%m}<br>IP: %{customdata[0]}<br>BoreTemperature: %{y}<extra></extra>",
         "legendgroup": "10.115.17.226",
         "line": {
          "color": "#00cc96",
          "dash": "solid"
         },
         "marker": {
          "symbol": "circle"
         },
         "mode": "lines+markers",
         "name": "10.115.17.226",
         "orientation": "v",
         "showlegend": true,
         "type": "scatter",
         "x": [
          "2022-10-21T05:00:18",
          "2022-10-21T09:40:14",
          "2022-10-21T09:40:24",
          "2022-10-21T12:23:49",
          "2022-10-21T12:24:24",
          "2022-10-22T05:00:19",
          "2022-10-22T09:23:23",
          "2022-10-22T09:23:33",
          "2022-10-22T10:08:28",
          "2022-10-22T10:09:01",
          "2022-10-23T05:00:18",
          "2022-10-23T09:18:40",
          "2022-10-23T09:18:51",
          "2022-10-24T09:31:44",
          "2022-10-24T21:11:51",
          "2022-10-24T21:12:27",
          "2022-10-25T05:00:18",
          "2022-10-25T09:59:37"
         ],
         "xaxis": "x",
         "y": [
          59.7999992370606,
          59.7999992370606,
          59.7999992370606,
          59.7999992370606,
          59.7999992370606,
          68.0999984741211,
          68.0999984741211,
          68.0999984741211,
          68.0999984741211,
          68.0999984741211,
          75.5999984741211,
          75.5999984741211,
          75.5999984741211,
          77,
          77,
          77,
          67.4000015258789,
          67.4000015258789
         ],
         "yaxis": "y"
        },
        {
         "customdata": [
          [
           "172.17.216.6"
          ],
          [
           "172.17.216.6"
          ],
          [
           "172.17.216.6"
          ],
          [
           "172.17.216.6"
          ],
          [
           "172.17.216.6"
          ],
          [
           "172.17.216.6"
          ],
          [
           "172.17.216.6"
          ],
          [
           "172.17.216.6"
          ],
          [
           "172.17.216.6"
          ]
         ],
         "hovertemplate": "<br>%{x|%H:%M - %d/%m}<br>IP: %{customdata[0]}<br>BoreTemperature: %{y}<extra></extra>",
         "legendgroup": "172.17.216.6",
         "line": {
          "color": "#ab63fa",
          "dash": "solid"
         },
         "marker": {
          "symbol": "circle"
         },
         "mode": "lines+markers",
         "name": "172.17.216.6",
         "orientation": "v",
         "showlegend": true,
         "type": "scatter",
         "x": [
          "2022-10-21T05:00:19",
          "2022-10-21T17:00:20",
          "2022-10-22T05:00:21",
          "2022-10-23T05:00:20",
          "2022-10-23T17:00:19",
          "2022-10-24T05:00:19",
          "2022-10-24T17:00:19",
          "2022-10-25T05:00:19",
          "2022-10-25T17:00:19"
         ],
         "xaxis": "x",
         "y": [
          53.5,
          57.7000007629394,
          54.9000015258789,
          54.2000007629394,
          58.4000015258789,
          59.7999992370606,
          57.7000007629394,
          56.2999992370606,
          57
         ],
         "yaxis": "y"
        },
        {
         "customdata": [
          [
           "10.23.152.32"
          ],
          [
           "10.23.152.32"
          ],
          [
           "10.23.152.32"
          ],
          [
           "10.23.152.32"
          ],
          [
           "10.23.152.32"
          ],
          [
           "10.23.152.32"
          ],
          [
           "10.23.152.32"
          ],
          [
           "10.23.152.32"
          ],
          [
           "10.23.152.32"
          ],
          [
           "10.23.152.32"
          ],
          [
           "10.23.152.32"
          ],
          [
           "10.23.152.32"
          ],
          [
           "10.23.152.32"
          ]
         ],
         "hovertemplate": "<br>%{x|%H:%M - %d/%m}<br>IP: %{customdata[0]}<br>BoreTemperature: %{y}<extra></extra>",
         "legendgroup": "10.23.152.32",
         "line": {
          "color": "#FFA15A",
          "dash": "solid"
         },
         "marker": {
          "symbol": "circle"
         },
         "mode": "lines+markers",
         "name": "10.23.152.32",
         "orientation": "v",
         "showlegend": true,
         "type": "scatter",
         "x": [
          "2022-10-21T05:00:20",
          "2022-10-21T09:53:56",
          "2022-10-21T09:54:21",
          "2022-10-22T05:00:19",
          "2022-10-22T10:01:28",
          "2022-10-22T10:01:54",
          "2022-10-23T05:00:19",
          "2022-10-24T05:00:19",
          "2022-10-24T09:44:11",
          "2022-10-24T09:44:36",
          "2022-10-25T05:00:20",
          "2022-10-25T09:44:13",
          "2022-10-25T09:44:38"
         ],
         "xaxis": "x",
         "y": [
          43,
          43,
          43,
          43,
          43,
          43,
          43,
          42.2999992370606,
          42.2999992370606,
          42.2999992370606,
          43,
          43,
          43
         ],
         "yaxis": "y"
        },
        {
         "customdata": [
          [
           "192.100.16.66"
          ],
          [
           "192.100.16.66"
          ],
          [
           "192.100.16.66"
          ],
          [
           "192.100.16.66"
          ],
          [
           "192.100.16.66"
          ],
          [
           "192.100.16.66"
          ],
          [
           "192.100.16.66"
          ],
          [
           "192.100.16.66"
          ],
          [
           "192.100.16.66"
          ],
          [
           "192.100.16.66"
          ],
          [
           "192.100.16.66"
          ],
          [
           "192.100.16.66"
          ],
          [
           "192.100.16.66"
          ],
          [
           "192.100.16.66"
          ],
          [
           "192.100.16.66"
          ]
         ],
         "hovertemplate": "<br>%{x|%H:%M - %d/%m}<br>IP: %{customdata[0]}<br>BoreTemperature: %{y}<extra></extra>",
         "legendgroup": "192.100.16.66",
         "line": {
          "color": "#19d3f3",
          "dash": "solid"
         },
         "marker": {
          "symbol": "circle"
         },
         "mode": "lines+markers",
         "name": "192.100.16.66",
         "orientation": "v",
         "showlegend": true,
         "type": "scatter",
         "x": [
          "2022-10-21T05:00:20",
          "2022-10-21T09:09:10",
          "2022-10-21T09:09:36",
          "2022-10-22T05:00:21",
          "2022-10-22T09:53:40",
          "2022-10-22T09:54:05",
          "2022-10-23T05:00:20",
          "2022-10-23T09:58:51",
          "2022-10-23T09:59:16",
          "2022-10-24T05:00:21",
          "2022-10-24T09:36:59",
          "2022-10-24T09:37:24",
          "2022-10-25T05:00:20",
          "2022-10-25T10:24:46",
          "2022-10-25T10:25:11"
         ],
         "xaxis": "x",
         "y": [
          42.2999992370606,
          42.2999992370606,
          42.2999992370606,
          43,
          42.2999992370606,
          42.2999992370606,
          42.2999992370606,
          42.2999992370606,
          42.2999992370606,
          42.2999992370606,
          42.2999992370606,
          42.2999992370606,
          43,
          42.2999992370606,
          42.2999992370606
         ],
         "yaxis": "y"
        },
        {
         "customdata": [
          [
           "10.99.80.179"
          ],
          [
           "10.99.80.179"
          ],
          [
           "10.99.80.179"
          ],
          [
           "10.99.80.179"
          ],
          [
           "10.99.80.179"
          ],
          [
           "10.99.80.179"
          ],
          [
           "10.99.80.179"
          ],
          [
           "10.99.80.179"
          ],
          [
           "10.99.80.179"
          ],
          [
           "10.99.80.179"
          ],
          [
           "10.99.80.179"
          ],
          [
           "10.99.80.179"
          ],
          [
           "10.99.80.179"
          ],
          [
           "10.99.80.179"
          ],
          [
           "10.99.80.179"
          ]
         ],
         "hovertemplate": "<br>%{x|%H:%M - %d/%m}<br>IP: %{customdata[0]}<br>BoreTemperature: %{y}<extra></extra>",
         "legendgroup": "10.99.80.179",
         "line": {
          "color": "#FF6692",
          "dash": "solid"
         },
         "marker": {
          "symbol": "circle"
         },
         "mode": "lines+markers",
         "name": "10.99.80.179",
         "orientation": "v",
         "showlegend": true,
         "type": "scatter",
         "x": [
          "2022-10-21T05:00:27",
          "2022-10-21T09:07:21",
          "2022-10-21T09:07:44",
          "2022-10-22T05:00:26",
          "2022-10-22T09:38:52",
          "2022-10-22T09:39:15",
          "2022-10-23T05:00:26",
          "2022-10-23T09:03:57",
          "2022-10-23T09:04:20",
          "2022-10-24T05:00:27",
          "2022-10-24T09:34:58",
          "2022-10-24T09:35:21",
          "2022-10-25T05:00:27",
          "2022-10-25T09:20:42",
          "2022-10-25T09:21:07"
         ],
         "xaxis": "x",
         "y": [
          48.5999984741211,
          48.5999984741211,
          48.5999984741211,
          47.9000015258789,
          47.9000015258789,
          47.9000015258789,
          47.2000007629394,
          47.2000007629394,
          47.2000007629394,
          46.5,
          46.5,
          46.5,
          49.2999992370606,
          49.2999992370606,
          49.2999992370606
         ],
         "yaxis": "y"
        },
        {
         "customdata": [
          [
           "10.23.153.13"
          ],
          [
           "10.23.153.13"
          ],
          [
           "10.23.153.13"
          ],
          [
           "10.23.153.13"
          ],
          [
           "10.23.153.13"
          ],
          [
           "10.23.153.13"
          ],
          [
           "10.23.153.13"
          ],
          [
           "10.23.153.13"
          ],
          [
           "10.23.153.13"
          ],
          [
           "10.23.153.13"
          ],
          [
           "10.23.153.13"
          ]
         ],
         "hovertemplate": "<br>%{x|%H:%M - %d/%m}<br>IP: %{customdata[0]}<br>BoreTemperature: %{y}<extra></extra>",
         "legendgroup": "10.23.153.13",
         "line": {
          "color": "#B6E880",
          "dash": "solid"
         },
         "marker": {
          "symbol": "circle"
         },
         "mode": "lines+markers",
         "name": "10.23.153.13",
         "orientation": "v",
         "showlegend": true,
         "type": "scatter",
         "x": [
          "2022-10-21T09:02:47",
          "2022-10-22T10:09:00",
          "2022-10-22T10:13:06",
          "2022-10-22T10:13:29",
          "2022-10-23T05:00:20",
          "2022-10-24T05:00:19",
          "2022-10-24T09:04:56",
          "2022-10-25T05:00:19",
          "2022-10-25T09:00:15",
          "2022-10-25T17:25:49",
          "2022-10-25T17:49:53"
         ],
         "xaxis": "x",
         "y": [
          45.0999984741211,
          44.4000015258789,
          44.4000015258789,
          44.4000015258789,
          44.4000015258789,
          43.7000007629394,
          43.7000007629394,
          44.4000015258789,
          44.4000015258789,
          44.4000015258789,
          44.4000015258789
         ],
         "yaxis": "y"
        },
        {
         "customdata": [
          [
           "172.16.172.252"
          ],
          [
           "172.16.172.252"
          ],
          [
           "172.16.172.252"
          ],
          [
           "172.16.172.252"
          ],
          [
           "172.16.172.252"
          ]
         ],
         "hovertemplate": "<br>%{x|%H:%M - %d/%m}<br>IP: %{customdata[0]}<br>BoreTemperature: %{y}<extra></extra>",
         "legendgroup": "172.16.172.252",
         "line": {
          "color": "#FF97FF",
          "dash": "solid"
         },
         "marker": {
          "symbol": "circle"
         },
         "mode": "lines+markers",
         "name": "172.16.172.252",
         "orientation": "v",
         "showlegend": true,
         "type": "scatter",
         "x": [
          "2022-10-21T10:15:04",
          "2022-10-22T10:45:43",
          "2022-10-23T10:45:51",
          "2022-10-24T10:14:59",
          "2022-10-25T10:10:30"
         ],
         "xaxis": "x",
         "y": [
          0,
          0,
          0,
          0,
          0
         ],
         "yaxis": "y"
        },
        {
         "customdata": [
          [
           "172.19.40.32"
          ],
          [
           "172.19.40.32"
          ],
          [
           "172.19.40.32"
          ],
          [
           "172.19.40.32"
          ],
          [
           "172.19.40.32"
          ]
         ],
         "hovertemplate": "<br>%{x|%H:%M - %d/%m}<br>IP: %{customdata[0]}<br>BoreTemperature: %{y}<extra></extra>",
         "legendgroup": "172.19.40.32",
         "line": {
          "color": "#FECB52",
          "dash": "solid"
         },
         "marker": {
          "symbol": "circle"
         },
         "mode": "lines+markers",
         "name": "172.19.40.32",
         "orientation": "v",
         "showlegend": true,
         "type": "scatter",
         "x": [
          "2022-10-21T10:24:41",
          "2022-10-22T09:28:30",
          "2022-10-24T10:10:16",
          "2022-10-24T11:16:23",
          "2022-10-25T09:21:25"
         ],
         "xaxis": "x",
         "y": [
          0,
          0,
          0,
          0,
          0
         ],
         "yaxis": "y"
        },
        {
         "customdata": [
          [
           "172.19.152.53"
          ],
          [
           "172.19.152.53"
          ],
          [
           "172.19.152.53"
          ],
          [
           "172.19.152.53"
          ],
          [
           "172.19.152.53"
          ],
          [
           "172.19.152.53"
          ]
         ],
         "hovertemplate": "<br>%{x|%H:%M - %d/%m}<br>IP: %{customdata[0]}<br>BoreTemperature: %{y}<extra></extra>",
         "legendgroup": "172.19.152.53",
         "line": {
          "color": "#636efa",
          "dash": "solid"
         },
         "marker": {
          "symbol": "circle"
         },
         "mode": "lines+markers",
         "name": "172.19.152.53",
         "orientation": "v",
         "showlegend": true,
         "type": "scatter",
         "x": [
          "2022-10-21T10:49:27",
          "2022-10-22T10:59:03",
          "2022-10-23T11:28:07",
          "2022-10-24T10:59:03",
          "2022-10-25T11:14:00",
          "2022-10-25T20:45:17"
         ],
         "xaxis": "x",
         "y": [
          0,
          0,
          0,
          0,
          0,
          0
         ],
         "yaxis": "y"
        },
        {
         "customdata": [
          [
           "10.23.152.30"
          ],
          [
           "10.23.152.30"
          ],
          [
           "10.23.152.30"
          ],
          [
           "10.23.152.30"
          ]
         ],
         "hovertemplate": "<br>%{x|%H:%M - %d/%m}<br>IP: %{customdata[0]}<br>BoreTemperature: %{y}<extra></extra>",
         "legendgroup": "10.23.152.30",
         "line": {
          "color": "#EF553B",
          "dash": "solid"
         },
         "marker": {
          "symbol": "circle"
         },
         "mode": "lines+markers",
         "name": "10.23.152.30",
         "orientation": "v",
         "showlegend": true,
         "type": "scatter",
         "x": [
          "2022-10-21T10:58:15",
          "2022-10-22T11:06:08",
          "2022-10-24T10:49:12",
          "2022-10-25T10:49:13"
         ],
         "xaxis": "x",
         "y": [
          0,
          0,
          0,
          0
         ],
         "yaxis": "y"
        },
        {
         "customdata": [
          [
           "172.19.156.71"
          ],
          [
           "172.19.156.71"
          ],
          [
           "172.19.156.71"
          ],
          [
           "172.19.156.71"
          ]
         ],
         "hovertemplate": "<br>%{x|%H:%M - %d/%m}<br>IP: %{customdata[0]}<br>BoreTemperature: %{y}<extra></extra>",
         "legendgroup": "172.19.156.71",
         "line": {
          "color": "#00cc96",
          "dash": "solid"
         },
         "marker": {
          "symbol": "circle"
         },
         "mode": "lines+markers",
         "name": "172.19.156.71",
         "orientation": "v",
         "showlegend": true,
         "type": "scatter",
         "x": [
          "2022-10-22T08:41:59",
          "2022-10-23T09:59:19",
          "2022-10-24T08:42:32",
          "2022-10-25T08:47:53"
         ],
         "xaxis": "x",
         "y": [
          0,
          0,
          0,
          0
         ],
         "yaxis": "y"
        },
        {
         "customdata": [
          [
           "172.19.28.70"
          ],
          [
           "172.19.28.70"
          ],
          [
           "172.19.28.70"
          ],
          [
           "172.19.28.70"
          ],
          [
           "172.19.28.70"
          ],
          [
           "172.19.28.70"
          ],
          [
           "172.19.28.70"
          ],
          [
           "172.19.28.70"
          ],
          [
           "172.19.28.70"
          ],
          [
           "172.19.28.70"
          ],
          [
           "172.19.28.70"
          ],
          [
           "172.19.28.70"
          ],
          [
           "172.19.28.70"
          ],
          [
           "172.19.28.70"
          ],
          [
           "172.19.28.70"
          ],
          [
           "172.19.28.70"
          ],
          [
           "172.19.28.70"
          ],
          [
           "172.19.28.70"
          ],
          [
           "172.19.28.70"
          ],
          [
           "172.19.28.70"
          ],
          [
           "172.19.28.70"
          ]
         ],
         "hovertemplate": "<br>%{x|%H:%M - %d/%m}<br>IP: %{customdata[0]}<br>BoreTemperature: %{y}<extra></extra>",
         "legendgroup": "172.19.28.70",
         "line": {
          "color": "#ab63fa",
          "dash": "solid"
         },
         "marker": {
          "symbol": "circle"
         },
         "mode": "lines+markers",
         "name": "172.19.28.70",
         "orientation": "v",
         "showlegend": true,
         "type": "scatter",
         "x": [
          "2022-10-22T11:00:19",
          "2022-10-22T11:00:22",
          "2022-10-23T01:47:36",
          "2022-10-23T14:10:56",
          "2022-10-23T15:15:27",
          "2022-10-23T15:19:40",
          "2022-10-23T15:20:05",
          "2022-10-24T00:27:33",
          "2022-10-24T11:00:19",
          "2022-10-24T11:00:39",
          "2022-10-24T14:02:18",
          "2022-10-24T15:34:42",
          "2022-10-24T16:31:40",
          "2022-10-24T16:48:18",
          "2022-10-24T17:05:18",
          "2022-10-24T17:25:49",
          "2022-10-24T17:40:59",
          "2022-10-24T18:56:41",
          "2022-10-24T19:19:45",
          "2022-10-25T11:00:10",
          "2022-10-25T11:00:19"
         ],
         "xaxis": "x",
         "y": [
          43,
          43,
          43,
          43,
          43,
          43.7000007629394,
          43.7000007629394,
          43.7000007629394,
          43.7000007629394,
          43.7000007629394,
          43.7000007629394,
          43.7000007629394,
          43.7000007629394,
          43.7000007629394,
          43.7000007629394,
          43.7000007629394,
          43.7000007629394,
          43.7000007629394,
          43.7000007629394,
          43,
          43
         ],
         "yaxis": "y"
        },
        {
         "customdata": [
          [
           "10.115.20.235"
          ],
          [
           "10.115.20.235"
          ],
          [
           "10.115.20.235"
          ],
          [
           "10.115.20.235"
          ],
          [
           "10.115.20.235"
          ],
          [
           "10.115.20.235"
          ],
          [
           "10.115.20.235"
          ]
         ],
         "hovertemplate": "<br>%{x|%H:%M - %d/%m}<br>IP: %{customdata[0]}<br>BoreTemperature: %{y}<extra></extra>",
         "legendgroup": "10.115.20.235",
         "line": {
          "color": "#FFA15A",
          "dash": "solid"
         },
         "marker": {
          "symbol": "circle"
         },
         "mode": "lines+markers",
         "name": "10.115.20.235",
         "orientation": "v",
         "showlegend": true,
         "type": "scatter",
         "x": [
          "2022-10-23T02:00:18",
          "2022-10-24T02:00:18",
          "2022-10-24T06:44:07",
          "2022-10-24T06:44:23",
          "2022-10-25T02:00:18",
          "2022-10-25T06:50:23",
          "2022-10-25T06:50:44"
         ],
         "xaxis": "x",
         "y": [
          49.2999992370606,
          48.5999984741211,
          48.5999984741211,
          48.5999984741211,
          49.2999992370606,
          49.2999992370606,
          49.2999992370606
         ],
         "yaxis": "y"
        },
        {
         "customdata": [
          [
           "10.115.22.239"
          ],
          [
           "10.115.22.239"
          ],
          [
           "10.115.22.239"
          ],
          [
           "10.115.22.239"
          ],
          [
           "10.115.22.239"
          ],
          [
           "10.115.22.239"
          ],
          [
           "10.115.22.239"
          ]
         ],
         "hovertemplate": "<br>%{x|%H:%M - %d/%m}<br>IP: %{customdata[0]}<br>BoreTemperature: %{y}<extra></extra>",
         "legendgroup": "10.115.22.239",
         "line": {
          "color": "#19d3f3",
          "dash": "solid"
         },
         "marker": {
          "symbol": "circle"
         },
         "mode": "lines+markers",
         "name": "10.115.22.239",
         "orientation": "v",
         "showlegend": true,
         "type": "scatter",
         "x": [
          "2022-10-23T05:00:18",
          "2022-10-24T05:00:18",
          "2022-10-24T10:11:20",
          "2022-10-24T10:11:35",
          "2022-10-25T05:00:18",
          "2022-10-25T10:18:44",
          "2022-10-25T10:18:58"
         ],
         "xaxis": "x",
         "y": [
          53.5,
          53.5,
          53.5,
          53.5,
          54.2000007629394,
          54.2000007629394,
          54.2000007629394
         ],
         "yaxis": "y"
        },
        {
         "customdata": [
          [
           "10.115.21.239"
          ],
          [
           "10.115.21.239"
          ],
          [
           "10.115.21.239"
          ],
          [
           "10.115.21.239"
          ],
          [
           "10.115.21.239"
          ],
          [
           "10.115.21.239"
          ],
          [
           "10.115.21.239"
          ],
          [
           "10.115.21.239"
          ],
          [
           "10.115.21.239"
          ],
          [
           "10.115.21.239"
          ],
          [
           "10.115.21.239"
          ]
         ],
         "hovertemplate": "<br>%{x|%H:%M - %d/%m}<br>IP: %{customdata[0]}<br>BoreTemperature: %{y}<extra></extra>",
         "legendgroup": "10.115.21.239",
         "line": {
          "color": "#FF6692",
          "dash": "solid"
         },
         "marker": {
          "symbol": "circle"
         },
         "mode": "lines+markers",
         "name": "10.115.21.239",
         "orientation": "v",
         "showlegend": true,
         "type": "scatter",
         "x": [
          "2022-10-23T05:00:18",
          "2022-10-23T09:06:10",
          "2022-10-23T09:06:34",
          "2022-10-23T15:33:17",
          "2022-10-23T15:34:05",
          "2022-10-24T05:00:18",
          "2022-10-24T09:58:33",
          "2022-10-24T09:58:53",
          "2022-10-25T05:00:18",
          "2022-10-25T10:08:41",
          "2022-10-25T10:09:03"
         ],
         "xaxis": "x",
         "y": [
          49.2999992370606,
          49.2999992370606,
          49.2999992370606,
          49.2999992370606,
          49.2999992370606,
          49.2999992370606,
          49.2999992370606,
          49.2999992370606,
          50,
          50,
          50
         ],
         "yaxis": "y"
        },
        {
         "customdata": [
          [
           "172.16.228.91"
          ],
          [
           "172.16.228.91"
          ],
          [
           "172.16.228.91"
          ],
          [
           "172.16.228.91"
          ],
          [
           "172.16.228.91"
          ],
          [
           "172.16.228.91"
          ],
          [
           "172.16.228.91"
          ],
          [
           "172.16.228.91"
          ],
          [
           "172.16.228.91"
          ]
         ],
         "hovertemplate": "<br>%{x|%H:%M - %d/%m}<br>IP: %{customdata[0]}<br>BoreTemperature: %{y}<extra></extra>",
         "legendgroup": "172.16.228.91",
         "line": {
          "color": "#B6E880",
          "dash": "solid"
         },
         "marker": {
          "symbol": "circle"
         },
         "mode": "lines+markers",
         "name": "172.16.228.91",
         "orientation": "v",
         "showlegend": true,
         "type": "scatter",
         "x": [
          "2022-10-23T05:00:19",
          "2022-10-23T10:26:19",
          "2022-10-23T10:26:45",
          "2022-10-24T05:00:19",
          "2022-10-24T10:14:44",
          "2022-10-24T10:15:09",
          "2022-10-25T05:00:19",
          "2022-10-25T10:06:07",
          "2022-10-25T10:06:33"
         ],
         "xaxis": "x",
         "y": [
          43,
          43,
          43,
          43,
          43,
          43,
          43.7000007629394,
          43,
          43
         ],
         "yaxis": "y"
        },
        {
         "customdata": [
          [
           "172.19.252.45"
          ],
          [
           "172.19.252.45"
          ],
          [
           "172.19.252.45"
          ],
          [
           "172.19.252.45"
          ],
          [
           "172.19.252.45"
          ],
          [
           "172.19.252.45"
          ]
         ],
         "hovertemplate": "<br>%{x|%H:%M - %d/%m}<br>IP: %{customdata[0]}<br>BoreTemperature: %{y}<extra></extra>",
         "legendgroup": "172.19.252.45",
         "line": {
          "color": "#FF97FF",
          "dash": "solid"
         },
         "marker": {
          "symbol": "circle"
         },
         "mode": "lines+markers",
         "name": "172.19.252.45",
         "orientation": "v",
         "showlegend": true,
         "type": "scatter",
         "x": [
          "2022-10-23T05:00:19",
          "2022-10-23T11:10:18",
          "2022-10-24T05:00:20",
          "2022-10-24T08:48:30",
          "2022-10-25T05:00:19",
          "2022-10-25T08:58:18"
         ],
         "xaxis": "x",
         "y": [
          40.2000007629394,
          40.2000007629394,
          40.2000007629394,
          40.2000007629394,
          41.5999984741211,
          41.5999984741211
         ],
         "yaxis": "y"
        },
        {
         "customdata": [
          [
           "10.23.149.13"
          ],
          [
           "10.23.149.13"
          ],
          [
           "10.23.149.13"
          ],
          [
           "10.23.149.13"
          ],
          [
           "10.23.149.13"
          ],
          [
           "10.23.149.13"
          ],
          [
           "10.23.149.13"
          ]
         ],
         "hovertemplate": "<br>%{x|%H:%M - %d/%m}<br>IP: %{customdata[0]}<br>BoreTemperature: %{y}<extra></extra>",
         "legendgroup": "10.23.149.13",
         "line": {
          "color": "#FECB52",
          "dash": "solid"
         },
         "marker": {
          "symbol": "circle"
         },
         "mode": "lines+markers",
         "name": "10.23.149.13",
         "orientation": "v",
         "showlegend": true,
         "type": "scatter",
         "x": [
          "2022-10-23T05:00:19",
          "2022-10-24T05:00:17",
          "2022-10-24T09:57:07",
          "2022-10-24T09:57:25",
          "2022-10-25T05:00:18",
          "2022-10-25T09:38:56",
          "2022-10-25T09:39:17"
         ],
         "xaxis": "x",
         "y": [
          53.5,
          51.4000015258789,
          51.4000015258789,
          51.4000015258789,
          52.7999992370606,
          52.7999992370606,
          52.7999992370606
         ],
         "yaxis": "y"
        },
        {
         "customdata": [
          [
           "172.30.1.179"
          ],
          [
           "172.30.1.179"
          ],
          [
           "172.30.1.179"
          ]
         ],
         "hovertemplate": "<br>%{x|%H:%M - %d/%m}<br>IP: %{customdata[0]}<br>BoreTemperature: %{y}<extra></extra>",
         "legendgroup": "172.30.1.179",
         "line": {
          "color": "#636efa",
          "dash": "solid"
         },
         "marker": {
          "symbol": "circle"
         },
         "mode": "lines+markers",
         "name": "172.30.1.179",
         "orientation": "v",
         "showlegend": true,
         "type": "scatter",
         "x": [
          "2022-10-23T09:59:11",
          "2022-10-24T09:02:50",
          "2022-10-25T09:04:58"
         ],
         "xaxis": "x",
         "y": [
          0,
          0,
          0
         ],
         "yaxis": "y"
        },
        {
         "customdata": [
          [
           "10.23.157.71"
          ],
          [
           "10.23.157.71"
          ],
          [
           "10.23.157.71"
          ],
          [
           "10.23.157.71"
          ],
          [
           "10.23.157.71"
          ],
          [
           "10.23.157.71"
          ]
         ],
         "hovertemplate": "<br>%{x|%H:%M - %d/%m}<br>IP: %{customdata[0]}<br>BoreTemperature: %{y}<extra></extra>",
         "legendgroup": "10.23.157.71",
         "line": {
          "color": "#EF553B",
          "dash": "solid"
         },
         "marker": {
          "symbol": "circle"
         },
         "mode": "lines+markers",
         "name": "10.23.157.71",
         "orientation": "v",
         "showlegend": true,
         "type": "scatter",
         "x": [
          "2022-10-23T09:59:28",
          "2022-10-23T10:03:33",
          "2022-10-23T10:03:57",
          "2022-10-24T09:46:31",
          "2022-10-25T05:00:19",
          "2022-10-25T09:08:57"
         ],
         "xaxis": "x",
         "y": [
          45.7999992370606,
          45.0999984741211,
          45.0999984741211,
          45.0999984741211,
          49.2999992370606,
          49.2999992370606
         ],
         "yaxis": "y"
        },
        {
         "customdata": [
          [
           "172.30.1.72"
          ],
          [
           "172.30.1.72"
          ],
          [
           "172.30.1.72"
          ]
         ],
         "hovertemplate": "<br>%{x|%H:%M - %d/%m}<br>IP: %{customdata[0]}<br>BoreTemperature: %{y}<extra></extra>",
         "legendgroup": "172.30.1.72",
         "line": {
          "color": "#00cc96",
          "dash": "solid"
         },
         "marker": {
          "symbol": "circle"
         },
         "mode": "lines+markers",
         "name": "172.30.1.72",
         "orientation": "v",
         "showlegend": true,
         "type": "scatter",
         "x": [
          "2022-10-23T10:18:25",
          "2022-10-24T09:20:40",
          "2022-10-25T09:22:45"
         ],
         "xaxis": "x",
         "y": [
          0,
          0,
          0
         ],
         "yaxis": "y"
        },
        {
         "customdata": [
          [
           "172.16.96.2"
          ],
          [
           "172.16.96.2"
          ],
          [
           "172.16.96.2"
          ]
         ],
         "hovertemplate": "<br>%{x|%H:%M - %d/%m}<br>IP: %{customdata[0]}<br>BoreTemperature: %{y}<extra></extra>",
         "legendgroup": "172.16.96.2",
         "line": {
          "color": "#ab63fa",
          "dash": "solid"
         },
         "marker": {
          "symbol": "circle"
         },
         "mode": "lines+markers",
         "name": "172.16.96.2",
         "orientation": "v",
         "showlegend": true,
         "type": "scatter",
         "x": [
          "2022-10-23T11:57:37",
          "2022-10-24T10:06:40",
          "2022-10-25T10:03:25"
         ],
         "xaxis": "x",
         "y": [
          0,
          0,
          0
         ],
         "yaxis": "y"
        },
        {
         "customdata": [
          [
           "10.23.149.30"
          ],
          [
           "10.23.149.30"
          ],
          [
           "10.23.149.30"
          ]
         ],
         "hovertemplate": "<br>%{x|%H:%M - %d/%m}<br>IP: %{customdata[0]}<br>BoreTemperature: %{y}<extra></extra>",
         "legendgroup": "10.23.149.30",
         "line": {
          "color": "#FFA15A",
          "dash": "solid"
         },
         "marker": {
          "symbol": "circle"
         },
         "mode": "lines+markers",
         "name": "10.23.149.30",
         "orientation": "v",
         "showlegend": true,
         "type": "scatter",
         "x": [
          "2022-10-24T09:41:43",
          "2022-10-25T09:23:49",
          "2022-10-25T17:25:13"
         ],
         "xaxis": "x",
         "y": [
          0,
          0,
          0
         ],
         "yaxis": "y"
        }
       ],
       "layout": {
        "height": 500,
        "legend": {
         "title": {
          "text": "IP"
         },
         "tracegroupgap": 0
        },
        "template": {
         "data": {
          "bar": [
           {
            "error_x": {
             "color": "#2a3f5f"
            },
            "error_y": {
             "color": "#2a3f5f"
            },
            "marker": {
             "line": {
              "color": "white",
              "width": 0.5
             },
             "pattern": {
              "fillmode": "overlay",
              "size": 10,
              "solidity": 0.2
             }
            },
            "type": "bar"
           }
          ],
          "barpolar": [
           {
            "marker": {
             "line": {
              "color": "white",
              "width": 0.5
             },
             "pattern": {
              "fillmode": "overlay",
              "size": 10,
              "solidity": 0.2
             }
            },
            "type": "barpolar"
           }
          ],
          "carpet": [
           {
            "aaxis": {
             "endlinecolor": "#2a3f5f",
             "gridcolor": "#C8D4E3",
             "linecolor": "#C8D4E3",
             "minorgridcolor": "#C8D4E3",
             "startlinecolor": "#2a3f5f"
            },
            "baxis": {
             "endlinecolor": "#2a3f5f",
             "gridcolor": "#C8D4E3",
             "linecolor": "#C8D4E3",
             "minorgridcolor": "#C8D4E3",
             "startlinecolor": "#2a3f5f"
            },
            "type": "carpet"
           }
          ],
          "choropleth": [
           {
            "colorbar": {
             "outlinewidth": 0,
             "ticks": ""
            },
            "type": "choropleth"
           }
          ],
          "contour": [
           {
            "colorbar": {
             "outlinewidth": 0,
             "ticks": ""
            },
            "colorscale": [
             [
              0,
              "#0d0887"
             ],
             [
              0.1111111111111111,
              "#46039f"
             ],
             [
              0.2222222222222222,
              "#7201a8"
             ],
             [
              0.3333333333333333,
              "#9c179e"
             ],
             [
              0.4444444444444444,
              "#bd3786"
             ],
             [
              0.5555555555555556,
              "#d8576b"
             ],
             [
              0.6666666666666666,
              "#ed7953"
             ],
             [
              0.7777777777777778,
              "#fb9f3a"
             ],
             [
              0.8888888888888888,
              "#fdca26"
             ],
             [
              1,
              "#f0f921"
             ]
            ],
            "type": "contour"
           }
          ],
          "contourcarpet": [
           {
            "colorbar": {
             "outlinewidth": 0,
             "ticks": ""
            },
            "type": "contourcarpet"
           }
          ],
          "heatmap": [
           {
            "colorbar": {
             "outlinewidth": 0,
             "ticks": ""
            },
            "colorscale": [
             [
              0,
              "#0d0887"
             ],
             [
              0.1111111111111111,
              "#46039f"
             ],
             [
              0.2222222222222222,
              "#7201a8"
             ],
             [
              0.3333333333333333,
              "#9c179e"
             ],
             [
              0.4444444444444444,
              "#bd3786"
             ],
             [
              0.5555555555555556,
              "#d8576b"
             ],
             [
              0.6666666666666666,
              "#ed7953"
             ],
             [
              0.7777777777777778,
              "#fb9f3a"
             ],
             [
              0.8888888888888888,
              "#fdca26"
             ],
             [
              1,
              "#f0f921"
             ]
            ],
            "type": "heatmap"
           }
          ],
          "heatmapgl": [
           {
            "colorbar": {
             "outlinewidth": 0,
             "ticks": ""
            },
            "colorscale": [
             [
              0,
              "#0d0887"
             ],
             [
              0.1111111111111111,
              "#46039f"
             ],
             [
              0.2222222222222222,
              "#7201a8"
             ],
             [
              0.3333333333333333,
              "#9c179e"
             ],
             [
              0.4444444444444444,
              "#bd3786"
             ],
             [
              0.5555555555555556,
              "#d8576b"
             ],
             [
              0.6666666666666666,
              "#ed7953"
             ],
             [
              0.7777777777777778,
              "#fb9f3a"
             ],
             [
              0.8888888888888888,
              "#fdca26"
             ],
             [
              1,
              "#f0f921"
             ]
            ],
            "type": "heatmapgl"
           }
          ],
          "histogram": [
           {
            "marker": {
             "pattern": {
              "fillmode": "overlay",
              "size": 10,
              "solidity": 0.2
             }
            },
            "type": "histogram"
           }
          ],
          "histogram2d": [
           {
            "colorbar": {
             "outlinewidth": 0,
             "ticks": ""
            },
            "colorscale": [
             [
              0,
              "#0d0887"
             ],
             [
              0.1111111111111111,
              "#46039f"
             ],
             [
              0.2222222222222222,
              "#7201a8"
             ],
             [
              0.3333333333333333,
              "#9c179e"
             ],
             [
              0.4444444444444444,
              "#bd3786"
             ],
             [
              0.5555555555555556,
              "#d8576b"
             ],
             [
              0.6666666666666666,
              "#ed7953"
             ],
             [
              0.7777777777777778,
              "#fb9f3a"
             ],
             [
              0.8888888888888888,
              "#fdca26"
             ],
             [
              1,
              "#f0f921"
             ]
            ],
            "type": "histogram2d"
           }
          ],
          "histogram2dcontour": [
           {
            "colorbar": {
             "outlinewidth": 0,
             "ticks": ""
            },
            "colorscale": [
             [
              0,
              "#0d0887"
             ],
             [
              0.1111111111111111,
              "#46039f"
             ],
             [
              0.2222222222222222,
              "#7201a8"
             ],
             [
              0.3333333333333333,
              "#9c179e"
             ],
             [
              0.4444444444444444,
              "#bd3786"
             ],
             [
              0.5555555555555556,
              "#d8576b"
             ],
             [
              0.6666666666666666,
              "#ed7953"
             ],
             [
              0.7777777777777778,
              "#fb9f3a"
             ],
             [
              0.8888888888888888,
              "#fdca26"
             ],
             [
              1,
              "#f0f921"
             ]
            ],
            "type": "histogram2dcontour"
           }
          ],
          "mesh3d": [
           {
            "colorbar": {
             "outlinewidth": 0,
             "ticks": ""
            },
            "type": "mesh3d"
           }
          ],
          "parcoords": [
           {
            "line": {
             "colorbar": {
              "outlinewidth": 0,
              "ticks": ""
             }
            },
            "type": "parcoords"
           }
          ],
          "pie": [
           {
            "automargin": true,
            "type": "pie"
           }
          ],
          "scatter": [
           {
            "fillpattern": {
             "fillmode": "overlay",
             "size": 10,
             "solidity": 0.2
            },
            "type": "scatter"
           }
          ],
          "scatter3d": [
           {
            "line": {
             "colorbar": {
              "outlinewidth": 0,
              "ticks": ""
             }
            },
            "marker": {
             "colorbar": {
              "outlinewidth": 0,
              "ticks": ""
             }
            },
            "type": "scatter3d"
           }
          ],
          "scattercarpet": [
           {
            "marker": {
             "colorbar": {
              "outlinewidth": 0,
              "ticks": ""
             }
            },
            "type": "scattercarpet"
           }
          ],
          "scattergeo": [
           {
            "marker": {
             "colorbar": {
              "outlinewidth": 0,
              "ticks": ""
             }
            },
            "type": "scattergeo"
           }
          ],
          "scattergl": [
           {
            "marker": {
             "colorbar": {
              "outlinewidth": 0,
              "ticks": ""
             }
            },
            "type": "scattergl"
           }
          ],
          "scattermapbox": [
           {
            "marker": {
             "colorbar": {
              "outlinewidth": 0,
              "ticks": ""
             }
            },
            "type": "scattermapbox"
           }
          ],
          "scatterpolar": [
           {
            "marker": {
             "colorbar": {
              "outlinewidth": 0,
              "ticks": ""
             }
            },
            "type": "scatterpolar"
           }
          ],
          "scatterpolargl": [
           {
            "marker": {
             "colorbar": {
              "outlinewidth": 0,
              "ticks": ""
             }
            },
            "type": "scatterpolargl"
           }
          ],
          "scatterternary": [
           {
            "marker": {
             "colorbar": {
              "outlinewidth": 0,
              "ticks": ""
             }
            },
            "type": "scatterternary"
           }
          ],
          "surface": [
           {
            "colorbar": {
             "outlinewidth": 0,
             "ticks": ""
            },
            "colorscale": [
             [
              0,
              "#0d0887"
             ],
             [
              0.1111111111111111,
              "#46039f"
             ],
             [
              0.2222222222222222,
              "#7201a8"
             ],
             [
              0.3333333333333333,
              "#9c179e"
             ],
             [
              0.4444444444444444,
              "#bd3786"
             ],
             [
              0.5555555555555556,
              "#d8576b"
             ],
             [
              0.6666666666666666,
              "#ed7953"
             ],
             [
              0.7777777777777778,
              "#fb9f3a"
             ],
             [
              0.8888888888888888,
              "#fdca26"
             ],
             [
              1,
              "#f0f921"
             ]
            ],
            "type": "surface"
           }
          ],
          "table": [
           {
            "cells": {
             "fill": {
              "color": "#EBF0F8"
             },
             "line": {
              "color": "white"
             }
            },
            "header": {
             "fill": {
              "color": "#C8D4E3"
             },
             "line": {
              "color": "white"
             }
            },
            "type": "table"
           }
          ]
         },
         "layout": {
          "annotationdefaults": {
           "arrowcolor": "#2a3f5f",
           "arrowhead": 0,
           "arrowwidth": 1
          },
          "autotypenumbers": "strict",
          "coloraxis": {
           "colorbar": {
            "outlinewidth": 0,
            "ticks": ""
           }
          },
          "colorscale": {
           "diverging": [
            [
             0,
             "#8e0152"
            ],
            [
             0.1,
             "#c51b7d"
            ],
            [
             0.2,
             "#de77ae"
            ],
            [
             0.3,
             "#f1b6da"
            ],
            [
             0.4,
             "#fde0ef"
            ],
            [
             0.5,
             "#f7f7f7"
            ],
            [
             0.6,
             "#e6f5d0"
            ],
            [
             0.7,
             "#b8e186"
            ],
            [
             0.8,
             "#7fbc41"
            ],
            [
             0.9,
             "#4d9221"
            ],
            [
             1,
             "#276419"
            ]
           ],
           "sequential": [
            [
             0,
             "#0d0887"
            ],
            [
             0.1111111111111111,
             "#46039f"
            ],
            [
             0.2222222222222222,
             "#7201a8"
            ],
            [
             0.3333333333333333,
             "#9c179e"
            ],
            [
             0.4444444444444444,
             "#bd3786"
            ],
            [
             0.5555555555555556,
             "#d8576b"
            ],
            [
             0.6666666666666666,
             "#ed7953"
            ],
            [
             0.7777777777777778,
             "#fb9f3a"
            ],
            [
             0.8888888888888888,
             "#fdca26"
            ],
            [
             1,
             "#f0f921"
            ]
           ],
           "sequentialminus": [
            [
             0,
             "#0d0887"
            ],
            [
             0.1111111111111111,
             "#46039f"
            ],
            [
             0.2222222222222222,
             "#7201a8"
            ],
            [
             0.3333333333333333,
             "#9c179e"
            ],
            [
             0.4444444444444444,
             "#bd3786"
            ],
            [
             0.5555555555555556,
             "#d8576b"
            ],
            [
             0.6666666666666666,
             "#ed7953"
            ],
            [
             0.7777777777777778,
             "#fb9f3a"
            ],
            [
             0.8888888888888888,
             "#fdca26"
            ],
            [
             1,
             "#f0f921"
            ]
           ]
          },
          "colorway": [
           "#636efa",
           "#EF553B",
           "#00cc96",
           "#ab63fa",
           "#FFA15A",
           "#19d3f3",
           "#FF6692",
           "#B6E880",
           "#FF97FF",
           "#FECB52"
          ],
          "font": {
           "color": "#2a3f5f"
          },
          "geo": {
           "bgcolor": "white",
           "lakecolor": "white",
           "landcolor": "white",
           "showlakes": true,
           "showland": true,
           "subunitcolor": "#C8D4E3"
          },
          "hoverlabel": {
           "align": "left"
          },
          "hovermode": "closest",
          "mapbox": {
           "style": "light"
          },
          "paper_bgcolor": "white",
          "plot_bgcolor": "white",
          "polar": {
           "angularaxis": {
            "gridcolor": "#EBF0F8",
            "linecolor": "#EBF0F8",
            "ticks": ""
           },
           "bgcolor": "white",
           "radialaxis": {
            "gridcolor": "#EBF0F8",
            "linecolor": "#EBF0F8",
            "ticks": ""
           }
          },
          "scene": {
           "xaxis": {
            "backgroundcolor": "white",
            "gridcolor": "#DFE8F3",
            "gridwidth": 2,
            "linecolor": "#EBF0F8",
            "showbackground": true,
            "ticks": "",
            "zerolinecolor": "#EBF0F8"
           },
           "yaxis": {
            "backgroundcolor": "white",
            "gridcolor": "#DFE8F3",
            "gridwidth": 2,
            "linecolor": "#EBF0F8",
            "showbackground": true,
            "ticks": "",
            "zerolinecolor": "#EBF0F8"
           },
           "zaxis": {
            "backgroundcolor": "white",
            "gridcolor": "#DFE8F3",
            "gridwidth": 2,
            "linecolor": "#EBF0F8",
            "showbackground": true,
            "ticks": "",
            "zerolinecolor": "#EBF0F8"
           }
          },
          "shapedefaults": {
           "line": {
            "color": "#2a3f5f"
           }
          },
          "ternary": {
           "aaxis": {
            "gridcolor": "#DFE8F3",
            "linecolor": "#A2B1C6",
            "ticks": ""
           },
           "baxis": {
            "gridcolor": "#DFE8F3",
            "linecolor": "#A2B1C6",
            "ticks": ""
           },
           "bgcolor": "white",
           "caxis": {
            "gridcolor": "#DFE8F3",
            "linecolor": "#A2B1C6",
            "ticks": ""
           }
          },
          "title": {
           "x": 0.05
          },
          "xaxis": {
           "automargin": true,
           "gridcolor": "#EBF0F8",
           "linecolor": "#EBF0F8",
           "ticks": "",
           "title": {
            "standoff": 15
           },
           "zerolinecolor": "#EBF0F8",
           "zerolinewidth": 2
          },
          "yaxis": {
           "automargin": true,
           "gridcolor": "#EBF0F8",
           "linecolor": "#EBF0F8",
           "ticks": "",
           "title": {
            "standoff": 15
           },
           "zerolinecolor": "#EBF0F8",
           "zerolinewidth": 2
          }
         }
        },
        "title": {
         "text": "Séries Temporais para BoreTemperature"
        },
        "xaxis": {
         "anchor": "y",
         "domain": [
          0,
          1
         ],
         "title": {
          "text": "Data"
         }
        },
        "yaxis": {
         "anchor": "x",
         "domain": [
          0,
          1
         ],
         "showgrid": false,
         "title": {
          "text": "BoreTemperature"
         }
        }
       }
      },
      "text/html": [
       "<div>                            <div id=\"eca49c0b-3a53-45f1-baa6-32964b8ae05e\" class=\"plotly-graph-div\" style=\"height:500px; width:100%;\"></div>            <script type=\"text/javascript\">                require([\"plotly\"], function(Plotly) {                    window.PLOTLYENV=window.PLOTLYENV || {};                                    if (document.getElementById(\"eca49c0b-3a53-45f1-baa6-32964b8ae05e\")) {                    Plotly.newPlot(                        \"eca49c0b-3a53-45f1-baa6-32964b8ae05e\",                        [{\"customdata\":[[\"172.22.8.31\"],[\"172.22.8.31\"],[\"172.22.8.31\"],[\"172.22.8.31\"],[\"172.22.8.31\"],[\"172.22.8.31\"],[\"172.22.8.31\"],[\"172.22.8.31\"],[\"172.22.8.31\"]],\"hovertemplate\":\"<br>%{x|%H:%M - %d/%m}<br>IP: %{customdata[0]}<br>BoreTemperature: %{y}<extra></extra>\",\"legendgroup\":\"172.22.8.31\",\"line\":{\"color\":\"#636efa\",\"dash\":\"solid\"},\"marker\":{\"symbol\":\"circle\"},\"mode\":\"lines+markers\",\"name\":\"172.22.8.31\",\"orientation\":\"v\",\"showlegend\":true,\"x\":[\"2022-10-21T02:00:19\",\"2022-10-21T06:23:47\",\"2022-10-22T02:00:19\",\"2022-10-22T06:21:05\",\"2022-10-23T02:00:19\",\"2022-10-24T02:00:19\",\"2022-10-24T06:26:59\",\"2022-10-25T02:00:20\",\"2022-10-25T06:27:29\"],\"xaxis\":\"x\",\"y\":[46.5,46.5,45.7999992370606,45.7999992370606,45.7999992370606,45.7999992370606,45.7999992370606,45.7999992370606,45.7999992370606],\"yaxis\":\"y\",\"type\":\"scatter\"},{\"customdata\":[[\"10.115.16.230\"],[\"10.115.16.230\"],[\"10.115.16.230\"],[\"10.115.16.230\"],[\"10.115.16.230\"],[\"10.115.16.230\"],[\"10.115.16.230\"],[\"10.115.16.230\"],[\"10.115.16.230\"],[\"10.115.16.230\"],[\"10.115.16.230\"]],\"hovertemplate\":\"<br>%{x|%H:%M - %d/%m}<br>IP: %{customdata[0]}<br>BoreTemperature: %{y}<extra></extra>\",\"legendgroup\":\"10.115.16.230\",\"line\":{\"color\":\"#EF553B\",\"dash\":\"solid\"},\"marker\":{\"symbol\":\"circle\"},\"mode\":\"lines+markers\",\"name\":\"10.115.16.230\",\"orientation\":\"v\",\"showlegend\":true,\"x\":[\"2022-10-21T05:00:17\",\"2022-10-21T05:00:39\",\"2022-10-22T05:00:18\",\"2022-10-22T05:00:37\",\"2022-10-23T05:00:17\",\"2022-10-23T11:44:39\",\"2022-10-23T11:44:44\",\"2022-10-24T05:00:18\",\"2022-10-24T11:15:37\",\"2022-10-25T05:00:18\",\"2022-10-25T05:00:46\"],\"xaxis\":\"x\",\"y\":[53.5,53.5,53.5,53.5,53.5,53.5,53.5,53.5,53.5,53.5,53.5],\"yaxis\":\"y\",\"type\":\"scatter\"},{\"customdata\":[[\"10.115.17.226\"],[\"10.115.17.226\"],[\"10.115.17.226\"],[\"10.115.17.226\"],[\"10.115.17.226\"],[\"10.115.17.226\"],[\"10.115.17.226\"],[\"10.115.17.226\"],[\"10.115.17.226\"],[\"10.115.17.226\"],[\"10.115.17.226\"],[\"10.115.17.226\"],[\"10.115.17.226\"],[\"10.115.17.226\"],[\"10.115.17.226\"],[\"10.115.17.226\"],[\"10.115.17.226\"],[\"10.115.17.226\"]],\"hovertemplate\":\"<br>%{x|%H:%M - %d/%m}<br>IP: %{customdata[0]}<br>BoreTemperature: %{y}<extra></extra>\",\"legendgroup\":\"10.115.17.226\",\"line\":{\"color\":\"#00cc96\",\"dash\":\"solid\"},\"marker\":{\"symbol\":\"circle\"},\"mode\":\"lines+markers\",\"name\":\"10.115.17.226\",\"orientation\":\"v\",\"showlegend\":true,\"x\":[\"2022-10-21T05:00:18\",\"2022-10-21T09:40:14\",\"2022-10-21T09:40:24\",\"2022-10-21T12:23:49\",\"2022-10-21T12:24:24\",\"2022-10-22T05:00:19\",\"2022-10-22T09:23:23\",\"2022-10-22T09:23:33\",\"2022-10-22T10:08:28\",\"2022-10-22T10:09:01\",\"2022-10-23T05:00:18\",\"2022-10-23T09:18:40\",\"2022-10-23T09:18:51\",\"2022-10-24T09:31:44\",\"2022-10-24T21:11:51\",\"2022-10-24T21:12:27\",\"2022-10-25T05:00:18\",\"2022-10-25T09:59:37\"],\"xaxis\":\"x\",\"y\":[59.7999992370606,59.7999992370606,59.7999992370606,59.7999992370606,59.7999992370606,68.0999984741211,68.0999984741211,68.0999984741211,68.0999984741211,68.0999984741211,75.5999984741211,75.5999984741211,75.5999984741211,77.0,77.0,77.0,67.4000015258789,67.4000015258789],\"yaxis\":\"y\",\"type\":\"scatter\"},{\"customdata\":[[\"172.17.216.6\"],[\"172.17.216.6\"],[\"172.17.216.6\"],[\"172.17.216.6\"],[\"172.17.216.6\"],[\"172.17.216.6\"],[\"172.17.216.6\"],[\"172.17.216.6\"],[\"172.17.216.6\"]],\"hovertemplate\":\"<br>%{x|%H:%M - %d/%m}<br>IP: %{customdata[0]}<br>BoreTemperature: %{y}<extra></extra>\",\"legendgroup\":\"172.17.216.6\",\"line\":{\"color\":\"#ab63fa\",\"dash\":\"solid\"},\"marker\":{\"symbol\":\"circle\"},\"mode\":\"lines+markers\",\"name\":\"172.17.216.6\",\"orientation\":\"v\",\"showlegend\":true,\"x\":[\"2022-10-21T05:00:19\",\"2022-10-21T17:00:20\",\"2022-10-22T05:00:21\",\"2022-10-23T05:00:20\",\"2022-10-23T17:00:19\",\"2022-10-24T05:00:19\",\"2022-10-24T17:00:19\",\"2022-10-25T05:00:19\",\"2022-10-25T17:00:19\"],\"xaxis\":\"x\",\"y\":[53.5,57.7000007629394,54.9000015258789,54.2000007629394,58.4000015258789,59.7999992370606,57.7000007629394,56.2999992370606,57.0],\"yaxis\":\"y\",\"type\":\"scatter\"},{\"customdata\":[[\"10.23.152.32\"],[\"10.23.152.32\"],[\"10.23.152.32\"],[\"10.23.152.32\"],[\"10.23.152.32\"],[\"10.23.152.32\"],[\"10.23.152.32\"],[\"10.23.152.32\"],[\"10.23.152.32\"],[\"10.23.152.32\"],[\"10.23.152.32\"],[\"10.23.152.32\"],[\"10.23.152.32\"]],\"hovertemplate\":\"<br>%{x|%H:%M - %d/%m}<br>IP: %{customdata[0]}<br>BoreTemperature: %{y}<extra></extra>\",\"legendgroup\":\"10.23.152.32\",\"line\":{\"color\":\"#FFA15A\",\"dash\":\"solid\"},\"marker\":{\"symbol\":\"circle\"},\"mode\":\"lines+markers\",\"name\":\"10.23.152.32\",\"orientation\":\"v\",\"showlegend\":true,\"x\":[\"2022-10-21T05:00:20\",\"2022-10-21T09:53:56\",\"2022-10-21T09:54:21\",\"2022-10-22T05:00:19\",\"2022-10-22T10:01:28\",\"2022-10-22T10:01:54\",\"2022-10-23T05:00:19\",\"2022-10-24T05:00:19\",\"2022-10-24T09:44:11\",\"2022-10-24T09:44:36\",\"2022-10-25T05:00:20\",\"2022-10-25T09:44:13\",\"2022-10-25T09:44:38\"],\"xaxis\":\"x\",\"y\":[43.0,43.0,43.0,43.0,43.0,43.0,43.0,42.2999992370606,42.2999992370606,42.2999992370606,43.0,43.0,43.0],\"yaxis\":\"y\",\"type\":\"scatter\"},{\"customdata\":[[\"192.100.16.66\"],[\"192.100.16.66\"],[\"192.100.16.66\"],[\"192.100.16.66\"],[\"192.100.16.66\"],[\"192.100.16.66\"],[\"192.100.16.66\"],[\"192.100.16.66\"],[\"192.100.16.66\"],[\"192.100.16.66\"],[\"192.100.16.66\"],[\"192.100.16.66\"],[\"192.100.16.66\"],[\"192.100.16.66\"],[\"192.100.16.66\"]],\"hovertemplate\":\"<br>%{x|%H:%M - %d/%m}<br>IP: %{customdata[0]}<br>BoreTemperature: %{y}<extra></extra>\",\"legendgroup\":\"192.100.16.66\",\"line\":{\"color\":\"#19d3f3\",\"dash\":\"solid\"},\"marker\":{\"symbol\":\"circle\"},\"mode\":\"lines+markers\",\"name\":\"192.100.16.66\",\"orientation\":\"v\",\"showlegend\":true,\"x\":[\"2022-10-21T05:00:20\",\"2022-10-21T09:09:10\",\"2022-10-21T09:09:36\",\"2022-10-22T05:00:21\",\"2022-10-22T09:53:40\",\"2022-10-22T09:54:05\",\"2022-10-23T05:00:20\",\"2022-10-23T09:58:51\",\"2022-10-23T09:59:16\",\"2022-10-24T05:00:21\",\"2022-10-24T09:36:59\",\"2022-10-24T09:37:24\",\"2022-10-25T05:00:20\",\"2022-10-25T10:24:46\",\"2022-10-25T10:25:11\"],\"xaxis\":\"x\",\"y\":[42.2999992370606,42.2999992370606,42.2999992370606,43.0,42.2999992370606,42.2999992370606,42.2999992370606,42.2999992370606,42.2999992370606,42.2999992370606,42.2999992370606,42.2999992370606,43.0,42.2999992370606,42.2999992370606],\"yaxis\":\"y\",\"type\":\"scatter\"},{\"customdata\":[[\"10.99.80.179\"],[\"10.99.80.179\"],[\"10.99.80.179\"],[\"10.99.80.179\"],[\"10.99.80.179\"],[\"10.99.80.179\"],[\"10.99.80.179\"],[\"10.99.80.179\"],[\"10.99.80.179\"],[\"10.99.80.179\"],[\"10.99.80.179\"],[\"10.99.80.179\"],[\"10.99.80.179\"],[\"10.99.80.179\"],[\"10.99.80.179\"]],\"hovertemplate\":\"<br>%{x|%H:%M - %d/%m}<br>IP: %{customdata[0]}<br>BoreTemperature: %{y}<extra></extra>\",\"legendgroup\":\"10.99.80.179\",\"line\":{\"color\":\"#FF6692\",\"dash\":\"solid\"},\"marker\":{\"symbol\":\"circle\"},\"mode\":\"lines+markers\",\"name\":\"10.99.80.179\",\"orientation\":\"v\",\"showlegend\":true,\"x\":[\"2022-10-21T05:00:27\",\"2022-10-21T09:07:21\",\"2022-10-21T09:07:44\",\"2022-10-22T05:00:26\",\"2022-10-22T09:38:52\",\"2022-10-22T09:39:15\",\"2022-10-23T05:00:26\",\"2022-10-23T09:03:57\",\"2022-10-23T09:04:20\",\"2022-10-24T05:00:27\",\"2022-10-24T09:34:58\",\"2022-10-24T09:35:21\",\"2022-10-25T05:00:27\",\"2022-10-25T09:20:42\",\"2022-10-25T09:21:07\"],\"xaxis\":\"x\",\"y\":[48.5999984741211,48.5999984741211,48.5999984741211,47.9000015258789,47.9000015258789,47.9000015258789,47.2000007629394,47.2000007629394,47.2000007629394,46.5,46.5,46.5,49.2999992370606,49.2999992370606,49.2999992370606],\"yaxis\":\"y\",\"type\":\"scatter\"},{\"customdata\":[[\"10.23.153.13\"],[\"10.23.153.13\"],[\"10.23.153.13\"],[\"10.23.153.13\"],[\"10.23.153.13\"],[\"10.23.153.13\"],[\"10.23.153.13\"],[\"10.23.153.13\"],[\"10.23.153.13\"],[\"10.23.153.13\"],[\"10.23.153.13\"]],\"hovertemplate\":\"<br>%{x|%H:%M - %d/%m}<br>IP: %{customdata[0]}<br>BoreTemperature: %{y}<extra></extra>\",\"legendgroup\":\"10.23.153.13\",\"line\":{\"color\":\"#B6E880\",\"dash\":\"solid\"},\"marker\":{\"symbol\":\"circle\"},\"mode\":\"lines+markers\",\"name\":\"10.23.153.13\",\"orientation\":\"v\",\"showlegend\":true,\"x\":[\"2022-10-21T09:02:47\",\"2022-10-22T10:09:00\",\"2022-10-22T10:13:06\",\"2022-10-22T10:13:29\",\"2022-10-23T05:00:20\",\"2022-10-24T05:00:19\",\"2022-10-24T09:04:56\",\"2022-10-25T05:00:19\",\"2022-10-25T09:00:15\",\"2022-10-25T17:25:49\",\"2022-10-25T17:49:53\"],\"xaxis\":\"x\",\"y\":[45.0999984741211,44.4000015258789,44.4000015258789,44.4000015258789,44.4000015258789,43.7000007629394,43.7000007629394,44.4000015258789,44.4000015258789,44.4000015258789,44.4000015258789],\"yaxis\":\"y\",\"type\":\"scatter\"},{\"customdata\":[[\"172.16.172.252\"],[\"172.16.172.252\"],[\"172.16.172.252\"],[\"172.16.172.252\"],[\"172.16.172.252\"]],\"hovertemplate\":\"<br>%{x|%H:%M - %d/%m}<br>IP: %{customdata[0]}<br>BoreTemperature: %{y}<extra></extra>\",\"legendgroup\":\"172.16.172.252\",\"line\":{\"color\":\"#FF97FF\",\"dash\":\"solid\"},\"marker\":{\"symbol\":\"circle\"},\"mode\":\"lines+markers\",\"name\":\"172.16.172.252\",\"orientation\":\"v\",\"showlegend\":true,\"x\":[\"2022-10-21T10:15:04\",\"2022-10-22T10:45:43\",\"2022-10-23T10:45:51\",\"2022-10-24T10:14:59\",\"2022-10-25T10:10:30\"],\"xaxis\":\"x\",\"y\":[0.0,0.0,0.0,0.0,0.0],\"yaxis\":\"y\",\"type\":\"scatter\"},{\"customdata\":[[\"172.19.40.32\"],[\"172.19.40.32\"],[\"172.19.40.32\"],[\"172.19.40.32\"],[\"172.19.40.32\"]],\"hovertemplate\":\"<br>%{x|%H:%M - %d/%m}<br>IP: %{customdata[0]}<br>BoreTemperature: %{y}<extra></extra>\",\"legendgroup\":\"172.19.40.32\",\"line\":{\"color\":\"#FECB52\",\"dash\":\"solid\"},\"marker\":{\"symbol\":\"circle\"},\"mode\":\"lines+markers\",\"name\":\"172.19.40.32\",\"orientation\":\"v\",\"showlegend\":true,\"x\":[\"2022-10-21T10:24:41\",\"2022-10-22T09:28:30\",\"2022-10-24T10:10:16\",\"2022-10-24T11:16:23\",\"2022-10-25T09:21:25\"],\"xaxis\":\"x\",\"y\":[0.0,0.0,0.0,0.0,0.0],\"yaxis\":\"y\",\"type\":\"scatter\"},{\"customdata\":[[\"172.19.152.53\"],[\"172.19.152.53\"],[\"172.19.152.53\"],[\"172.19.152.53\"],[\"172.19.152.53\"],[\"172.19.152.53\"]],\"hovertemplate\":\"<br>%{x|%H:%M - %d/%m}<br>IP: %{customdata[0]}<br>BoreTemperature: %{y}<extra></extra>\",\"legendgroup\":\"172.19.152.53\",\"line\":{\"color\":\"#636efa\",\"dash\":\"solid\"},\"marker\":{\"symbol\":\"circle\"},\"mode\":\"lines+markers\",\"name\":\"172.19.152.53\",\"orientation\":\"v\",\"showlegend\":true,\"x\":[\"2022-10-21T10:49:27\",\"2022-10-22T10:59:03\",\"2022-10-23T11:28:07\",\"2022-10-24T10:59:03\",\"2022-10-25T11:14:00\",\"2022-10-25T20:45:17\"],\"xaxis\":\"x\",\"y\":[0.0,0.0,0.0,0.0,0.0,0.0],\"yaxis\":\"y\",\"type\":\"scatter\"},{\"customdata\":[[\"10.23.152.30\"],[\"10.23.152.30\"],[\"10.23.152.30\"],[\"10.23.152.30\"]],\"hovertemplate\":\"<br>%{x|%H:%M - %d/%m}<br>IP: %{customdata[0]}<br>BoreTemperature: %{y}<extra></extra>\",\"legendgroup\":\"10.23.152.30\",\"line\":{\"color\":\"#EF553B\",\"dash\":\"solid\"},\"marker\":{\"symbol\":\"circle\"},\"mode\":\"lines+markers\",\"name\":\"10.23.152.30\",\"orientation\":\"v\",\"showlegend\":true,\"x\":[\"2022-10-21T10:58:15\",\"2022-10-22T11:06:08\",\"2022-10-24T10:49:12\",\"2022-10-25T10:49:13\"],\"xaxis\":\"x\",\"y\":[0.0,0.0,0.0,0.0],\"yaxis\":\"y\",\"type\":\"scatter\"},{\"customdata\":[[\"172.19.156.71\"],[\"172.19.156.71\"],[\"172.19.156.71\"],[\"172.19.156.71\"]],\"hovertemplate\":\"<br>%{x|%H:%M - %d/%m}<br>IP: %{customdata[0]}<br>BoreTemperature: %{y}<extra></extra>\",\"legendgroup\":\"172.19.156.71\",\"line\":{\"color\":\"#00cc96\",\"dash\":\"solid\"},\"marker\":{\"symbol\":\"circle\"},\"mode\":\"lines+markers\",\"name\":\"172.19.156.71\",\"orientation\":\"v\",\"showlegend\":true,\"x\":[\"2022-10-22T08:41:59\",\"2022-10-23T09:59:19\",\"2022-10-24T08:42:32\",\"2022-10-25T08:47:53\"],\"xaxis\":\"x\",\"y\":[0.0,0.0,0.0,0.0],\"yaxis\":\"y\",\"type\":\"scatter\"},{\"customdata\":[[\"172.19.28.70\"],[\"172.19.28.70\"],[\"172.19.28.70\"],[\"172.19.28.70\"],[\"172.19.28.70\"],[\"172.19.28.70\"],[\"172.19.28.70\"],[\"172.19.28.70\"],[\"172.19.28.70\"],[\"172.19.28.70\"],[\"172.19.28.70\"],[\"172.19.28.70\"],[\"172.19.28.70\"],[\"172.19.28.70\"],[\"172.19.28.70\"],[\"172.19.28.70\"],[\"172.19.28.70\"],[\"172.19.28.70\"],[\"172.19.28.70\"],[\"172.19.28.70\"],[\"172.19.28.70\"]],\"hovertemplate\":\"<br>%{x|%H:%M - %d/%m}<br>IP: %{customdata[0]}<br>BoreTemperature: %{y}<extra></extra>\",\"legendgroup\":\"172.19.28.70\",\"line\":{\"color\":\"#ab63fa\",\"dash\":\"solid\"},\"marker\":{\"symbol\":\"circle\"},\"mode\":\"lines+markers\",\"name\":\"172.19.28.70\",\"orientation\":\"v\",\"showlegend\":true,\"x\":[\"2022-10-22T11:00:19\",\"2022-10-22T11:00:22\",\"2022-10-23T01:47:36\",\"2022-10-23T14:10:56\",\"2022-10-23T15:15:27\",\"2022-10-23T15:19:40\",\"2022-10-23T15:20:05\",\"2022-10-24T00:27:33\",\"2022-10-24T11:00:19\",\"2022-10-24T11:00:39\",\"2022-10-24T14:02:18\",\"2022-10-24T15:34:42\",\"2022-10-24T16:31:40\",\"2022-10-24T16:48:18\",\"2022-10-24T17:05:18\",\"2022-10-24T17:25:49\",\"2022-10-24T17:40:59\",\"2022-10-24T18:56:41\",\"2022-10-24T19:19:45\",\"2022-10-25T11:00:10\",\"2022-10-25T11:00:19\"],\"xaxis\":\"x\",\"y\":[43.0,43.0,43.0,43.0,43.0,43.7000007629394,43.7000007629394,43.7000007629394,43.7000007629394,43.7000007629394,43.7000007629394,43.7000007629394,43.7000007629394,43.7000007629394,43.7000007629394,43.7000007629394,43.7000007629394,43.7000007629394,43.7000007629394,43.0,43.0],\"yaxis\":\"y\",\"type\":\"scatter\"},{\"customdata\":[[\"10.115.20.235\"],[\"10.115.20.235\"],[\"10.115.20.235\"],[\"10.115.20.235\"],[\"10.115.20.235\"],[\"10.115.20.235\"],[\"10.115.20.235\"]],\"hovertemplate\":\"<br>%{x|%H:%M - %d/%m}<br>IP: %{customdata[0]}<br>BoreTemperature: %{y}<extra></extra>\",\"legendgroup\":\"10.115.20.235\",\"line\":{\"color\":\"#FFA15A\",\"dash\":\"solid\"},\"marker\":{\"symbol\":\"circle\"},\"mode\":\"lines+markers\",\"name\":\"10.115.20.235\",\"orientation\":\"v\",\"showlegend\":true,\"x\":[\"2022-10-23T02:00:18\",\"2022-10-24T02:00:18\",\"2022-10-24T06:44:07\",\"2022-10-24T06:44:23\",\"2022-10-25T02:00:18\",\"2022-10-25T06:50:23\",\"2022-10-25T06:50:44\"],\"xaxis\":\"x\",\"y\":[49.2999992370606,48.5999984741211,48.5999984741211,48.5999984741211,49.2999992370606,49.2999992370606,49.2999992370606],\"yaxis\":\"y\",\"type\":\"scatter\"},{\"customdata\":[[\"10.115.22.239\"],[\"10.115.22.239\"],[\"10.115.22.239\"],[\"10.115.22.239\"],[\"10.115.22.239\"],[\"10.115.22.239\"],[\"10.115.22.239\"]],\"hovertemplate\":\"<br>%{x|%H:%M - %d/%m}<br>IP: %{customdata[0]}<br>BoreTemperature: %{y}<extra></extra>\",\"legendgroup\":\"10.115.22.239\",\"line\":{\"color\":\"#19d3f3\",\"dash\":\"solid\"},\"marker\":{\"symbol\":\"circle\"},\"mode\":\"lines+markers\",\"name\":\"10.115.22.239\",\"orientation\":\"v\",\"showlegend\":true,\"x\":[\"2022-10-23T05:00:18\",\"2022-10-24T05:00:18\",\"2022-10-24T10:11:20\",\"2022-10-24T10:11:35\",\"2022-10-25T05:00:18\",\"2022-10-25T10:18:44\",\"2022-10-25T10:18:58\"],\"xaxis\":\"x\",\"y\":[53.5,53.5,53.5,53.5,54.2000007629394,54.2000007629394,54.2000007629394],\"yaxis\":\"y\",\"type\":\"scatter\"},{\"customdata\":[[\"10.115.21.239\"],[\"10.115.21.239\"],[\"10.115.21.239\"],[\"10.115.21.239\"],[\"10.115.21.239\"],[\"10.115.21.239\"],[\"10.115.21.239\"],[\"10.115.21.239\"],[\"10.115.21.239\"],[\"10.115.21.239\"],[\"10.115.21.239\"]],\"hovertemplate\":\"<br>%{x|%H:%M - %d/%m}<br>IP: %{customdata[0]}<br>BoreTemperature: %{y}<extra></extra>\",\"legendgroup\":\"10.115.21.239\",\"line\":{\"color\":\"#FF6692\",\"dash\":\"solid\"},\"marker\":{\"symbol\":\"circle\"},\"mode\":\"lines+markers\",\"name\":\"10.115.21.239\",\"orientation\":\"v\",\"showlegend\":true,\"x\":[\"2022-10-23T05:00:18\",\"2022-10-23T09:06:10\",\"2022-10-23T09:06:34\",\"2022-10-23T15:33:17\",\"2022-10-23T15:34:05\",\"2022-10-24T05:00:18\",\"2022-10-24T09:58:33\",\"2022-10-24T09:58:53\",\"2022-10-25T05:00:18\",\"2022-10-25T10:08:41\",\"2022-10-25T10:09:03\"],\"xaxis\":\"x\",\"y\":[49.2999992370606,49.2999992370606,49.2999992370606,49.2999992370606,49.2999992370606,49.2999992370606,49.2999992370606,49.2999992370606,50.0,50.0,50.0],\"yaxis\":\"y\",\"type\":\"scatter\"},{\"customdata\":[[\"172.16.228.91\"],[\"172.16.228.91\"],[\"172.16.228.91\"],[\"172.16.228.91\"],[\"172.16.228.91\"],[\"172.16.228.91\"],[\"172.16.228.91\"],[\"172.16.228.91\"],[\"172.16.228.91\"]],\"hovertemplate\":\"<br>%{x|%H:%M - %d/%m}<br>IP: %{customdata[0]}<br>BoreTemperature: %{y}<extra></extra>\",\"legendgroup\":\"172.16.228.91\",\"line\":{\"color\":\"#B6E880\",\"dash\":\"solid\"},\"marker\":{\"symbol\":\"circle\"},\"mode\":\"lines+markers\",\"name\":\"172.16.228.91\",\"orientation\":\"v\",\"showlegend\":true,\"x\":[\"2022-10-23T05:00:19\",\"2022-10-23T10:26:19\",\"2022-10-23T10:26:45\",\"2022-10-24T05:00:19\",\"2022-10-24T10:14:44\",\"2022-10-24T10:15:09\",\"2022-10-25T05:00:19\",\"2022-10-25T10:06:07\",\"2022-10-25T10:06:33\"],\"xaxis\":\"x\",\"y\":[43.0,43.0,43.0,43.0,43.0,43.0,43.7000007629394,43.0,43.0],\"yaxis\":\"y\",\"type\":\"scatter\"},{\"customdata\":[[\"172.19.252.45\"],[\"172.19.252.45\"],[\"172.19.252.45\"],[\"172.19.252.45\"],[\"172.19.252.45\"],[\"172.19.252.45\"]],\"hovertemplate\":\"<br>%{x|%H:%M - %d/%m}<br>IP: %{customdata[0]}<br>BoreTemperature: %{y}<extra></extra>\",\"legendgroup\":\"172.19.252.45\",\"line\":{\"color\":\"#FF97FF\",\"dash\":\"solid\"},\"marker\":{\"symbol\":\"circle\"},\"mode\":\"lines+markers\",\"name\":\"172.19.252.45\",\"orientation\":\"v\",\"showlegend\":true,\"x\":[\"2022-10-23T05:00:19\",\"2022-10-23T11:10:18\",\"2022-10-24T05:00:20\",\"2022-10-24T08:48:30\",\"2022-10-25T05:00:19\",\"2022-10-25T08:58:18\"],\"xaxis\":\"x\",\"y\":[40.2000007629394,40.2000007629394,40.2000007629394,40.2000007629394,41.5999984741211,41.5999984741211],\"yaxis\":\"y\",\"type\":\"scatter\"},{\"customdata\":[[\"10.23.149.13\"],[\"10.23.149.13\"],[\"10.23.149.13\"],[\"10.23.149.13\"],[\"10.23.149.13\"],[\"10.23.149.13\"],[\"10.23.149.13\"]],\"hovertemplate\":\"<br>%{x|%H:%M - %d/%m}<br>IP: %{customdata[0]}<br>BoreTemperature: %{y}<extra></extra>\",\"legendgroup\":\"10.23.149.13\",\"line\":{\"color\":\"#FECB52\",\"dash\":\"solid\"},\"marker\":{\"symbol\":\"circle\"},\"mode\":\"lines+markers\",\"name\":\"10.23.149.13\",\"orientation\":\"v\",\"showlegend\":true,\"x\":[\"2022-10-23T05:00:19\",\"2022-10-24T05:00:17\",\"2022-10-24T09:57:07\",\"2022-10-24T09:57:25\",\"2022-10-25T05:00:18\",\"2022-10-25T09:38:56\",\"2022-10-25T09:39:17\"],\"xaxis\":\"x\",\"y\":[53.5,51.4000015258789,51.4000015258789,51.4000015258789,52.7999992370606,52.7999992370606,52.7999992370606],\"yaxis\":\"y\",\"type\":\"scatter\"},{\"customdata\":[[\"172.30.1.179\"],[\"172.30.1.179\"],[\"172.30.1.179\"]],\"hovertemplate\":\"<br>%{x|%H:%M - %d/%m}<br>IP: %{customdata[0]}<br>BoreTemperature: %{y}<extra></extra>\",\"legendgroup\":\"172.30.1.179\",\"line\":{\"color\":\"#636efa\",\"dash\":\"solid\"},\"marker\":{\"symbol\":\"circle\"},\"mode\":\"lines+markers\",\"name\":\"172.30.1.179\",\"orientation\":\"v\",\"showlegend\":true,\"x\":[\"2022-10-23T09:59:11\",\"2022-10-24T09:02:50\",\"2022-10-25T09:04:58\"],\"xaxis\":\"x\",\"y\":[0.0,0.0,0.0],\"yaxis\":\"y\",\"type\":\"scatter\"},{\"customdata\":[[\"10.23.157.71\"],[\"10.23.157.71\"],[\"10.23.157.71\"],[\"10.23.157.71\"],[\"10.23.157.71\"],[\"10.23.157.71\"]],\"hovertemplate\":\"<br>%{x|%H:%M - %d/%m}<br>IP: %{customdata[0]}<br>BoreTemperature: %{y}<extra></extra>\",\"legendgroup\":\"10.23.157.71\",\"line\":{\"color\":\"#EF553B\",\"dash\":\"solid\"},\"marker\":{\"symbol\":\"circle\"},\"mode\":\"lines+markers\",\"name\":\"10.23.157.71\",\"orientation\":\"v\",\"showlegend\":true,\"x\":[\"2022-10-23T09:59:28\",\"2022-10-23T10:03:33\",\"2022-10-23T10:03:57\",\"2022-10-24T09:46:31\",\"2022-10-25T05:00:19\",\"2022-10-25T09:08:57\"],\"xaxis\":\"x\",\"y\":[45.7999992370606,45.0999984741211,45.0999984741211,45.0999984741211,49.2999992370606,49.2999992370606],\"yaxis\":\"y\",\"type\":\"scatter\"},{\"customdata\":[[\"172.30.1.72\"],[\"172.30.1.72\"],[\"172.30.1.72\"]],\"hovertemplate\":\"<br>%{x|%H:%M - %d/%m}<br>IP: %{customdata[0]}<br>BoreTemperature: %{y}<extra></extra>\",\"legendgroup\":\"172.30.1.72\",\"line\":{\"color\":\"#00cc96\",\"dash\":\"solid\"},\"marker\":{\"symbol\":\"circle\"},\"mode\":\"lines+markers\",\"name\":\"172.30.1.72\",\"orientation\":\"v\",\"showlegend\":true,\"x\":[\"2022-10-23T10:18:25\",\"2022-10-24T09:20:40\",\"2022-10-25T09:22:45\"],\"xaxis\":\"x\",\"y\":[0.0,0.0,0.0],\"yaxis\":\"y\",\"type\":\"scatter\"},{\"customdata\":[[\"172.16.96.2\"],[\"172.16.96.2\"],[\"172.16.96.2\"]],\"hovertemplate\":\"<br>%{x|%H:%M - %d/%m}<br>IP: %{customdata[0]}<br>BoreTemperature: %{y}<extra></extra>\",\"legendgroup\":\"172.16.96.2\",\"line\":{\"color\":\"#ab63fa\",\"dash\":\"solid\"},\"marker\":{\"symbol\":\"circle\"},\"mode\":\"lines+markers\",\"name\":\"172.16.96.2\",\"orientation\":\"v\",\"showlegend\":true,\"x\":[\"2022-10-23T11:57:37\",\"2022-10-24T10:06:40\",\"2022-10-25T10:03:25\"],\"xaxis\":\"x\",\"y\":[0.0,0.0,0.0],\"yaxis\":\"y\",\"type\":\"scatter\"},{\"customdata\":[[\"10.23.149.30\"],[\"10.23.149.30\"],[\"10.23.149.30\"]],\"hovertemplate\":\"<br>%{x|%H:%M - %d/%m}<br>IP: %{customdata[0]}<br>BoreTemperature: %{y}<extra></extra>\",\"legendgroup\":\"10.23.149.30\",\"line\":{\"color\":\"#FFA15A\",\"dash\":\"solid\"},\"marker\":{\"symbol\":\"circle\"},\"mode\":\"lines+markers\",\"name\":\"10.23.149.30\",\"orientation\":\"v\",\"showlegend\":true,\"x\":[\"2022-10-24T09:41:43\",\"2022-10-25T09:23:49\",\"2022-10-25T17:25:13\"],\"xaxis\":\"x\",\"y\":[0.0,0.0,0.0],\"yaxis\":\"y\",\"type\":\"scatter\"}],                        {\"template\":{\"data\":{\"histogram2dcontour\":[{\"type\":\"histogram2dcontour\",\"colorbar\":{\"outlinewidth\":0,\"ticks\":\"\"},\"colorscale\":[[0.0,\"#0d0887\"],[0.1111111111111111,\"#46039f\"],[0.2222222222222222,\"#7201a8\"],[0.3333333333333333,\"#9c179e\"],[0.4444444444444444,\"#bd3786\"],[0.5555555555555556,\"#d8576b\"],[0.6666666666666666,\"#ed7953\"],[0.7777777777777778,\"#fb9f3a\"],[0.8888888888888888,\"#fdca26\"],[1.0,\"#f0f921\"]]}],\"choropleth\":[{\"type\":\"choropleth\",\"colorbar\":{\"outlinewidth\":0,\"ticks\":\"\"}}],\"histogram2d\":[{\"type\":\"histogram2d\",\"colorbar\":{\"outlinewidth\":0,\"ticks\":\"\"},\"colorscale\":[[0.0,\"#0d0887\"],[0.1111111111111111,\"#46039f\"],[0.2222222222222222,\"#7201a8\"],[0.3333333333333333,\"#9c179e\"],[0.4444444444444444,\"#bd3786\"],[0.5555555555555556,\"#d8576b\"],[0.6666666666666666,\"#ed7953\"],[0.7777777777777778,\"#fb9f3a\"],[0.8888888888888888,\"#fdca26\"],[1.0,\"#f0f921\"]]}],\"heatmap\":[{\"type\":\"heatmap\",\"colorbar\":{\"outlinewidth\":0,\"ticks\":\"\"},\"colorscale\":[[0.0,\"#0d0887\"],[0.1111111111111111,\"#46039f\"],[0.2222222222222222,\"#7201a8\"],[0.3333333333333333,\"#9c179e\"],[0.4444444444444444,\"#bd3786\"],[0.5555555555555556,\"#d8576b\"],[0.6666666666666666,\"#ed7953\"],[0.7777777777777778,\"#fb9f3a\"],[0.8888888888888888,\"#fdca26\"],[1.0,\"#f0f921\"]]}],\"heatmapgl\":[{\"type\":\"heatmapgl\",\"colorbar\":{\"outlinewidth\":0,\"ticks\":\"\"},\"colorscale\":[[0.0,\"#0d0887\"],[0.1111111111111111,\"#46039f\"],[0.2222222222222222,\"#7201a8\"],[0.3333333333333333,\"#9c179e\"],[0.4444444444444444,\"#bd3786\"],[0.5555555555555556,\"#d8576b\"],[0.6666666666666666,\"#ed7953\"],[0.7777777777777778,\"#fb9f3a\"],[0.8888888888888888,\"#fdca26\"],[1.0,\"#f0f921\"]]}],\"contourcarpet\":[{\"type\":\"contourcarpet\",\"colorbar\":{\"outlinewidth\":0,\"ticks\":\"\"}}],\"contour\":[{\"type\":\"contour\",\"colorbar\":{\"outlinewidth\":0,\"ticks\":\"\"},\"colorscale\":[[0.0,\"#0d0887\"],[0.1111111111111111,\"#46039f\"],[0.2222222222222222,\"#7201a8\"],[0.3333333333333333,\"#9c179e\"],[0.4444444444444444,\"#bd3786\"],[0.5555555555555556,\"#d8576b\"],[0.6666666666666666,\"#ed7953\"],[0.7777777777777778,\"#fb9f3a\"],[0.8888888888888888,\"#fdca26\"],[1.0,\"#f0f921\"]]}],\"surface\":[{\"type\":\"surface\",\"colorbar\":{\"outlinewidth\":0,\"ticks\":\"\"},\"colorscale\":[[0.0,\"#0d0887\"],[0.1111111111111111,\"#46039f\"],[0.2222222222222222,\"#7201a8\"],[0.3333333333333333,\"#9c179e\"],[0.4444444444444444,\"#bd3786\"],[0.5555555555555556,\"#d8576b\"],[0.6666666666666666,\"#ed7953\"],[0.7777777777777778,\"#fb9f3a\"],[0.8888888888888888,\"#fdca26\"],[1.0,\"#f0f921\"]]}],\"mesh3d\":[{\"type\":\"mesh3d\",\"colorbar\":{\"outlinewidth\":0,\"ticks\":\"\"}}],\"scatter\":[{\"fillpattern\":{\"fillmode\":\"overlay\",\"size\":10,\"solidity\":0.2},\"type\":\"scatter\"}],\"parcoords\":[{\"type\":\"parcoords\",\"line\":{\"colorbar\":{\"outlinewidth\":0,\"ticks\":\"\"}}}],\"scatterpolargl\":[{\"type\":\"scatterpolargl\",\"marker\":{\"colorbar\":{\"outlinewidth\":0,\"ticks\":\"\"}}}],\"bar\":[{\"error_x\":{\"color\":\"#2a3f5f\"},\"error_y\":{\"color\":\"#2a3f5f\"},\"marker\":{\"line\":{\"color\":\"white\",\"width\":0.5},\"pattern\":{\"fillmode\":\"overlay\",\"size\":10,\"solidity\":0.2}},\"type\":\"bar\"}],\"scattergeo\":[{\"type\":\"scattergeo\",\"marker\":{\"colorbar\":{\"outlinewidth\":0,\"ticks\":\"\"}}}],\"scatterpolar\":[{\"type\":\"scatterpolar\",\"marker\":{\"colorbar\":{\"outlinewidth\":0,\"ticks\":\"\"}}}],\"histogram\":[{\"marker\":{\"pattern\":{\"fillmode\":\"overlay\",\"size\":10,\"solidity\":0.2}},\"type\":\"histogram\"}],\"scattergl\":[{\"type\":\"scattergl\",\"marker\":{\"colorbar\":{\"outlinewidth\":0,\"ticks\":\"\"}}}],\"scatter3d\":[{\"type\":\"scatter3d\",\"line\":{\"colorbar\":{\"outlinewidth\":0,\"ticks\":\"\"}},\"marker\":{\"colorbar\":{\"outlinewidth\":0,\"ticks\":\"\"}}}],\"scattermapbox\":[{\"type\":\"scattermapbox\",\"marker\":{\"colorbar\":{\"outlinewidth\":0,\"ticks\":\"\"}}}],\"scatterternary\":[{\"type\":\"scatterternary\",\"marker\":{\"colorbar\":{\"outlinewidth\":0,\"ticks\":\"\"}}}],\"scattercarpet\":[{\"type\":\"scattercarpet\",\"marker\":{\"colorbar\":{\"outlinewidth\":0,\"ticks\":\"\"}}}],\"carpet\":[{\"aaxis\":{\"endlinecolor\":\"#2a3f5f\",\"gridcolor\":\"#C8D4E3\",\"linecolor\":\"#C8D4E3\",\"minorgridcolor\":\"#C8D4E3\",\"startlinecolor\":\"#2a3f5f\"},\"baxis\":{\"endlinecolor\":\"#2a3f5f\",\"gridcolor\":\"#C8D4E3\",\"linecolor\":\"#C8D4E3\",\"minorgridcolor\":\"#C8D4E3\",\"startlinecolor\":\"#2a3f5f\"},\"type\":\"carpet\"}],\"table\":[{\"cells\":{\"fill\":{\"color\":\"#EBF0F8\"},\"line\":{\"color\":\"white\"}},\"header\":{\"fill\":{\"color\":\"#C8D4E3\"},\"line\":{\"color\":\"white\"}},\"type\":\"table\"}],\"barpolar\":[{\"marker\":{\"line\":{\"color\":\"white\",\"width\":0.5},\"pattern\":{\"fillmode\":\"overlay\",\"size\":10,\"solidity\":0.2}},\"type\":\"barpolar\"}],\"pie\":[{\"automargin\":true,\"type\":\"pie\"}]},\"layout\":{\"autotypenumbers\":\"strict\",\"colorway\":[\"#636efa\",\"#EF553B\",\"#00cc96\",\"#ab63fa\",\"#FFA15A\",\"#19d3f3\",\"#FF6692\",\"#B6E880\",\"#FF97FF\",\"#FECB52\"],\"font\":{\"color\":\"#2a3f5f\"},\"hovermode\":\"closest\",\"hoverlabel\":{\"align\":\"left\"},\"paper_bgcolor\":\"white\",\"plot_bgcolor\":\"white\",\"polar\":{\"bgcolor\":\"white\",\"angularaxis\":{\"gridcolor\":\"#EBF0F8\",\"linecolor\":\"#EBF0F8\",\"ticks\":\"\"},\"radialaxis\":{\"gridcolor\":\"#EBF0F8\",\"linecolor\":\"#EBF0F8\",\"ticks\":\"\"}},\"ternary\":{\"bgcolor\":\"white\",\"aaxis\":{\"gridcolor\":\"#DFE8F3\",\"linecolor\":\"#A2B1C6\",\"ticks\":\"\"},\"baxis\":{\"gridcolor\":\"#DFE8F3\",\"linecolor\":\"#A2B1C6\",\"ticks\":\"\"},\"caxis\":{\"gridcolor\":\"#DFE8F3\",\"linecolor\":\"#A2B1C6\",\"ticks\":\"\"}},\"coloraxis\":{\"colorbar\":{\"outlinewidth\":0,\"ticks\":\"\"}},\"colorscale\":{\"sequential\":[[0.0,\"#0d0887\"],[0.1111111111111111,\"#46039f\"],[0.2222222222222222,\"#7201a8\"],[0.3333333333333333,\"#9c179e\"],[0.4444444444444444,\"#bd3786\"],[0.5555555555555556,\"#d8576b\"],[0.6666666666666666,\"#ed7953\"],[0.7777777777777778,\"#fb9f3a\"],[0.8888888888888888,\"#fdca26\"],[1.0,\"#f0f921\"]],\"sequentialminus\":[[0.0,\"#0d0887\"],[0.1111111111111111,\"#46039f\"],[0.2222222222222222,\"#7201a8\"],[0.3333333333333333,\"#9c179e\"],[0.4444444444444444,\"#bd3786\"],[0.5555555555555556,\"#d8576b\"],[0.6666666666666666,\"#ed7953\"],[0.7777777777777778,\"#fb9f3a\"],[0.8888888888888888,\"#fdca26\"],[1.0,\"#f0f921\"]],\"diverging\":[[0,\"#8e0152\"],[0.1,\"#c51b7d\"],[0.2,\"#de77ae\"],[0.3,\"#f1b6da\"],[0.4,\"#fde0ef\"],[0.5,\"#f7f7f7\"],[0.6,\"#e6f5d0\"],[0.7,\"#b8e186\"],[0.8,\"#7fbc41\"],[0.9,\"#4d9221\"],[1,\"#276419\"]]},\"xaxis\":{\"gridcolor\":\"#EBF0F8\",\"linecolor\":\"#EBF0F8\",\"ticks\":\"\",\"title\":{\"standoff\":15},\"zerolinecolor\":\"#EBF0F8\",\"automargin\":true,\"zerolinewidth\":2},\"yaxis\":{\"gridcolor\":\"#EBF0F8\",\"linecolor\":\"#EBF0F8\",\"ticks\":\"\",\"title\":{\"standoff\":15},\"zerolinecolor\":\"#EBF0F8\",\"automargin\":true,\"zerolinewidth\":2},\"scene\":{\"xaxis\":{\"backgroundcolor\":\"white\",\"gridcolor\":\"#DFE8F3\",\"linecolor\":\"#EBF0F8\",\"showbackground\":true,\"ticks\":\"\",\"zerolinecolor\":\"#EBF0F8\",\"gridwidth\":2},\"yaxis\":{\"backgroundcolor\":\"white\",\"gridcolor\":\"#DFE8F3\",\"linecolor\":\"#EBF0F8\",\"showbackground\":true,\"ticks\":\"\",\"zerolinecolor\":\"#EBF0F8\",\"gridwidth\":2},\"zaxis\":{\"backgroundcolor\":\"white\",\"gridcolor\":\"#DFE8F3\",\"linecolor\":\"#EBF0F8\",\"showbackground\":true,\"ticks\":\"\",\"zerolinecolor\":\"#EBF0F8\",\"gridwidth\":2}},\"shapedefaults\":{\"line\":{\"color\":\"#2a3f5f\"}},\"annotationdefaults\":{\"arrowcolor\":\"#2a3f5f\",\"arrowhead\":0,\"arrowwidth\":1},\"geo\":{\"bgcolor\":\"white\",\"landcolor\":\"white\",\"subunitcolor\":\"#C8D4E3\",\"showland\":true,\"showlakes\":true,\"lakecolor\":\"white\"},\"title\":{\"x\":0.05},\"mapbox\":{\"style\":\"light\"}}},\"xaxis\":{\"anchor\":\"y\",\"domain\":[0.0,1.0],\"title\":{\"text\":\"Data\"}},\"yaxis\":{\"anchor\":\"x\",\"domain\":[0.0,1.0],\"title\":{\"text\":\"BoreTemperature\"},\"showgrid\":false},\"legend\":{\"title\":{\"text\":\"IP\"},\"tracegroupgap\":0},\"title\":{\"text\":\"S\\u00e9ries Temporais para BoreTemperature\"},\"height\":500},                        {\"responsive\": true}                    ).then(function(){\n",
       "                            \n",
       "var gd = document.getElementById('eca49c0b-3a53-45f1-baa6-32964b8ae05e');\n",
       "var x = new MutationObserver(function (mutations, observer) {{\n",
       "        var display = window.getComputedStyle(gd).display;\n",
       "        if (!display || display === 'none') {{\n",
       "            console.log([gd, 'removed!']);\n",
       "            Plotly.purge(gd);\n",
       "            observer.disconnect();\n",
       "        }}\n",
       "}});\n",
       "\n",
       "// Listen for the removal of the full notebook cells\n",
       "var notebookContainer = gd.closest('#notebook-container');\n",
       "if (notebookContainer) {{\n",
       "    x.observe(notebookContainer, {childList: true});\n",
       "}}\n",
       "\n",
       "// Listen for the clearing of the current output cell\n",
       "var outputEl = gd.closest('.output');\n",
       "if (outputEl) {{\n",
       "    x.observe(outputEl, {childList: true});\n",
       "}}\n",
       "\n",
       "                        })                };                });            </script>        </div>"
      ]
     },
     "metadata": {},
     "output_type": "display_data"
    }
   ],
   "source": [
    "fig = px.line(\n",
    "    df.sort_index(), \n",
    "    y=\"BoreTemperature\", \n",
    "    line_group=\"IP\", \n",
    "    color=\"IP\", \n",
    "    markers=True,\n",
    "    hover_data=[\"IP\"],\n",
    "    title=\"Séries Temporais para BoreTemperature\",\n",
    "    height=500\n",
    ")\n",
    "fig.update_traces(\n",
    "    hovertemplate=\"<br>%{x|%H:%M - %d/%m}<br>IP: %{customdata[0]}<br>BoreTemperature: %{y}<extra></extra>\"\n",
    ")\n",
    "fig.update_layout(\n",
    "    yaxis=dict(showgrid=False)\n",
    ")\n",
    "fig.show(renderer=\"colab\")"
   ]
  },
  {
   "cell_type": "code",
   "execution_count": 6,
   "metadata": {},
   "outputs": [
    {
     "data": {
      "application/vnd.plotly.v1+json": {
       "config": {
        "plotlyServerURL": "https://plot.ly"
       },
       "data": [
        {
         "customdata": [
          [
           "172.22.8.31"
          ],
          [
           "172.22.8.31"
          ],
          [
           "172.22.8.31"
          ],
          [
           "172.22.8.31"
          ],
          [
           "172.22.8.31"
          ],
          [
           "172.22.8.31"
          ],
          [
           "172.22.8.31"
          ],
          [
           "172.22.8.31"
          ],
          [
           "172.22.8.31"
          ]
         ],
         "hovertemplate": "<br>%{x|%H:%M - %d/%m}<br>IP: %{customdata[0]}<br>BoreTemperature: %{y}<extra></extra>",
         "legendgroup": "172.22.8.31",
         "line": {
          "color": "#636efa",
          "dash": "solid"
         },
         "marker": {
          "symbol": "circle"
         },
         "mode": "lines+markers",
         "name": "172.22.8.31",
         "orientation": "v",
         "showlegend": true,
         "type": "scatter",
         "x": [
          "2022-10-21T02:00:19",
          "2022-10-21T06:23:47",
          "2022-10-22T02:00:19",
          "2022-10-22T06:21:05",
          "2022-10-23T02:00:19",
          "2022-10-24T02:00:19",
          "2022-10-24T06:26:59",
          "2022-10-25T02:00:20",
          "2022-10-25T06:27:29"
         ],
         "xaxis": "x",
         "y": [
          76.9000015258789,
          76.9000015258789,
          76.6999969482422,
          76.6999969482422,
          76.6999969482422,
          76.6999969482422,
          76.6999969482422,
          76.6999969482422,
          76.6999969482422
         ],
         "yaxis": "y"
        },
        {
         "customdata": [
          [
           "10.115.16.230"
          ],
          [
           "10.115.16.230"
          ],
          [
           "10.115.16.230"
          ],
          [
           "10.115.16.230"
          ],
          [
           "10.115.16.230"
          ],
          [
           "10.115.16.230"
          ],
          [
           "10.115.16.230"
          ],
          [
           "10.115.16.230"
          ],
          [
           "10.115.16.230"
          ],
          [
           "10.115.16.230"
          ],
          [
           "10.115.16.230"
          ]
         ],
         "hovertemplate": "<br>%{x|%H:%M - %d/%m}<br>IP: %{customdata[0]}<br>BoreTemperature: %{y}<extra></extra>",
         "legendgroup": "10.115.16.230",
         "line": {
          "color": "#EF553B",
          "dash": "solid"
         },
         "marker": {
          "symbol": "circle"
         },
         "mode": "lines+markers",
         "name": "10.115.16.230",
         "orientation": "v",
         "showlegend": true,
         "type": "scatter",
         "x": [
          "2022-10-21T05:00:17",
          "2022-10-21T05:00:39",
          "2022-10-22T05:00:18",
          "2022-10-22T05:00:37",
          "2022-10-23T05:00:17",
          "2022-10-23T11:44:39",
          "2022-10-23T11:44:44",
          "2022-10-24T05:00:18",
          "2022-10-24T11:15:37",
          "2022-10-25T05:00:18",
          "2022-10-25T05:00:46"
         ],
         "xaxis": "x",
         "y": [
          85,
          85,
          85,
          85,
          85,
          85,
          85,
          85,
          85,
          85,
          85
         ],
         "yaxis": "y"
        },
        {
         "customdata": [
          [
           "10.115.17.226"
          ],
          [
           "10.115.17.226"
          ],
          [
           "10.115.17.226"
          ],
          [
           "10.115.17.226"
          ],
          [
           "10.115.17.226"
          ],
          [
           "10.115.17.226"
          ],
          [
           "10.115.17.226"
          ],
          [
           "10.115.17.226"
          ],
          [
           "10.115.17.226"
          ],
          [
           "10.115.17.226"
          ],
          [
           "10.115.17.226"
          ],
          [
           "10.115.17.226"
          ],
          [
           "10.115.17.226"
          ],
          [
           "10.115.17.226"
          ],
          [
           "10.115.17.226"
          ],
          [
           "10.115.17.226"
          ],
          [
           "10.115.17.226"
          ],
          [
           "10.115.17.226"
          ]
         ],
         "hovertemplate": "<br>%{x|%H:%M - %d/%m}<br>IP: %{customdata[0]}<br>BoreTemperature: %{y}<extra></extra>",
         "legendgroup": "10.115.17.226",
         "line": {
          "color": "#00cc96",
          "dash": "solid"
         },
         "marker": {
          "symbol": "circle"
         },
         "mode": "lines+markers",
         "name": "10.115.17.226",
         "orientation": "v",
         "showlegend": true,
         "type": "scatter",
         "x": [
          "2022-10-21T05:00:18",
          "2022-10-21T09:40:14",
          "2022-10-21T09:40:24",
          "2022-10-21T12:23:49",
          "2022-10-21T12:24:24",
          "2022-10-22T05:00:19",
          "2022-10-22T09:23:23",
          "2022-10-22T09:23:33",
          "2022-10-22T10:08:28",
          "2022-10-22T10:09:01",
          "2022-10-23T05:00:18",
          "2022-10-23T09:18:40",
          "2022-10-23T09:18:51",
          "2022-10-24T09:31:44",
          "2022-10-24T21:11:51",
          "2022-10-24T21:12:27",
          "2022-10-25T05:00:18",
          "2022-10-25T09:59:37"
         ],
         "xaxis": "x",
         "y": [
          91.5,
          91.5,
          91.5,
          91.5,
          91.5,
          91.6999969482422,
          91.6999969482422,
          91.6999969482422,
          91.6999969482422,
          91.6999969482422,
          91.6999969482422,
          91.6999969482422,
          91.6999969482422,
          91.1999969482422,
          91.1999969482422,
          91.1999969482422,
          90.6999969482422,
          90.6999969482422
         ],
         "yaxis": "y"
        },
        {
         "customdata": [
          [
           "172.17.216.6"
          ],
          [
           "172.17.216.6"
          ],
          [
           "172.17.216.6"
          ],
          [
           "172.17.216.6"
          ],
          [
           "172.17.216.6"
          ],
          [
           "172.17.216.6"
          ],
          [
           "172.17.216.6"
          ],
          [
           "172.17.216.6"
          ],
          [
           "172.17.216.6"
          ]
         ],
         "hovertemplate": "<br>%{x|%H:%M - %d/%m}<br>IP: %{customdata[0]}<br>BoreTemperature: %{y}<extra></extra>",
         "legendgroup": "172.17.216.6",
         "line": {
          "color": "#ab63fa",
          "dash": "solid"
         },
         "marker": {
          "symbol": "circle"
         },
         "mode": "lines+markers",
         "name": "172.17.216.6",
         "orientation": "v",
         "showlegend": true,
         "type": "scatter",
         "x": [
          "2022-10-21T05:00:19",
          "2022-10-21T17:00:20",
          "2022-10-22T05:00:21",
          "2022-10-23T05:00:20",
          "2022-10-23T17:00:19",
          "2022-10-24T05:00:19",
          "2022-10-24T17:00:19",
          "2022-10-25T05:00:19",
          "2022-10-25T17:00:19"
         ],
         "xaxis": "x",
         "y": [
          91.4000015258789,
          91.4000015258789,
          91.4000015258789,
          91.4000015258789,
          91.4000015258789,
          91.4000015258789,
          91.4000015258789,
          91.3000030517578,
          91.4000015258789
         ],
         "yaxis": "y"
        },
        {
         "customdata": [
          [
           "10.23.152.32"
          ],
          [
           "10.23.152.32"
          ],
          [
           "10.23.152.32"
          ],
          [
           "10.23.152.32"
          ],
          [
           "10.23.152.32"
          ],
          [
           "10.23.152.32"
          ],
          [
           "10.23.152.32"
          ],
          [
           "10.23.152.32"
          ],
          [
           "10.23.152.32"
          ],
          [
           "10.23.152.32"
          ],
          [
           "10.23.152.32"
          ],
          [
           "10.23.152.32"
          ],
          [
           "10.23.152.32"
          ]
         ],
         "hovertemplate": "<br>%{x|%H:%M - %d/%m}<br>IP: %{customdata[0]}<br>BoreTemperature: %{y}<extra></extra>",
         "legendgroup": "10.23.152.32",
         "line": {
          "color": "#FFA15A",
          "dash": "solid"
         },
         "marker": {
          "symbol": "circle"
         },
         "mode": "lines+markers",
         "name": "10.23.152.32",
         "orientation": "v",
         "showlegend": true,
         "type": "scatter",
         "x": [
          "2022-10-21T05:00:20",
          "2022-10-21T09:53:56",
          "2022-10-21T09:54:21",
          "2022-10-22T05:00:19",
          "2022-10-22T10:01:28",
          "2022-10-22T10:01:54",
          "2022-10-23T05:00:19",
          "2022-10-24T05:00:19",
          "2022-10-24T09:44:11",
          "2022-10-24T09:44:36",
          "2022-10-25T05:00:20",
          "2022-10-25T09:44:13",
          "2022-10-25T09:44:38"
         ],
         "xaxis": "x",
         "y": [
          77.9000015258789,
          78,
          78,
          78,
          78,
          78,
          78,
          78,
          78,
          78,
          77.9000015258789,
          78,
          78
         ],
         "yaxis": "y"
        },
        {
         "customdata": [
          [
           "192.100.16.66"
          ],
          [
           "192.100.16.66"
          ],
          [
           "192.100.16.66"
          ],
          [
           "192.100.16.66"
          ],
          [
           "192.100.16.66"
          ],
          [
           "192.100.16.66"
          ],
          [
           "192.100.16.66"
          ],
          [
           "192.100.16.66"
          ],
          [
           "192.100.16.66"
          ],
          [
           "192.100.16.66"
          ],
          [
           "192.100.16.66"
          ],
          [
           "192.100.16.66"
          ],
          [
           "192.100.16.66"
          ],
          [
           "192.100.16.66"
          ],
          [
           "192.100.16.66"
          ]
         ],
         "hovertemplate": "<br>%{x|%H:%M - %d/%m}<br>IP: %{customdata[0]}<br>BoreTemperature: %{y}<extra></extra>",
         "legendgroup": "192.100.16.66",
         "line": {
          "color": "#19d3f3",
          "dash": "solid"
         },
         "marker": {
          "symbol": "circle"
         },
         "mode": "lines+markers",
         "name": "192.100.16.66",
         "orientation": "v",
         "showlegend": true,
         "type": "scatter",
         "x": [
          "2022-10-21T05:00:20",
          "2022-10-21T09:09:10",
          "2022-10-21T09:09:36",
          "2022-10-22T05:00:21",
          "2022-10-22T09:53:40",
          "2022-10-22T09:54:05",
          "2022-10-23T05:00:20",
          "2022-10-23T09:58:51",
          "2022-10-23T09:59:16",
          "2022-10-24T05:00:21",
          "2022-10-24T09:36:59",
          "2022-10-24T09:37:24",
          "2022-10-25T05:00:20",
          "2022-10-25T10:24:46",
          "2022-10-25T10:25:11"
         ],
         "xaxis": "x",
         "y": [
          88.6999969482422,
          88.8000030517578,
          88.8000030517578,
          88.8000030517578,
          88.8000030517578,
          88.8000030517578,
          88.8000030517578,
          88.6999969482422,
          88.6999969482422,
          88.6999969482422,
          88.8000030517578,
          88.8000030517578,
          88.8000030517578,
          88.8000030517578,
          88.8000030517578
         ],
         "yaxis": "y"
        },
        {
         "customdata": [
          [
           "10.99.80.179"
          ],
          [
           "10.99.80.179"
          ],
          [
           "10.99.80.179"
          ],
          [
           "10.99.80.179"
          ],
          [
           "10.99.80.179"
          ],
          [
           "10.99.80.179"
          ],
          [
           "10.99.80.179"
          ],
          [
           "10.99.80.179"
          ],
          [
           "10.99.80.179"
          ],
          [
           "10.99.80.179"
          ],
          [
           "10.99.80.179"
          ],
          [
           "10.99.80.179"
          ],
          [
           "10.99.80.179"
          ],
          [
           "10.99.80.179"
          ],
          [
           "10.99.80.179"
          ]
         ],
         "hovertemplate": "<br>%{x|%H:%M - %d/%m}<br>IP: %{customdata[0]}<br>BoreTemperature: %{y}<extra></extra>",
         "legendgroup": "10.99.80.179",
         "line": {
          "color": "#FF6692",
          "dash": "solid"
         },
         "marker": {
          "symbol": "circle"
         },
         "mode": "lines+markers",
         "name": "10.99.80.179",
         "orientation": "v",
         "showlegend": true,
         "type": "scatter",
         "x": [
          "2022-10-21T05:00:27",
          "2022-10-21T09:07:21",
          "2022-10-21T09:07:44",
          "2022-10-22T05:00:26",
          "2022-10-22T09:38:52",
          "2022-10-22T09:39:15",
          "2022-10-23T05:00:26",
          "2022-10-23T09:03:57",
          "2022-10-23T09:04:20",
          "2022-10-24T05:00:27",
          "2022-10-24T09:34:58",
          "2022-10-24T09:35:21",
          "2022-10-25T05:00:27",
          "2022-10-25T09:20:42",
          "2022-10-25T09:21:07"
         ],
         "xaxis": "x",
         "y": [
          82.4000015258789,
          82.4000015258789,
          82.4000015258789,
          82.1999969482422,
          82.1999969482422,
          82.1999969482422,
          82.4000015258789,
          82.4000015258789,
          82.4000015258789,
          82.4000015258789,
          82.4000015258789,
          82.4000015258789,
          82.4000015258789,
          82.4000015258789,
          82.4000015258789
         ],
         "yaxis": "y"
        },
        {
         "customdata": [
          [
           "10.23.153.13"
          ],
          [
           "10.23.153.13"
          ],
          [
           "10.23.153.13"
          ],
          [
           "10.23.153.13"
          ],
          [
           "10.23.153.13"
          ],
          [
           "10.23.153.13"
          ],
          [
           "10.23.153.13"
          ],
          [
           "10.23.153.13"
          ],
          [
           "10.23.153.13"
          ],
          [
           "10.23.153.13"
          ],
          [
           "10.23.153.13"
          ]
         ],
         "hovertemplate": "<br>%{x|%H:%M - %d/%m}<br>IP: %{customdata[0]}<br>BoreTemperature: %{y}<extra></extra>",
         "legendgroup": "10.23.153.13",
         "line": {
          "color": "#B6E880",
          "dash": "solid"
         },
         "marker": {
          "symbol": "circle"
         },
         "mode": "lines+markers",
         "name": "10.23.153.13",
         "orientation": "v",
         "showlegend": true,
         "type": "scatter",
         "x": [
          "2022-10-21T09:02:47",
          "2022-10-22T10:09:00",
          "2022-10-22T10:13:06",
          "2022-10-22T10:13:29",
          "2022-10-23T05:00:20",
          "2022-10-24T05:00:19",
          "2022-10-24T09:04:56",
          "2022-10-25T05:00:19",
          "2022-10-25T09:00:15",
          "2022-10-25T17:25:49",
          "2022-10-25T17:49:53"
         ],
         "xaxis": "x",
         "y": [
          79.8000030517578,
          79.8000030517578,
          79.8000030517578,
          79.8000030517578,
          79.6999969482422,
          79.6999969482422,
          79.6999969482422,
          79.6999969482422,
          79.6999969482422,
          79.6999969482422,
          79.6999969482422
         ],
         "yaxis": "y"
        },
        {
         "customdata": [
          [
           "172.16.172.252"
          ],
          [
           "172.16.172.252"
          ],
          [
           "172.16.172.252"
          ],
          [
           "172.16.172.252"
          ],
          [
           "172.16.172.252"
          ]
         ],
         "hovertemplate": "<br>%{x|%H:%M - %d/%m}<br>IP: %{customdata[0]}<br>BoreTemperature: %{y}<extra></extra>",
         "legendgroup": "172.16.172.252",
         "line": {
          "color": "#FF97FF",
          "dash": "solid"
         },
         "marker": {
          "symbol": "circle"
         },
         "mode": "lines+markers",
         "name": "172.16.172.252",
         "orientation": "v",
         "showlegend": true,
         "type": "scatter",
         "x": [
          "2022-10-21T10:15:04",
          "2022-10-22T10:45:43",
          "2022-10-23T10:45:51",
          "2022-10-24T10:14:59",
          "2022-10-25T10:10:30"
         ],
         "xaxis": "x",
         "y": [
          0,
          0,
          0,
          0,
          0
         ],
         "yaxis": "y"
        },
        {
         "customdata": [
          [
           "172.19.40.32"
          ],
          [
           "172.19.40.32"
          ],
          [
           "172.19.40.32"
          ],
          [
           "172.19.40.32"
          ],
          [
           "172.19.40.32"
          ]
         ],
         "hovertemplate": "<br>%{x|%H:%M - %d/%m}<br>IP: %{customdata[0]}<br>BoreTemperature: %{y}<extra></extra>",
         "legendgroup": "172.19.40.32",
         "line": {
          "color": "#FECB52",
          "dash": "solid"
         },
         "marker": {
          "symbol": "circle"
         },
         "mode": "lines+markers",
         "name": "172.19.40.32",
         "orientation": "v",
         "showlegend": true,
         "type": "scatter",
         "x": [
          "2022-10-21T10:24:41",
          "2022-10-22T09:28:30",
          "2022-10-24T10:10:16",
          "2022-10-24T11:16:23",
          "2022-10-25T09:21:25"
         ],
         "xaxis": "x",
         "y": [
          0,
          0,
          0,
          0,
          0
         ],
         "yaxis": "y"
        },
        {
         "customdata": [
          [
           "172.19.152.53"
          ],
          [
           "172.19.152.53"
          ],
          [
           "172.19.152.53"
          ],
          [
           "172.19.152.53"
          ],
          [
           "172.19.152.53"
          ],
          [
           "172.19.152.53"
          ]
         ],
         "hovertemplate": "<br>%{x|%H:%M - %d/%m}<br>IP: %{customdata[0]}<br>BoreTemperature: %{y}<extra></extra>",
         "legendgroup": "172.19.152.53",
         "line": {
          "color": "#636efa",
          "dash": "solid"
         },
         "marker": {
          "symbol": "circle"
         },
         "mode": "lines+markers",
         "name": "172.19.152.53",
         "orientation": "v",
         "showlegend": true,
         "type": "scatter",
         "x": [
          "2022-10-21T10:49:27",
          "2022-10-22T10:59:03",
          "2022-10-23T11:28:07",
          "2022-10-24T10:59:03",
          "2022-10-25T11:14:00",
          "2022-10-25T20:45:17"
         ],
         "xaxis": "x",
         "y": [
          0,
          0,
          0,
          0,
          0,
          0
         ],
         "yaxis": "y"
        },
        {
         "customdata": [
          [
           "10.23.152.30"
          ],
          [
           "10.23.152.30"
          ],
          [
           "10.23.152.30"
          ],
          [
           "10.23.152.30"
          ]
         ],
         "hovertemplate": "<br>%{x|%H:%M - %d/%m}<br>IP: %{customdata[0]}<br>BoreTemperature: %{y}<extra></extra>",
         "legendgroup": "10.23.152.30",
         "line": {
          "color": "#EF553B",
          "dash": "solid"
         },
         "marker": {
          "symbol": "circle"
         },
         "mode": "lines+markers",
         "name": "10.23.152.30",
         "orientation": "v",
         "showlegend": true,
         "type": "scatter",
         "x": [
          "2022-10-21T10:58:15",
          "2022-10-22T11:06:08",
          "2022-10-24T10:49:12",
          "2022-10-25T10:49:13"
         ],
         "xaxis": "x",
         "y": [
          0,
          0,
          0,
          0
         ],
         "yaxis": "y"
        },
        {
         "customdata": [
          [
           "172.19.156.71"
          ],
          [
           "172.19.156.71"
          ],
          [
           "172.19.156.71"
          ],
          [
           "172.19.156.71"
          ]
         ],
         "hovertemplate": "<br>%{x|%H:%M - %d/%m}<br>IP: %{customdata[0]}<br>BoreTemperature: %{y}<extra></extra>",
         "legendgroup": "172.19.156.71",
         "line": {
          "color": "#00cc96",
          "dash": "solid"
         },
         "marker": {
          "symbol": "circle"
         },
         "mode": "lines+markers",
         "name": "172.19.156.71",
         "orientation": "v",
         "showlegend": true,
         "type": "scatter",
         "x": [
          "2022-10-22T08:41:59",
          "2022-10-23T09:59:19",
          "2022-10-24T08:42:32",
          "2022-10-25T08:47:53"
         ],
         "xaxis": "x",
         "y": [
          0,
          0,
          0,
          0
         ],
         "yaxis": "y"
        },
        {
         "customdata": [
          [
           "172.19.28.70"
          ],
          [
           "172.19.28.70"
          ],
          [
           "172.19.28.70"
          ],
          [
           "172.19.28.70"
          ],
          [
           "172.19.28.70"
          ],
          [
           "172.19.28.70"
          ],
          [
           "172.19.28.70"
          ],
          [
           "172.19.28.70"
          ],
          [
           "172.19.28.70"
          ],
          [
           "172.19.28.70"
          ],
          [
           "172.19.28.70"
          ],
          [
           "172.19.28.70"
          ],
          [
           "172.19.28.70"
          ],
          [
           "172.19.28.70"
          ],
          [
           "172.19.28.70"
          ],
          [
           "172.19.28.70"
          ],
          [
           "172.19.28.70"
          ],
          [
           "172.19.28.70"
          ],
          [
           "172.19.28.70"
          ],
          [
           "172.19.28.70"
          ],
          [
           "172.19.28.70"
          ]
         ],
         "hovertemplate": "<br>%{x|%H:%M - %d/%m}<br>IP: %{customdata[0]}<br>BoreTemperature: %{y}<extra></extra>",
         "legendgroup": "172.19.28.70",
         "line": {
          "color": "#ab63fa",
          "dash": "solid"
         },
         "marker": {
          "symbol": "circle"
         },
         "mode": "lines+markers",
         "name": "172.19.28.70",
         "orientation": "v",
         "showlegend": true,
         "type": "scatter",
         "x": [
          "2022-10-22T11:00:19",
          "2022-10-22T11:00:22",
          "2022-10-23T01:47:36",
          "2022-10-23T14:10:56",
          "2022-10-23T15:15:27",
          "2022-10-23T15:19:40",
          "2022-10-23T15:20:05",
          "2022-10-24T00:27:33",
          "2022-10-24T11:00:19",
          "2022-10-24T11:00:39",
          "2022-10-24T14:02:18",
          "2022-10-24T15:34:42",
          "2022-10-24T16:31:40",
          "2022-10-24T16:48:18",
          "2022-10-24T17:05:18",
          "2022-10-24T17:25:49",
          "2022-10-24T17:40:59",
          "2022-10-24T18:56:41",
          "2022-10-24T19:19:45",
          "2022-10-25T11:00:10",
          "2022-10-25T11:00:19"
         ],
         "xaxis": "x",
         "y": [
          69.5,
          69.5,
          69.5,
          69.5,
          69.5,
          69.5,
          69.5,
          69.5,
          69.5,
          69.5,
          69.5,
          69.5,
          69.5,
          69.5,
          69.5,
          69.5,
          69.5,
          69.5,
          69.5,
          69.5,
          69.5
         ],
         "yaxis": "y"
        },
        {
         "customdata": [
          [
           "10.115.20.235"
          ],
          [
           "10.115.20.235"
          ],
          [
           "10.115.20.235"
          ],
          [
           "10.115.20.235"
          ],
          [
           "10.115.20.235"
          ],
          [
           "10.115.20.235"
          ],
          [
           "10.115.20.235"
          ]
         ],
         "hovertemplate": "<br>%{x|%H:%M - %d/%m}<br>IP: %{customdata[0]}<br>BoreTemperature: %{y}<extra></extra>",
         "legendgroup": "10.115.20.235",
         "line": {
          "color": "#FFA15A",
          "dash": "solid"
         },
         "marker": {
          "symbol": "circle"
         },
         "mode": "lines+markers",
         "name": "10.115.20.235",
         "orientation": "v",
         "showlegend": true,
         "type": "scatter",
         "x": [
          "2022-10-23T02:00:18",
          "2022-10-24T02:00:18",
          "2022-10-24T06:44:07",
          "2022-10-24T06:44:23",
          "2022-10-25T02:00:18",
          "2022-10-25T06:50:23",
          "2022-10-25T06:50:44"
         ],
         "xaxis": "x",
         "y": [
          83.4000015258789,
          83.6999969482422,
          83.6999969482422,
          83.6999969482422,
          83.4000015258789,
          83.4000015258789,
          83.4000015258789
         ],
         "yaxis": "y"
        },
        {
         "customdata": [
          [
           "10.115.22.239"
          ],
          [
           "10.115.22.239"
          ],
          [
           "10.115.22.239"
          ],
          [
           "10.115.22.239"
          ],
          [
           "10.115.22.239"
          ],
          [
           "10.115.22.239"
          ],
          [
           "10.115.22.239"
          ]
         ],
         "hovertemplate": "<br>%{x|%H:%M - %d/%m}<br>IP: %{customdata[0]}<br>BoreTemperature: %{y}<extra></extra>",
         "legendgroup": "10.115.22.239",
         "line": {
          "color": "#19d3f3",
          "dash": "solid"
         },
         "marker": {
          "symbol": "circle"
         },
         "mode": "lines+markers",
         "name": "10.115.22.239",
         "orientation": "v",
         "showlegend": true,
         "type": "scatter",
         "x": [
          "2022-10-23T05:00:18",
          "2022-10-24T05:00:18",
          "2022-10-24T10:11:20",
          "2022-10-24T10:11:35",
          "2022-10-25T05:00:18",
          "2022-10-25T10:18:44",
          "2022-10-25T10:18:58"
         ],
         "xaxis": "x",
         "y": [
          73.5,
          73.5,
          73.5,
          73.5,
          73.5,
          73.5,
          73.5
         ],
         "yaxis": "y"
        },
        {
         "customdata": [
          [
           "10.115.21.239"
          ],
          [
           "10.115.21.239"
          ],
          [
           "10.115.21.239"
          ],
          [
           "10.115.21.239"
          ],
          [
           "10.115.21.239"
          ],
          [
           "10.115.21.239"
          ],
          [
           "10.115.21.239"
          ],
          [
           "10.115.21.239"
          ],
          [
           "10.115.21.239"
          ],
          [
           "10.115.21.239"
          ],
          [
           "10.115.21.239"
          ]
         ],
         "hovertemplate": "<br>%{x|%H:%M - %d/%m}<br>IP: %{customdata[0]}<br>BoreTemperature: %{y}<extra></extra>",
         "legendgroup": "10.115.21.239",
         "line": {
          "color": "#FF6692",
          "dash": "solid"
         },
         "marker": {
          "symbol": "circle"
         },
         "mode": "lines+markers",
         "name": "10.115.21.239",
         "orientation": "v",
         "showlegend": true,
         "type": "scatter",
         "x": [
          "2022-10-23T05:00:18",
          "2022-10-23T09:06:10",
          "2022-10-23T09:06:34",
          "2022-10-23T15:33:17",
          "2022-10-23T15:34:05",
          "2022-10-24T05:00:18",
          "2022-10-24T09:58:33",
          "2022-10-24T09:58:53",
          "2022-10-25T05:00:18",
          "2022-10-25T10:08:41",
          "2022-10-25T10:09:03"
         ],
         "xaxis": "x",
         "y": [
          84,
          84,
          84,
          84,
          84,
          84,
          84,
          84,
          84,
          84,
          84
         ],
         "yaxis": "y"
        },
        {
         "customdata": [
          [
           "172.16.228.91"
          ],
          [
           "172.16.228.91"
          ],
          [
           "172.16.228.91"
          ],
          [
           "172.16.228.91"
          ],
          [
           "172.16.228.91"
          ],
          [
           "172.16.228.91"
          ],
          [
           "172.16.228.91"
          ],
          [
           "172.16.228.91"
          ],
          [
           "172.16.228.91"
          ]
         ],
         "hovertemplate": "<br>%{x|%H:%M - %d/%m}<br>IP: %{customdata[0]}<br>BoreTemperature: %{y}<extra></extra>",
         "legendgroup": "172.16.228.91",
         "line": {
          "color": "#B6E880",
          "dash": "solid"
         },
         "marker": {
          "symbol": "circle"
         },
         "mode": "lines+markers",
         "name": "172.16.228.91",
         "orientation": "v",
         "showlegend": true,
         "type": "scatter",
         "x": [
          "2022-10-23T05:00:19",
          "2022-10-23T10:26:19",
          "2022-10-23T10:26:45",
          "2022-10-24T05:00:19",
          "2022-10-24T10:14:44",
          "2022-10-24T10:15:09",
          "2022-10-25T05:00:19",
          "2022-10-25T10:06:07",
          "2022-10-25T10:06:33"
         ],
         "xaxis": "x",
         "y": [
          65.6999969482422,
          65.6999969482422,
          65.6999969482422,
          65.5,
          65.6999969482422,
          65.6999969482422,
          65.6999969482422,
          65.6999969482422,
          65.6999969482422
         ],
         "yaxis": "y"
        },
        {
         "customdata": [
          [
           "172.19.252.45"
          ],
          [
           "172.19.252.45"
          ],
          [
           "172.19.252.45"
          ],
          [
           "172.19.252.45"
          ],
          [
           "172.19.252.45"
          ],
          [
           "172.19.252.45"
          ]
         ],
         "hovertemplate": "<br>%{x|%H:%M - %d/%m}<br>IP: %{customdata[0]}<br>BoreTemperature: %{y}<extra></extra>",
         "legendgroup": "172.19.252.45",
         "line": {
          "color": "#FF97FF",
          "dash": "solid"
         },
         "marker": {
          "symbol": "circle"
         },
         "mode": "lines+markers",
         "name": "172.19.252.45",
         "orientation": "v",
         "showlegend": true,
         "type": "scatter",
         "x": [
          "2022-10-23T05:00:19",
          "2022-10-23T11:10:18",
          "2022-10-24T05:00:20",
          "2022-10-24T08:48:30",
          "2022-10-25T05:00:19",
          "2022-10-25T08:58:18"
         ],
         "xaxis": "x",
         "y": [
          80.4000015258789,
          80.4000015258789,
          80.4000015258789,
          80.4000015258789,
          80.4000015258789,
          80.4000015258789
         ],
         "yaxis": "y"
        },
        {
         "customdata": [
          [
           "10.23.149.13"
          ],
          [
           "10.23.149.13"
          ],
          [
           "10.23.149.13"
          ],
          [
           "10.23.149.13"
          ],
          [
           "10.23.149.13"
          ],
          [
           "10.23.149.13"
          ],
          [
           "10.23.149.13"
          ]
         ],
         "hovertemplate": "<br>%{x|%H:%M - %d/%m}<br>IP: %{customdata[0]}<br>BoreTemperature: %{y}<extra></extra>",
         "legendgroup": "10.23.149.13",
         "line": {
          "color": "#FECB52",
          "dash": "solid"
         },
         "marker": {
          "symbol": "circle"
         },
         "mode": "lines+markers",
         "name": "10.23.149.13",
         "orientation": "v",
         "showlegend": true,
         "type": "scatter",
         "x": [
          "2022-10-23T05:00:19",
          "2022-10-24T05:00:17",
          "2022-10-24T09:57:07",
          "2022-10-24T09:57:25",
          "2022-10-25T05:00:18",
          "2022-10-25T09:38:56",
          "2022-10-25T09:39:17"
         ],
         "xaxis": "x",
         "y": [
          73.9000015258789,
          73.5999984741211,
          73.5999984741211,
          73.5999984741211,
          73.9000015258789,
          73.9000015258789,
          73.9000015258789
         ],
         "yaxis": "y"
        },
        {
         "customdata": [
          [
           "172.30.1.179"
          ],
          [
           "172.30.1.179"
          ],
          [
           "172.30.1.179"
          ]
         ],
         "hovertemplate": "<br>%{x|%H:%M - %d/%m}<br>IP: %{customdata[0]}<br>BoreTemperature: %{y}<extra></extra>",
         "legendgroup": "172.30.1.179",
         "line": {
          "color": "#636efa",
          "dash": "solid"
         },
         "marker": {
          "symbol": "circle"
         },
         "mode": "lines+markers",
         "name": "172.30.1.179",
         "orientation": "v",
         "showlegend": true,
         "type": "scatter",
         "x": [
          "2022-10-23T09:59:11",
          "2022-10-24T09:02:50",
          "2022-10-25T09:04:58"
         ],
         "xaxis": "x",
         "y": [
          0,
          0,
          0
         ],
         "yaxis": "y"
        },
        {
         "customdata": [
          [
           "10.23.157.71"
          ],
          [
           "10.23.157.71"
          ],
          [
           "10.23.157.71"
          ],
          [
           "10.23.157.71"
          ],
          [
           "10.23.157.71"
          ],
          [
           "10.23.157.71"
          ]
         ],
         "hovertemplate": "<br>%{x|%H:%M - %d/%m}<br>IP: %{customdata[0]}<br>BoreTemperature: %{y}<extra></extra>",
         "legendgroup": "10.23.157.71",
         "line": {
          "color": "#EF553B",
          "dash": "solid"
         },
         "marker": {
          "symbol": "circle"
         },
         "mode": "lines+markers",
         "name": "10.23.157.71",
         "orientation": "v",
         "showlegend": true,
         "type": "scatter",
         "x": [
          "2022-10-23T09:59:28",
          "2022-10-23T10:03:33",
          "2022-10-23T10:03:57",
          "2022-10-24T09:46:31",
          "2022-10-25T05:00:19",
          "2022-10-25T09:08:57"
         ],
         "xaxis": "x",
         "y": [
          92.3000030517578,
          92.3000030517578,
          92.3000030517578,
          92.3000030517578,
          92.3000030517578,
          92.3000030517578
         ],
         "yaxis": "y"
        },
        {
         "customdata": [
          [
           "172.30.1.72"
          ],
          [
           "172.30.1.72"
          ],
          [
           "172.30.1.72"
          ]
         ],
         "hovertemplate": "<br>%{x|%H:%M - %d/%m}<br>IP: %{customdata[0]}<br>BoreTemperature: %{y}<extra></extra>",
         "legendgroup": "172.30.1.72",
         "line": {
          "color": "#00cc96",
          "dash": "solid"
         },
         "marker": {
          "symbol": "circle"
         },
         "mode": "lines+markers",
         "name": "172.30.1.72",
         "orientation": "v",
         "showlegend": true,
         "type": "scatter",
         "x": [
          "2022-10-23T10:18:25",
          "2022-10-24T09:20:40",
          "2022-10-25T09:22:45"
         ],
         "xaxis": "x",
         "y": [
          0,
          0,
          0
         ],
         "yaxis": "y"
        },
        {
         "customdata": [
          [
           "172.16.96.2"
          ],
          [
           "172.16.96.2"
          ],
          [
           "172.16.96.2"
          ]
         ],
         "hovertemplate": "<br>%{x|%H:%M - %d/%m}<br>IP: %{customdata[0]}<br>BoreTemperature: %{y}<extra></extra>",
         "legendgroup": "172.16.96.2",
         "line": {
          "color": "#ab63fa",
          "dash": "solid"
         },
         "marker": {
          "symbol": "circle"
         },
         "mode": "lines+markers",
         "name": "172.16.96.2",
         "orientation": "v",
         "showlegend": true,
         "type": "scatter",
         "x": [
          "2022-10-23T11:57:37",
          "2022-10-24T10:06:40",
          "2022-10-25T10:03:25"
         ],
         "xaxis": "x",
         "y": [
          0,
          0,
          0
         ],
         "yaxis": "y"
        },
        {
         "customdata": [
          [
           "10.23.149.30"
          ],
          [
           "10.23.149.30"
          ],
          [
           "10.23.149.30"
          ]
         ],
         "hovertemplate": "<br>%{x|%H:%M - %d/%m}<br>IP: %{customdata[0]}<br>BoreTemperature: %{y}<extra></extra>",
         "legendgroup": "10.23.149.30",
         "line": {
          "color": "#FFA15A",
          "dash": "solid"
         },
         "marker": {
          "symbol": "circle"
         },
         "mode": "lines+markers",
         "name": "10.23.149.30",
         "orientation": "v",
         "showlegend": true,
         "type": "scatter",
         "x": [
          "2022-10-24T09:41:43",
          "2022-10-25T09:23:49",
          "2022-10-25T17:25:13"
         ],
         "xaxis": "x",
         "y": [
          0,
          0,
          0
         ],
         "yaxis": "y"
        }
       ],
       "layout": {
        "height": 500,
        "legend": {
         "title": {
          "text": "IP"
         },
         "tracegroupgap": 0
        },
        "template": {
         "data": {
          "bar": [
           {
            "error_x": {
             "color": "#2a3f5f"
            },
            "error_y": {
             "color": "#2a3f5f"
            },
            "marker": {
             "line": {
              "color": "white",
              "width": 0.5
             },
             "pattern": {
              "fillmode": "overlay",
              "size": 10,
              "solidity": 0.2
             }
            },
            "type": "bar"
           }
          ],
          "barpolar": [
           {
            "marker": {
             "line": {
              "color": "white",
              "width": 0.5
             },
             "pattern": {
              "fillmode": "overlay",
              "size": 10,
              "solidity": 0.2
             }
            },
            "type": "barpolar"
           }
          ],
          "carpet": [
           {
            "aaxis": {
             "endlinecolor": "#2a3f5f",
             "gridcolor": "#C8D4E3",
             "linecolor": "#C8D4E3",
             "minorgridcolor": "#C8D4E3",
             "startlinecolor": "#2a3f5f"
            },
            "baxis": {
             "endlinecolor": "#2a3f5f",
             "gridcolor": "#C8D4E3",
             "linecolor": "#C8D4E3",
             "minorgridcolor": "#C8D4E3",
             "startlinecolor": "#2a3f5f"
            },
            "type": "carpet"
           }
          ],
          "choropleth": [
           {
            "colorbar": {
             "outlinewidth": 0,
             "ticks": ""
            },
            "type": "choropleth"
           }
          ],
          "contour": [
           {
            "colorbar": {
             "outlinewidth": 0,
             "ticks": ""
            },
            "colorscale": [
             [
              0,
              "#0d0887"
             ],
             [
              0.1111111111111111,
              "#46039f"
             ],
             [
              0.2222222222222222,
              "#7201a8"
             ],
             [
              0.3333333333333333,
              "#9c179e"
             ],
             [
              0.4444444444444444,
              "#bd3786"
             ],
             [
              0.5555555555555556,
              "#d8576b"
             ],
             [
              0.6666666666666666,
              "#ed7953"
             ],
             [
              0.7777777777777778,
              "#fb9f3a"
             ],
             [
              0.8888888888888888,
              "#fdca26"
             ],
             [
              1,
              "#f0f921"
             ]
            ],
            "type": "contour"
           }
          ],
          "contourcarpet": [
           {
            "colorbar": {
             "outlinewidth": 0,
             "ticks": ""
            },
            "type": "contourcarpet"
           }
          ],
          "heatmap": [
           {
            "colorbar": {
             "outlinewidth": 0,
             "ticks": ""
            },
            "colorscale": [
             [
              0,
              "#0d0887"
             ],
             [
              0.1111111111111111,
              "#46039f"
             ],
             [
              0.2222222222222222,
              "#7201a8"
             ],
             [
              0.3333333333333333,
              "#9c179e"
             ],
             [
              0.4444444444444444,
              "#bd3786"
             ],
             [
              0.5555555555555556,
              "#d8576b"
             ],
             [
              0.6666666666666666,
              "#ed7953"
             ],
             [
              0.7777777777777778,
              "#fb9f3a"
             ],
             [
              0.8888888888888888,
              "#fdca26"
             ],
             [
              1,
              "#f0f921"
             ]
            ],
            "type": "heatmap"
           }
          ],
          "heatmapgl": [
           {
            "colorbar": {
             "outlinewidth": 0,
             "ticks": ""
            },
            "colorscale": [
             [
              0,
              "#0d0887"
             ],
             [
              0.1111111111111111,
              "#46039f"
             ],
             [
              0.2222222222222222,
              "#7201a8"
             ],
             [
              0.3333333333333333,
              "#9c179e"
             ],
             [
              0.4444444444444444,
              "#bd3786"
             ],
             [
              0.5555555555555556,
              "#d8576b"
             ],
             [
              0.6666666666666666,
              "#ed7953"
             ],
             [
              0.7777777777777778,
              "#fb9f3a"
             ],
             [
              0.8888888888888888,
              "#fdca26"
             ],
             [
              1,
              "#f0f921"
             ]
            ],
            "type": "heatmapgl"
           }
          ],
          "histogram": [
           {
            "marker": {
             "pattern": {
              "fillmode": "overlay",
              "size": 10,
              "solidity": 0.2
             }
            },
            "type": "histogram"
           }
          ],
          "histogram2d": [
           {
            "colorbar": {
             "outlinewidth": 0,
             "ticks": ""
            },
            "colorscale": [
             [
              0,
              "#0d0887"
             ],
             [
              0.1111111111111111,
              "#46039f"
             ],
             [
              0.2222222222222222,
              "#7201a8"
             ],
             [
              0.3333333333333333,
              "#9c179e"
             ],
             [
              0.4444444444444444,
              "#bd3786"
             ],
             [
              0.5555555555555556,
              "#d8576b"
             ],
             [
              0.6666666666666666,
              "#ed7953"
             ],
             [
              0.7777777777777778,
              "#fb9f3a"
             ],
             [
              0.8888888888888888,
              "#fdca26"
             ],
             [
              1,
              "#f0f921"
             ]
            ],
            "type": "histogram2d"
           }
          ],
          "histogram2dcontour": [
           {
            "colorbar": {
             "outlinewidth": 0,
             "ticks": ""
            },
            "colorscale": [
             [
              0,
              "#0d0887"
             ],
             [
              0.1111111111111111,
              "#46039f"
             ],
             [
              0.2222222222222222,
              "#7201a8"
             ],
             [
              0.3333333333333333,
              "#9c179e"
             ],
             [
              0.4444444444444444,
              "#bd3786"
             ],
             [
              0.5555555555555556,
              "#d8576b"
             ],
             [
              0.6666666666666666,
              "#ed7953"
             ],
             [
              0.7777777777777778,
              "#fb9f3a"
             ],
             [
              0.8888888888888888,
              "#fdca26"
             ],
             [
              1,
              "#f0f921"
             ]
            ],
            "type": "histogram2dcontour"
           }
          ],
          "mesh3d": [
           {
            "colorbar": {
             "outlinewidth": 0,
             "ticks": ""
            },
            "type": "mesh3d"
           }
          ],
          "parcoords": [
           {
            "line": {
             "colorbar": {
              "outlinewidth": 0,
              "ticks": ""
             }
            },
            "type": "parcoords"
           }
          ],
          "pie": [
           {
            "automargin": true,
            "type": "pie"
           }
          ],
          "scatter": [
           {
            "fillpattern": {
             "fillmode": "overlay",
             "size": 10,
             "solidity": 0.2
            },
            "type": "scatter"
           }
          ],
          "scatter3d": [
           {
            "line": {
             "colorbar": {
              "outlinewidth": 0,
              "ticks": ""
             }
            },
            "marker": {
             "colorbar": {
              "outlinewidth": 0,
              "ticks": ""
             }
            },
            "type": "scatter3d"
           }
          ],
          "scattercarpet": [
           {
            "marker": {
             "colorbar": {
              "outlinewidth": 0,
              "ticks": ""
             }
            },
            "type": "scattercarpet"
           }
          ],
          "scattergeo": [
           {
            "marker": {
             "colorbar": {
              "outlinewidth": 0,
              "ticks": ""
             }
            },
            "type": "scattergeo"
           }
          ],
          "scattergl": [
           {
            "marker": {
             "colorbar": {
              "outlinewidth": 0,
              "ticks": ""
             }
            },
            "type": "scattergl"
           }
          ],
          "scattermapbox": [
           {
            "marker": {
             "colorbar": {
              "outlinewidth": 0,
              "ticks": ""
             }
            },
            "type": "scattermapbox"
           }
          ],
          "scatterpolar": [
           {
            "marker": {
             "colorbar": {
              "outlinewidth": 0,
              "ticks": ""
             }
            },
            "type": "scatterpolar"
           }
          ],
          "scatterpolargl": [
           {
            "marker": {
             "colorbar": {
              "outlinewidth": 0,
              "ticks": ""
             }
            },
            "type": "scatterpolargl"
           }
          ],
          "scatterternary": [
           {
            "marker": {
             "colorbar": {
              "outlinewidth": 0,
              "ticks": ""
             }
            },
            "type": "scatterternary"
           }
          ],
          "surface": [
           {
            "colorbar": {
             "outlinewidth": 0,
             "ticks": ""
            },
            "colorscale": [
             [
              0,
              "#0d0887"
             ],
             [
              0.1111111111111111,
              "#46039f"
             ],
             [
              0.2222222222222222,
              "#7201a8"
             ],
             [
              0.3333333333333333,
              "#9c179e"
             ],
             [
              0.4444444444444444,
              "#bd3786"
             ],
             [
              0.5555555555555556,
              "#d8576b"
             ],
             [
              0.6666666666666666,
              "#ed7953"
             ],
             [
              0.7777777777777778,
              "#fb9f3a"
             ],
             [
              0.8888888888888888,
              "#fdca26"
             ],
             [
              1,
              "#f0f921"
             ]
            ],
            "type": "surface"
           }
          ],
          "table": [
           {
            "cells": {
             "fill": {
              "color": "#EBF0F8"
             },
             "line": {
              "color": "white"
             }
            },
            "header": {
             "fill": {
              "color": "#C8D4E3"
             },
             "line": {
              "color": "white"
             }
            },
            "type": "table"
           }
          ]
         },
         "layout": {
          "annotationdefaults": {
           "arrowcolor": "#2a3f5f",
           "arrowhead": 0,
           "arrowwidth": 1
          },
          "autotypenumbers": "strict",
          "coloraxis": {
           "colorbar": {
            "outlinewidth": 0,
            "ticks": ""
           }
          },
          "colorscale": {
           "diverging": [
            [
             0,
             "#8e0152"
            ],
            [
             0.1,
             "#c51b7d"
            ],
            [
             0.2,
             "#de77ae"
            ],
            [
             0.3,
             "#f1b6da"
            ],
            [
             0.4,
             "#fde0ef"
            ],
            [
             0.5,
             "#f7f7f7"
            ],
            [
             0.6,
             "#e6f5d0"
            ],
            [
             0.7,
             "#b8e186"
            ],
            [
             0.8,
             "#7fbc41"
            ],
            [
             0.9,
             "#4d9221"
            ],
            [
             1,
             "#276419"
            ]
           ],
           "sequential": [
            [
             0,
             "#0d0887"
            ],
            [
             0.1111111111111111,
             "#46039f"
            ],
            [
             0.2222222222222222,
             "#7201a8"
            ],
            [
             0.3333333333333333,
             "#9c179e"
            ],
            [
             0.4444444444444444,
             "#bd3786"
            ],
            [
             0.5555555555555556,
             "#d8576b"
            ],
            [
             0.6666666666666666,
             "#ed7953"
            ],
            [
             0.7777777777777778,
             "#fb9f3a"
            ],
            [
             0.8888888888888888,
             "#fdca26"
            ],
            [
             1,
             "#f0f921"
            ]
           ],
           "sequentialminus": [
            [
             0,
             "#0d0887"
            ],
            [
             0.1111111111111111,
             "#46039f"
            ],
            [
             0.2222222222222222,
             "#7201a8"
            ],
            [
             0.3333333333333333,
             "#9c179e"
            ],
            [
             0.4444444444444444,
             "#bd3786"
            ],
            [
             0.5555555555555556,
             "#d8576b"
            ],
            [
             0.6666666666666666,
             "#ed7953"
            ],
            [
             0.7777777777777778,
             "#fb9f3a"
            ],
            [
             0.8888888888888888,
             "#fdca26"
            ],
            [
             1,
             "#f0f921"
            ]
           ]
          },
          "colorway": [
           "#636efa",
           "#EF553B",
           "#00cc96",
           "#ab63fa",
           "#FFA15A",
           "#19d3f3",
           "#FF6692",
           "#B6E880",
           "#FF97FF",
           "#FECB52"
          ],
          "font": {
           "color": "#2a3f5f"
          },
          "geo": {
           "bgcolor": "white",
           "lakecolor": "white",
           "landcolor": "white",
           "showlakes": true,
           "showland": true,
           "subunitcolor": "#C8D4E3"
          },
          "hoverlabel": {
           "align": "left"
          },
          "hovermode": "closest",
          "mapbox": {
           "style": "light"
          },
          "paper_bgcolor": "white",
          "plot_bgcolor": "white",
          "polar": {
           "angularaxis": {
            "gridcolor": "#EBF0F8",
            "linecolor": "#EBF0F8",
            "ticks": ""
           },
           "bgcolor": "white",
           "radialaxis": {
            "gridcolor": "#EBF0F8",
            "linecolor": "#EBF0F8",
            "ticks": ""
           }
          },
          "scene": {
           "xaxis": {
            "backgroundcolor": "white",
            "gridcolor": "#DFE8F3",
            "gridwidth": 2,
            "linecolor": "#EBF0F8",
            "showbackground": true,
            "ticks": "",
            "zerolinecolor": "#EBF0F8"
           },
           "yaxis": {
            "backgroundcolor": "white",
            "gridcolor": "#DFE8F3",
            "gridwidth": 2,
            "linecolor": "#EBF0F8",
            "showbackground": true,
            "ticks": "",
            "zerolinecolor": "#EBF0F8"
           },
           "zaxis": {
            "backgroundcolor": "white",
            "gridcolor": "#DFE8F3",
            "gridwidth": 2,
            "linecolor": "#EBF0F8",
            "showbackground": true,
            "ticks": "",
            "zerolinecolor": "#EBF0F8"
           }
          },
          "shapedefaults": {
           "line": {
            "color": "#2a3f5f"
           }
          },
          "ternary": {
           "aaxis": {
            "gridcolor": "#DFE8F3",
            "linecolor": "#A2B1C6",
            "ticks": ""
           },
           "baxis": {
            "gridcolor": "#DFE8F3",
            "linecolor": "#A2B1C6",
            "ticks": ""
           },
           "bgcolor": "white",
           "caxis": {
            "gridcolor": "#DFE8F3",
            "linecolor": "#A2B1C6",
            "ticks": ""
           }
          },
          "title": {
           "x": 0.05
          },
          "xaxis": {
           "automargin": true,
           "gridcolor": "#EBF0F8",
           "linecolor": "#EBF0F8",
           "ticks": "",
           "title": {
            "standoff": 15
           },
           "zerolinecolor": "#EBF0F8",
           "zerolinewidth": 2
          },
          "yaxis": {
           "automargin": true,
           "gridcolor": "#EBF0F8",
           "linecolor": "#EBF0F8",
           "ticks": "",
           "title": {
            "standoff": 15
           },
           "zerolinecolor": "#EBF0F8",
           "zerolinewidth": 2
          }
         }
        },
        "title": {
         "text": "Séries Temporais para HeliumLevel"
        },
        "xaxis": {
         "anchor": "y",
         "domain": [
          0,
          1
         ],
         "title": {
          "text": "Data"
         }
        },
        "yaxis": {
         "anchor": "x",
         "domain": [
          0,
          1
         ],
         "showgrid": false,
         "title": {
          "text": "HeliumLevel"
         }
        }
       }
      },
      "text/html": [
       "<div>                            <div id=\"55d89218-caf9-494f-9d15-05f0d4fa8e62\" class=\"plotly-graph-div\" style=\"height:500px; width:100%;\"></div>            <script type=\"text/javascript\">                require([\"plotly\"], function(Plotly) {                    window.PLOTLYENV=window.PLOTLYENV || {};                                    if (document.getElementById(\"55d89218-caf9-494f-9d15-05f0d4fa8e62\")) {                    Plotly.newPlot(                        \"55d89218-caf9-494f-9d15-05f0d4fa8e62\",                        [{\"customdata\":[[\"172.22.8.31\"],[\"172.22.8.31\"],[\"172.22.8.31\"],[\"172.22.8.31\"],[\"172.22.8.31\"],[\"172.22.8.31\"],[\"172.22.8.31\"],[\"172.22.8.31\"],[\"172.22.8.31\"]],\"hovertemplate\":\"<br>%{x|%H:%M - %d/%m}<br>IP: %{customdata[0]}<br>BoreTemperature: %{y}<extra></extra>\",\"legendgroup\":\"172.22.8.31\",\"line\":{\"color\":\"#636efa\",\"dash\":\"solid\"},\"marker\":{\"symbol\":\"circle\"},\"mode\":\"lines+markers\",\"name\":\"172.22.8.31\",\"orientation\":\"v\",\"showlegend\":true,\"x\":[\"2022-10-21T02:00:19\",\"2022-10-21T06:23:47\",\"2022-10-22T02:00:19\",\"2022-10-22T06:21:05\",\"2022-10-23T02:00:19\",\"2022-10-24T02:00:19\",\"2022-10-24T06:26:59\",\"2022-10-25T02:00:20\",\"2022-10-25T06:27:29\"],\"xaxis\":\"x\",\"y\":[76.9000015258789,76.9000015258789,76.6999969482422,76.6999969482422,76.6999969482422,76.6999969482422,76.6999969482422,76.6999969482422,76.6999969482422],\"yaxis\":\"y\",\"type\":\"scatter\"},{\"customdata\":[[\"10.115.16.230\"],[\"10.115.16.230\"],[\"10.115.16.230\"],[\"10.115.16.230\"],[\"10.115.16.230\"],[\"10.115.16.230\"],[\"10.115.16.230\"],[\"10.115.16.230\"],[\"10.115.16.230\"],[\"10.115.16.230\"],[\"10.115.16.230\"]],\"hovertemplate\":\"<br>%{x|%H:%M - %d/%m}<br>IP: %{customdata[0]}<br>BoreTemperature: %{y}<extra></extra>\",\"legendgroup\":\"10.115.16.230\",\"line\":{\"color\":\"#EF553B\",\"dash\":\"solid\"},\"marker\":{\"symbol\":\"circle\"},\"mode\":\"lines+markers\",\"name\":\"10.115.16.230\",\"orientation\":\"v\",\"showlegend\":true,\"x\":[\"2022-10-21T05:00:17\",\"2022-10-21T05:00:39\",\"2022-10-22T05:00:18\",\"2022-10-22T05:00:37\",\"2022-10-23T05:00:17\",\"2022-10-23T11:44:39\",\"2022-10-23T11:44:44\",\"2022-10-24T05:00:18\",\"2022-10-24T11:15:37\",\"2022-10-25T05:00:18\",\"2022-10-25T05:00:46\"],\"xaxis\":\"x\",\"y\":[85.0,85.0,85.0,85.0,85.0,85.0,85.0,85.0,85.0,85.0,85.0],\"yaxis\":\"y\",\"type\":\"scatter\"},{\"customdata\":[[\"10.115.17.226\"],[\"10.115.17.226\"],[\"10.115.17.226\"],[\"10.115.17.226\"],[\"10.115.17.226\"],[\"10.115.17.226\"],[\"10.115.17.226\"],[\"10.115.17.226\"],[\"10.115.17.226\"],[\"10.115.17.226\"],[\"10.115.17.226\"],[\"10.115.17.226\"],[\"10.115.17.226\"],[\"10.115.17.226\"],[\"10.115.17.226\"],[\"10.115.17.226\"],[\"10.115.17.226\"],[\"10.115.17.226\"]],\"hovertemplate\":\"<br>%{x|%H:%M - %d/%m}<br>IP: %{customdata[0]}<br>BoreTemperature: %{y}<extra></extra>\",\"legendgroup\":\"10.115.17.226\",\"line\":{\"color\":\"#00cc96\",\"dash\":\"solid\"},\"marker\":{\"symbol\":\"circle\"},\"mode\":\"lines+markers\",\"name\":\"10.115.17.226\",\"orientation\":\"v\",\"showlegend\":true,\"x\":[\"2022-10-21T05:00:18\",\"2022-10-21T09:40:14\",\"2022-10-21T09:40:24\",\"2022-10-21T12:23:49\",\"2022-10-21T12:24:24\",\"2022-10-22T05:00:19\",\"2022-10-22T09:23:23\",\"2022-10-22T09:23:33\",\"2022-10-22T10:08:28\",\"2022-10-22T10:09:01\",\"2022-10-23T05:00:18\",\"2022-10-23T09:18:40\",\"2022-10-23T09:18:51\",\"2022-10-24T09:31:44\",\"2022-10-24T21:11:51\",\"2022-10-24T21:12:27\",\"2022-10-25T05:00:18\",\"2022-10-25T09:59:37\"],\"xaxis\":\"x\",\"y\":[91.5,91.5,91.5,91.5,91.5,91.6999969482422,91.6999969482422,91.6999969482422,91.6999969482422,91.6999969482422,91.6999969482422,91.6999969482422,91.6999969482422,91.1999969482422,91.1999969482422,91.1999969482422,90.6999969482422,90.6999969482422],\"yaxis\":\"y\",\"type\":\"scatter\"},{\"customdata\":[[\"172.17.216.6\"],[\"172.17.216.6\"],[\"172.17.216.6\"],[\"172.17.216.6\"],[\"172.17.216.6\"],[\"172.17.216.6\"],[\"172.17.216.6\"],[\"172.17.216.6\"],[\"172.17.216.6\"]],\"hovertemplate\":\"<br>%{x|%H:%M - %d/%m}<br>IP: %{customdata[0]}<br>BoreTemperature: %{y}<extra></extra>\",\"legendgroup\":\"172.17.216.6\",\"line\":{\"color\":\"#ab63fa\",\"dash\":\"solid\"},\"marker\":{\"symbol\":\"circle\"},\"mode\":\"lines+markers\",\"name\":\"172.17.216.6\",\"orientation\":\"v\",\"showlegend\":true,\"x\":[\"2022-10-21T05:00:19\",\"2022-10-21T17:00:20\",\"2022-10-22T05:00:21\",\"2022-10-23T05:00:20\",\"2022-10-23T17:00:19\",\"2022-10-24T05:00:19\",\"2022-10-24T17:00:19\",\"2022-10-25T05:00:19\",\"2022-10-25T17:00:19\"],\"xaxis\":\"x\",\"y\":[91.4000015258789,91.4000015258789,91.4000015258789,91.4000015258789,91.4000015258789,91.4000015258789,91.4000015258789,91.3000030517578,91.4000015258789],\"yaxis\":\"y\",\"type\":\"scatter\"},{\"customdata\":[[\"10.23.152.32\"],[\"10.23.152.32\"],[\"10.23.152.32\"],[\"10.23.152.32\"],[\"10.23.152.32\"],[\"10.23.152.32\"],[\"10.23.152.32\"],[\"10.23.152.32\"],[\"10.23.152.32\"],[\"10.23.152.32\"],[\"10.23.152.32\"],[\"10.23.152.32\"],[\"10.23.152.32\"]],\"hovertemplate\":\"<br>%{x|%H:%M - %d/%m}<br>IP: %{customdata[0]}<br>BoreTemperature: %{y}<extra></extra>\",\"legendgroup\":\"10.23.152.32\",\"line\":{\"color\":\"#FFA15A\",\"dash\":\"solid\"},\"marker\":{\"symbol\":\"circle\"},\"mode\":\"lines+markers\",\"name\":\"10.23.152.32\",\"orientation\":\"v\",\"showlegend\":true,\"x\":[\"2022-10-21T05:00:20\",\"2022-10-21T09:53:56\",\"2022-10-21T09:54:21\",\"2022-10-22T05:00:19\",\"2022-10-22T10:01:28\",\"2022-10-22T10:01:54\",\"2022-10-23T05:00:19\",\"2022-10-24T05:00:19\",\"2022-10-24T09:44:11\",\"2022-10-24T09:44:36\",\"2022-10-25T05:00:20\",\"2022-10-25T09:44:13\",\"2022-10-25T09:44:38\"],\"xaxis\":\"x\",\"y\":[77.9000015258789,78.0,78.0,78.0,78.0,78.0,78.0,78.0,78.0,78.0,77.9000015258789,78.0,78.0],\"yaxis\":\"y\",\"type\":\"scatter\"},{\"customdata\":[[\"192.100.16.66\"],[\"192.100.16.66\"],[\"192.100.16.66\"],[\"192.100.16.66\"],[\"192.100.16.66\"],[\"192.100.16.66\"],[\"192.100.16.66\"],[\"192.100.16.66\"],[\"192.100.16.66\"],[\"192.100.16.66\"],[\"192.100.16.66\"],[\"192.100.16.66\"],[\"192.100.16.66\"],[\"192.100.16.66\"],[\"192.100.16.66\"]],\"hovertemplate\":\"<br>%{x|%H:%M - %d/%m}<br>IP: %{customdata[0]}<br>BoreTemperature: %{y}<extra></extra>\",\"legendgroup\":\"192.100.16.66\",\"line\":{\"color\":\"#19d3f3\",\"dash\":\"solid\"},\"marker\":{\"symbol\":\"circle\"},\"mode\":\"lines+markers\",\"name\":\"192.100.16.66\",\"orientation\":\"v\",\"showlegend\":true,\"x\":[\"2022-10-21T05:00:20\",\"2022-10-21T09:09:10\",\"2022-10-21T09:09:36\",\"2022-10-22T05:00:21\",\"2022-10-22T09:53:40\",\"2022-10-22T09:54:05\",\"2022-10-23T05:00:20\",\"2022-10-23T09:58:51\",\"2022-10-23T09:59:16\",\"2022-10-24T05:00:21\",\"2022-10-24T09:36:59\",\"2022-10-24T09:37:24\",\"2022-10-25T05:00:20\",\"2022-10-25T10:24:46\",\"2022-10-25T10:25:11\"],\"xaxis\":\"x\",\"y\":[88.6999969482422,88.8000030517578,88.8000030517578,88.8000030517578,88.8000030517578,88.8000030517578,88.8000030517578,88.6999969482422,88.6999969482422,88.6999969482422,88.8000030517578,88.8000030517578,88.8000030517578,88.8000030517578,88.8000030517578],\"yaxis\":\"y\",\"type\":\"scatter\"},{\"customdata\":[[\"10.99.80.179\"],[\"10.99.80.179\"],[\"10.99.80.179\"],[\"10.99.80.179\"],[\"10.99.80.179\"],[\"10.99.80.179\"],[\"10.99.80.179\"],[\"10.99.80.179\"],[\"10.99.80.179\"],[\"10.99.80.179\"],[\"10.99.80.179\"],[\"10.99.80.179\"],[\"10.99.80.179\"],[\"10.99.80.179\"],[\"10.99.80.179\"]],\"hovertemplate\":\"<br>%{x|%H:%M - %d/%m}<br>IP: %{customdata[0]}<br>BoreTemperature: %{y}<extra></extra>\",\"legendgroup\":\"10.99.80.179\",\"line\":{\"color\":\"#FF6692\",\"dash\":\"solid\"},\"marker\":{\"symbol\":\"circle\"},\"mode\":\"lines+markers\",\"name\":\"10.99.80.179\",\"orientation\":\"v\",\"showlegend\":true,\"x\":[\"2022-10-21T05:00:27\",\"2022-10-21T09:07:21\",\"2022-10-21T09:07:44\",\"2022-10-22T05:00:26\",\"2022-10-22T09:38:52\",\"2022-10-22T09:39:15\",\"2022-10-23T05:00:26\",\"2022-10-23T09:03:57\",\"2022-10-23T09:04:20\",\"2022-10-24T05:00:27\",\"2022-10-24T09:34:58\",\"2022-10-24T09:35:21\",\"2022-10-25T05:00:27\",\"2022-10-25T09:20:42\",\"2022-10-25T09:21:07\"],\"xaxis\":\"x\",\"y\":[82.4000015258789,82.4000015258789,82.4000015258789,82.1999969482422,82.1999969482422,82.1999969482422,82.4000015258789,82.4000015258789,82.4000015258789,82.4000015258789,82.4000015258789,82.4000015258789,82.4000015258789,82.4000015258789,82.4000015258789],\"yaxis\":\"y\",\"type\":\"scatter\"},{\"customdata\":[[\"10.23.153.13\"],[\"10.23.153.13\"],[\"10.23.153.13\"],[\"10.23.153.13\"],[\"10.23.153.13\"],[\"10.23.153.13\"],[\"10.23.153.13\"],[\"10.23.153.13\"],[\"10.23.153.13\"],[\"10.23.153.13\"],[\"10.23.153.13\"]],\"hovertemplate\":\"<br>%{x|%H:%M - %d/%m}<br>IP: %{customdata[0]}<br>BoreTemperature: %{y}<extra></extra>\",\"legendgroup\":\"10.23.153.13\",\"line\":{\"color\":\"#B6E880\",\"dash\":\"solid\"},\"marker\":{\"symbol\":\"circle\"},\"mode\":\"lines+markers\",\"name\":\"10.23.153.13\",\"orientation\":\"v\",\"showlegend\":true,\"x\":[\"2022-10-21T09:02:47\",\"2022-10-22T10:09:00\",\"2022-10-22T10:13:06\",\"2022-10-22T10:13:29\",\"2022-10-23T05:00:20\",\"2022-10-24T05:00:19\",\"2022-10-24T09:04:56\",\"2022-10-25T05:00:19\",\"2022-10-25T09:00:15\",\"2022-10-25T17:25:49\",\"2022-10-25T17:49:53\"],\"xaxis\":\"x\",\"y\":[79.8000030517578,79.8000030517578,79.8000030517578,79.8000030517578,79.6999969482422,79.6999969482422,79.6999969482422,79.6999969482422,79.6999969482422,79.6999969482422,79.6999969482422],\"yaxis\":\"y\",\"type\":\"scatter\"},{\"customdata\":[[\"172.16.172.252\"],[\"172.16.172.252\"],[\"172.16.172.252\"],[\"172.16.172.252\"],[\"172.16.172.252\"]],\"hovertemplate\":\"<br>%{x|%H:%M - %d/%m}<br>IP: %{customdata[0]}<br>BoreTemperature: %{y}<extra></extra>\",\"legendgroup\":\"172.16.172.252\",\"line\":{\"color\":\"#FF97FF\",\"dash\":\"solid\"},\"marker\":{\"symbol\":\"circle\"},\"mode\":\"lines+markers\",\"name\":\"172.16.172.252\",\"orientation\":\"v\",\"showlegend\":true,\"x\":[\"2022-10-21T10:15:04\",\"2022-10-22T10:45:43\",\"2022-10-23T10:45:51\",\"2022-10-24T10:14:59\",\"2022-10-25T10:10:30\"],\"xaxis\":\"x\",\"y\":[0.0,0.0,0.0,0.0,0.0],\"yaxis\":\"y\",\"type\":\"scatter\"},{\"customdata\":[[\"172.19.40.32\"],[\"172.19.40.32\"],[\"172.19.40.32\"],[\"172.19.40.32\"],[\"172.19.40.32\"]],\"hovertemplate\":\"<br>%{x|%H:%M - %d/%m}<br>IP: %{customdata[0]}<br>BoreTemperature: %{y}<extra></extra>\",\"legendgroup\":\"172.19.40.32\",\"line\":{\"color\":\"#FECB52\",\"dash\":\"solid\"},\"marker\":{\"symbol\":\"circle\"},\"mode\":\"lines+markers\",\"name\":\"172.19.40.32\",\"orientation\":\"v\",\"showlegend\":true,\"x\":[\"2022-10-21T10:24:41\",\"2022-10-22T09:28:30\",\"2022-10-24T10:10:16\",\"2022-10-24T11:16:23\",\"2022-10-25T09:21:25\"],\"xaxis\":\"x\",\"y\":[0.0,0.0,0.0,0.0,0.0],\"yaxis\":\"y\",\"type\":\"scatter\"},{\"customdata\":[[\"172.19.152.53\"],[\"172.19.152.53\"],[\"172.19.152.53\"],[\"172.19.152.53\"],[\"172.19.152.53\"],[\"172.19.152.53\"]],\"hovertemplate\":\"<br>%{x|%H:%M - %d/%m}<br>IP: %{customdata[0]}<br>BoreTemperature: %{y}<extra></extra>\",\"legendgroup\":\"172.19.152.53\",\"line\":{\"color\":\"#636efa\",\"dash\":\"solid\"},\"marker\":{\"symbol\":\"circle\"},\"mode\":\"lines+markers\",\"name\":\"172.19.152.53\",\"orientation\":\"v\",\"showlegend\":true,\"x\":[\"2022-10-21T10:49:27\",\"2022-10-22T10:59:03\",\"2022-10-23T11:28:07\",\"2022-10-24T10:59:03\",\"2022-10-25T11:14:00\",\"2022-10-25T20:45:17\"],\"xaxis\":\"x\",\"y\":[0.0,0.0,0.0,0.0,0.0,0.0],\"yaxis\":\"y\",\"type\":\"scatter\"},{\"customdata\":[[\"10.23.152.30\"],[\"10.23.152.30\"],[\"10.23.152.30\"],[\"10.23.152.30\"]],\"hovertemplate\":\"<br>%{x|%H:%M - %d/%m}<br>IP: %{customdata[0]}<br>BoreTemperature: %{y}<extra></extra>\",\"legendgroup\":\"10.23.152.30\",\"line\":{\"color\":\"#EF553B\",\"dash\":\"solid\"},\"marker\":{\"symbol\":\"circle\"},\"mode\":\"lines+markers\",\"name\":\"10.23.152.30\",\"orientation\":\"v\",\"showlegend\":true,\"x\":[\"2022-10-21T10:58:15\",\"2022-10-22T11:06:08\",\"2022-10-24T10:49:12\",\"2022-10-25T10:49:13\"],\"xaxis\":\"x\",\"y\":[0.0,0.0,0.0,0.0],\"yaxis\":\"y\",\"type\":\"scatter\"},{\"customdata\":[[\"172.19.156.71\"],[\"172.19.156.71\"],[\"172.19.156.71\"],[\"172.19.156.71\"]],\"hovertemplate\":\"<br>%{x|%H:%M - %d/%m}<br>IP: %{customdata[0]}<br>BoreTemperature: %{y}<extra></extra>\",\"legendgroup\":\"172.19.156.71\",\"line\":{\"color\":\"#00cc96\",\"dash\":\"solid\"},\"marker\":{\"symbol\":\"circle\"},\"mode\":\"lines+markers\",\"name\":\"172.19.156.71\",\"orientation\":\"v\",\"showlegend\":true,\"x\":[\"2022-10-22T08:41:59\",\"2022-10-23T09:59:19\",\"2022-10-24T08:42:32\",\"2022-10-25T08:47:53\"],\"xaxis\":\"x\",\"y\":[0.0,0.0,0.0,0.0],\"yaxis\":\"y\",\"type\":\"scatter\"},{\"customdata\":[[\"172.19.28.70\"],[\"172.19.28.70\"],[\"172.19.28.70\"],[\"172.19.28.70\"],[\"172.19.28.70\"],[\"172.19.28.70\"],[\"172.19.28.70\"],[\"172.19.28.70\"],[\"172.19.28.70\"],[\"172.19.28.70\"],[\"172.19.28.70\"],[\"172.19.28.70\"],[\"172.19.28.70\"],[\"172.19.28.70\"],[\"172.19.28.70\"],[\"172.19.28.70\"],[\"172.19.28.70\"],[\"172.19.28.70\"],[\"172.19.28.70\"],[\"172.19.28.70\"],[\"172.19.28.70\"]],\"hovertemplate\":\"<br>%{x|%H:%M - %d/%m}<br>IP: %{customdata[0]}<br>BoreTemperature: %{y}<extra></extra>\",\"legendgroup\":\"172.19.28.70\",\"line\":{\"color\":\"#ab63fa\",\"dash\":\"solid\"},\"marker\":{\"symbol\":\"circle\"},\"mode\":\"lines+markers\",\"name\":\"172.19.28.70\",\"orientation\":\"v\",\"showlegend\":true,\"x\":[\"2022-10-22T11:00:19\",\"2022-10-22T11:00:22\",\"2022-10-23T01:47:36\",\"2022-10-23T14:10:56\",\"2022-10-23T15:15:27\",\"2022-10-23T15:19:40\",\"2022-10-23T15:20:05\",\"2022-10-24T00:27:33\",\"2022-10-24T11:00:19\",\"2022-10-24T11:00:39\",\"2022-10-24T14:02:18\",\"2022-10-24T15:34:42\",\"2022-10-24T16:31:40\",\"2022-10-24T16:48:18\",\"2022-10-24T17:05:18\",\"2022-10-24T17:25:49\",\"2022-10-24T17:40:59\",\"2022-10-24T18:56:41\",\"2022-10-24T19:19:45\",\"2022-10-25T11:00:10\",\"2022-10-25T11:00:19\"],\"xaxis\":\"x\",\"y\":[69.5,69.5,69.5,69.5,69.5,69.5,69.5,69.5,69.5,69.5,69.5,69.5,69.5,69.5,69.5,69.5,69.5,69.5,69.5,69.5,69.5],\"yaxis\":\"y\",\"type\":\"scatter\"},{\"customdata\":[[\"10.115.20.235\"],[\"10.115.20.235\"],[\"10.115.20.235\"],[\"10.115.20.235\"],[\"10.115.20.235\"],[\"10.115.20.235\"],[\"10.115.20.235\"]],\"hovertemplate\":\"<br>%{x|%H:%M - %d/%m}<br>IP: %{customdata[0]}<br>BoreTemperature: %{y}<extra></extra>\",\"legendgroup\":\"10.115.20.235\",\"line\":{\"color\":\"#FFA15A\",\"dash\":\"solid\"},\"marker\":{\"symbol\":\"circle\"},\"mode\":\"lines+markers\",\"name\":\"10.115.20.235\",\"orientation\":\"v\",\"showlegend\":true,\"x\":[\"2022-10-23T02:00:18\",\"2022-10-24T02:00:18\",\"2022-10-24T06:44:07\",\"2022-10-24T06:44:23\",\"2022-10-25T02:00:18\",\"2022-10-25T06:50:23\",\"2022-10-25T06:50:44\"],\"xaxis\":\"x\",\"y\":[83.4000015258789,83.6999969482422,83.6999969482422,83.6999969482422,83.4000015258789,83.4000015258789,83.4000015258789],\"yaxis\":\"y\",\"type\":\"scatter\"},{\"customdata\":[[\"10.115.22.239\"],[\"10.115.22.239\"],[\"10.115.22.239\"],[\"10.115.22.239\"],[\"10.115.22.239\"],[\"10.115.22.239\"],[\"10.115.22.239\"]],\"hovertemplate\":\"<br>%{x|%H:%M - %d/%m}<br>IP: %{customdata[0]}<br>BoreTemperature: %{y}<extra></extra>\",\"legendgroup\":\"10.115.22.239\",\"line\":{\"color\":\"#19d3f3\",\"dash\":\"solid\"},\"marker\":{\"symbol\":\"circle\"},\"mode\":\"lines+markers\",\"name\":\"10.115.22.239\",\"orientation\":\"v\",\"showlegend\":true,\"x\":[\"2022-10-23T05:00:18\",\"2022-10-24T05:00:18\",\"2022-10-24T10:11:20\",\"2022-10-24T10:11:35\",\"2022-10-25T05:00:18\",\"2022-10-25T10:18:44\",\"2022-10-25T10:18:58\"],\"xaxis\":\"x\",\"y\":[73.5,73.5,73.5,73.5,73.5,73.5,73.5],\"yaxis\":\"y\",\"type\":\"scatter\"},{\"customdata\":[[\"10.115.21.239\"],[\"10.115.21.239\"],[\"10.115.21.239\"],[\"10.115.21.239\"],[\"10.115.21.239\"],[\"10.115.21.239\"],[\"10.115.21.239\"],[\"10.115.21.239\"],[\"10.115.21.239\"],[\"10.115.21.239\"],[\"10.115.21.239\"]],\"hovertemplate\":\"<br>%{x|%H:%M - %d/%m}<br>IP: %{customdata[0]}<br>BoreTemperature: %{y}<extra></extra>\",\"legendgroup\":\"10.115.21.239\",\"line\":{\"color\":\"#FF6692\",\"dash\":\"solid\"},\"marker\":{\"symbol\":\"circle\"},\"mode\":\"lines+markers\",\"name\":\"10.115.21.239\",\"orientation\":\"v\",\"showlegend\":true,\"x\":[\"2022-10-23T05:00:18\",\"2022-10-23T09:06:10\",\"2022-10-23T09:06:34\",\"2022-10-23T15:33:17\",\"2022-10-23T15:34:05\",\"2022-10-24T05:00:18\",\"2022-10-24T09:58:33\",\"2022-10-24T09:58:53\",\"2022-10-25T05:00:18\",\"2022-10-25T10:08:41\",\"2022-10-25T10:09:03\"],\"xaxis\":\"x\",\"y\":[84.0,84.0,84.0,84.0,84.0,84.0,84.0,84.0,84.0,84.0,84.0],\"yaxis\":\"y\",\"type\":\"scatter\"},{\"customdata\":[[\"172.16.228.91\"],[\"172.16.228.91\"],[\"172.16.228.91\"],[\"172.16.228.91\"],[\"172.16.228.91\"],[\"172.16.228.91\"],[\"172.16.228.91\"],[\"172.16.228.91\"],[\"172.16.228.91\"]],\"hovertemplate\":\"<br>%{x|%H:%M - %d/%m}<br>IP: %{customdata[0]}<br>BoreTemperature: %{y}<extra></extra>\",\"legendgroup\":\"172.16.228.91\",\"line\":{\"color\":\"#B6E880\",\"dash\":\"solid\"},\"marker\":{\"symbol\":\"circle\"},\"mode\":\"lines+markers\",\"name\":\"172.16.228.91\",\"orientation\":\"v\",\"showlegend\":true,\"x\":[\"2022-10-23T05:00:19\",\"2022-10-23T10:26:19\",\"2022-10-23T10:26:45\",\"2022-10-24T05:00:19\",\"2022-10-24T10:14:44\",\"2022-10-24T10:15:09\",\"2022-10-25T05:00:19\",\"2022-10-25T10:06:07\",\"2022-10-25T10:06:33\"],\"xaxis\":\"x\",\"y\":[65.6999969482422,65.6999969482422,65.6999969482422,65.5,65.6999969482422,65.6999969482422,65.6999969482422,65.6999969482422,65.6999969482422],\"yaxis\":\"y\",\"type\":\"scatter\"},{\"customdata\":[[\"172.19.252.45\"],[\"172.19.252.45\"],[\"172.19.252.45\"],[\"172.19.252.45\"],[\"172.19.252.45\"],[\"172.19.252.45\"]],\"hovertemplate\":\"<br>%{x|%H:%M - %d/%m}<br>IP: %{customdata[0]}<br>BoreTemperature: %{y}<extra></extra>\",\"legendgroup\":\"172.19.252.45\",\"line\":{\"color\":\"#FF97FF\",\"dash\":\"solid\"},\"marker\":{\"symbol\":\"circle\"},\"mode\":\"lines+markers\",\"name\":\"172.19.252.45\",\"orientation\":\"v\",\"showlegend\":true,\"x\":[\"2022-10-23T05:00:19\",\"2022-10-23T11:10:18\",\"2022-10-24T05:00:20\",\"2022-10-24T08:48:30\",\"2022-10-25T05:00:19\",\"2022-10-25T08:58:18\"],\"xaxis\":\"x\",\"y\":[80.4000015258789,80.4000015258789,80.4000015258789,80.4000015258789,80.4000015258789,80.4000015258789],\"yaxis\":\"y\",\"type\":\"scatter\"},{\"customdata\":[[\"10.23.149.13\"],[\"10.23.149.13\"],[\"10.23.149.13\"],[\"10.23.149.13\"],[\"10.23.149.13\"],[\"10.23.149.13\"],[\"10.23.149.13\"]],\"hovertemplate\":\"<br>%{x|%H:%M - %d/%m}<br>IP: %{customdata[0]}<br>BoreTemperature: %{y}<extra></extra>\",\"legendgroup\":\"10.23.149.13\",\"line\":{\"color\":\"#FECB52\",\"dash\":\"solid\"},\"marker\":{\"symbol\":\"circle\"},\"mode\":\"lines+markers\",\"name\":\"10.23.149.13\",\"orientation\":\"v\",\"showlegend\":true,\"x\":[\"2022-10-23T05:00:19\",\"2022-10-24T05:00:17\",\"2022-10-24T09:57:07\",\"2022-10-24T09:57:25\",\"2022-10-25T05:00:18\",\"2022-10-25T09:38:56\",\"2022-10-25T09:39:17\"],\"xaxis\":\"x\",\"y\":[73.9000015258789,73.5999984741211,73.5999984741211,73.5999984741211,73.9000015258789,73.9000015258789,73.9000015258789],\"yaxis\":\"y\",\"type\":\"scatter\"},{\"customdata\":[[\"172.30.1.179\"],[\"172.30.1.179\"],[\"172.30.1.179\"]],\"hovertemplate\":\"<br>%{x|%H:%M - %d/%m}<br>IP: %{customdata[0]}<br>BoreTemperature: %{y}<extra></extra>\",\"legendgroup\":\"172.30.1.179\",\"line\":{\"color\":\"#636efa\",\"dash\":\"solid\"},\"marker\":{\"symbol\":\"circle\"},\"mode\":\"lines+markers\",\"name\":\"172.30.1.179\",\"orientation\":\"v\",\"showlegend\":true,\"x\":[\"2022-10-23T09:59:11\",\"2022-10-24T09:02:50\",\"2022-10-25T09:04:58\"],\"xaxis\":\"x\",\"y\":[0.0,0.0,0.0],\"yaxis\":\"y\",\"type\":\"scatter\"},{\"customdata\":[[\"10.23.157.71\"],[\"10.23.157.71\"],[\"10.23.157.71\"],[\"10.23.157.71\"],[\"10.23.157.71\"],[\"10.23.157.71\"]],\"hovertemplate\":\"<br>%{x|%H:%M - %d/%m}<br>IP: %{customdata[0]}<br>BoreTemperature: %{y}<extra></extra>\",\"legendgroup\":\"10.23.157.71\",\"line\":{\"color\":\"#EF553B\",\"dash\":\"solid\"},\"marker\":{\"symbol\":\"circle\"},\"mode\":\"lines+markers\",\"name\":\"10.23.157.71\",\"orientation\":\"v\",\"showlegend\":true,\"x\":[\"2022-10-23T09:59:28\",\"2022-10-23T10:03:33\",\"2022-10-23T10:03:57\",\"2022-10-24T09:46:31\",\"2022-10-25T05:00:19\",\"2022-10-25T09:08:57\"],\"xaxis\":\"x\",\"y\":[92.3000030517578,92.3000030517578,92.3000030517578,92.3000030517578,92.3000030517578,92.3000030517578],\"yaxis\":\"y\",\"type\":\"scatter\"},{\"customdata\":[[\"172.30.1.72\"],[\"172.30.1.72\"],[\"172.30.1.72\"]],\"hovertemplate\":\"<br>%{x|%H:%M - %d/%m}<br>IP: %{customdata[0]}<br>BoreTemperature: %{y}<extra></extra>\",\"legendgroup\":\"172.30.1.72\",\"line\":{\"color\":\"#00cc96\",\"dash\":\"solid\"},\"marker\":{\"symbol\":\"circle\"},\"mode\":\"lines+markers\",\"name\":\"172.30.1.72\",\"orientation\":\"v\",\"showlegend\":true,\"x\":[\"2022-10-23T10:18:25\",\"2022-10-24T09:20:40\",\"2022-10-25T09:22:45\"],\"xaxis\":\"x\",\"y\":[0.0,0.0,0.0],\"yaxis\":\"y\",\"type\":\"scatter\"},{\"customdata\":[[\"172.16.96.2\"],[\"172.16.96.2\"],[\"172.16.96.2\"]],\"hovertemplate\":\"<br>%{x|%H:%M - %d/%m}<br>IP: %{customdata[0]}<br>BoreTemperature: %{y}<extra></extra>\",\"legendgroup\":\"172.16.96.2\",\"line\":{\"color\":\"#ab63fa\",\"dash\":\"solid\"},\"marker\":{\"symbol\":\"circle\"},\"mode\":\"lines+markers\",\"name\":\"172.16.96.2\",\"orientation\":\"v\",\"showlegend\":true,\"x\":[\"2022-10-23T11:57:37\",\"2022-10-24T10:06:40\",\"2022-10-25T10:03:25\"],\"xaxis\":\"x\",\"y\":[0.0,0.0,0.0],\"yaxis\":\"y\",\"type\":\"scatter\"},{\"customdata\":[[\"10.23.149.30\"],[\"10.23.149.30\"],[\"10.23.149.30\"]],\"hovertemplate\":\"<br>%{x|%H:%M - %d/%m}<br>IP: %{customdata[0]}<br>BoreTemperature: %{y}<extra></extra>\",\"legendgroup\":\"10.23.149.30\",\"line\":{\"color\":\"#FFA15A\",\"dash\":\"solid\"},\"marker\":{\"symbol\":\"circle\"},\"mode\":\"lines+markers\",\"name\":\"10.23.149.30\",\"orientation\":\"v\",\"showlegend\":true,\"x\":[\"2022-10-24T09:41:43\",\"2022-10-25T09:23:49\",\"2022-10-25T17:25:13\"],\"xaxis\":\"x\",\"y\":[0.0,0.0,0.0],\"yaxis\":\"y\",\"type\":\"scatter\"}],                        {\"template\":{\"data\":{\"histogram2dcontour\":[{\"type\":\"histogram2dcontour\",\"colorbar\":{\"outlinewidth\":0,\"ticks\":\"\"},\"colorscale\":[[0.0,\"#0d0887\"],[0.1111111111111111,\"#46039f\"],[0.2222222222222222,\"#7201a8\"],[0.3333333333333333,\"#9c179e\"],[0.4444444444444444,\"#bd3786\"],[0.5555555555555556,\"#d8576b\"],[0.6666666666666666,\"#ed7953\"],[0.7777777777777778,\"#fb9f3a\"],[0.8888888888888888,\"#fdca26\"],[1.0,\"#f0f921\"]]}],\"choropleth\":[{\"type\":\"choropleth\",\"colorbar\":{\"outlinewidth\":0,\"ticks\":\"\"}}],\"histogram2d\":[{\"type\":\"histogram2d\",\"colorbar\":{\"outlinewidth\":0,\"ticks\":\"\"},\"colorscale\":[[0.0,\"#0d0887\"],[0.1111111111111111,\"#46039f\"],[0.2222222222222222,\"#7201a8\"],[0.3333333333333333,\"#9c179e\"],[0.4444444444444444,\"#bd3786\"],[0.5555555555555556,\"#d8576b\"],[0.6666666666666666,\"#ed7953\"],[0.7777777777777778,\"#fb9f3a\"],[0.8888888888888888,\"#fdca26\"],[1.0,\"#f0f921\"]]}],\"heatmap\":[{\"type\":\"heatmap\",\"colorbar\":{\"outlinewidth\":0,\"ticks\":\"\"},\"colorscale\":[[0.0,\"#0d0887\"],[0.1111111111111111,\"#46039f\"],[0.2222222222222222,\"#7201a8\"],[0.3333333333333333,\"#9c179e\"],[0.4444444444444444,\"#bd3786\"],[0.5555555555555556,\"#d8576b\"],[0.6666666666666666,\"#ed7953\"],[0.7777777777777778,\"#fb9f3a\"],[0.8888888888888888,\"#fdca26\"],[1.0,\"#f0f921\"]]}],\"heatmapgl\":[{\"type\":\"heatmapgl\",\"colorbar\":{\"outlinewidth\":0,\"ticks\":\"\"},\"colorscale\":[[0.0,\"#0d0887\"],[0.1111111111111111,\"#46039f\"],[0.2222222222222222,\"#7201a8\"],[0.3333333333333333,\"#9c179e\"],[0.4444444444444444,\"#bd3786\"],[0.5555555555555556,\"#d8576b\"],[0.6666666666666666,\"#ed7953\"],[0.7777777777777778,\"#fb9f3a\"],[0.8888888888888888,\"#fdca26\"],[1.0,\"#f0f921\"]]}],\"contourcarpet\":[{\"type\":\"contourcarpet\",\"colorbar\":{\"outlinewidth\":0,\"ticks\":\"\"}}],\"contour\":[{\"type\":\"contour\",\"colorbar\":{\"outlinewidth\":0,\"ticks\":\"\"},\"colorscale\":[[0.0,\"#0d0887\"],[0.1111111111111111,\"#46039f\"],[0.2222222222222222,\"#7201a8\"],[0.3333333333333333,\"#9c179e\"],[0.4444444444444444,\"#bd3786\"],[0.5555555555555556,\"#d8576b\"],[0.6666666666666666,\"#ed7953\"],[0.7777777777777778,\"#fb9f3a\"],[0.8888888888888888,\"#fdca26\"],[1.0,\"#f0f921\"]]}],\"surface\":[{\"type\":\"surface\",\"colorbar\":{\"outlinewidth\":0,\"ticks\":\"\"},\"colorscale\":[[0.0,\"#0d0887\"],[0.1111111111111111,\"#46039f\"],[0.2222222222222222,\"#7201a8\"],[0.3333333333333333,\"#9c179e\"],[0.4444444444444444,\"#bd3786\"],[0.5555555555555556,\"#d8576b\"],[0.6666666666666666,\"#ed7953\"],[0.7777777777777778,\"#fb9f3a\"],[0.8888888888888888,\"#fdca26\"],[1.0,\"#f0f921\"]]}],\"mesh3d\":[{\"type\":\"mesh3d\",\"colorbar\":{\"outlinewidth\":0,\"ticks\":\"\"}}],\"scatter\":[{\"fillpattern\":{\"fillmode\":\"overlay\",\"size\":10,\"solidity\":0.2},\"type\":\"scatter\"}],\"parcoords\":[{\"type\":\"parcoords\",\"line\":{\"colorbar\":{\"outlinewidth\":0,\"ticks\":\"\"}}}],\"scatterpolargl\":[{\"type\":\"scatterpolargl\",\"marker\":{\"colorbar\":{\"outlinewidth\":0,\"ticks\":\"\"}}}],\"bar\":[{\"error_x\":{\"color\":\"#2a3f5f\"},\"error_y\":{\"color\":\"#2a3f5f\"},\"marker\":{\"line\":{\"color\":\"white\",\"width\":0.5},\"pattern\":{\"fillmode\":\"overlay\",\"size\":10,\"solidity\":0.2}},\"type\":\"bar\"}],\"scattergeo\":[{\"type\":\"scattergeo\",\"marker\":{\"colorbar\":{\"outlinewidth\":0,\"ticks\":\"\"}}}],\"scatterpolar\":[{\"type\":\"scatterpolar\",\"marker\":{\"colorbar\":{\"outlinewidth\":0,\"ticks\":\"\"}}}],\"histogram\":[{\"marker\":{\"pattern\":{\"fillmode\":\"overlay\",\"size\":10,\"solidity\":0.2}},\"type\":\"histogram\"}],\"scattergl\":[{\"type\":\"scattergl\",\"marker\":{\"colorbar\":{\"outlinewidth\":0,\"ticks\":\"\"}}}],\"scatter3d\":[{\"type\":\"scatter3d\",\"line\":{\"colorbar\":{\"outlinewidth\":0,\"ticks\":\"\"}},\"marker\":{\"colorbar\":{\"outlinewidth\":0,\"ticks\":\"\"}}}],\"scattermapbox\":[{\"type\":\"scattermapbox\",\"marker\":{\"colorbar\":{\"outlinewidth\":0,\"ticks\":\"\"}}}],\"scatterternary\":[{\"type\":\"scatterternary\",\"marker\":{\"colorbar\":{\"outlinewidth\":0,\"ticks\":\"\"}}}],\"scattercarpet\":[{\"type\":\"scattercarpet\",\"marker\":{\"colorbar\":{\"outlinewidth\":0,\"ticks\":\"\"}}}],\"carpet\":[{\"aaxis\":{\"endlinecolor\":\"#2a3f5f\",\"gridcolor\":\"#C8D4E3\",\"linecolor\":\"#C8D4E3\",\"minorgridcolor\":\"#C8D4E3\",\"startlinecolor\":\"#2a3f5f\"},\"baxis\":{\"endlinecolor\":\"#2a3f5f\",\"gridcolor\":\"#C8D4E3\",\"linecolor\":\"#C8D4E3\",\"minorgridcolor\":\"#C8D4E3\",\"startlinecolor\":\"#2a3f5f\"},\"type\":\"carpet\"}],\"table\":[{\"cells\":{\"fill\":{\"color\":\"#EBF0F8\"},\"line\":{\"color\":\"white\"}},\"header\":{\"fill\":{\"color\":\"#C8D4E3\"},\"line\":{\"color\":\"white\"}},\"type\":\"table\"}],\"barpolar\":[{\"marker\":{\"line\":{\"color\":\"white\",\"width\":0.5},\"pattern\":{\"fillmode\":\"overlay\",\"size\":10,\"solidity\":0.2}},\"type\":\"barpolar\"}],\"pie\":[{\"automargin\":true,\"type\":\"pie\"}]},\"layout\":{\"autotypenumbers\":\"strict\",\"colorway\":[\"#636efa\",\"#EF553B\",\"#00cc96\",\"#ab63fa\",\"#FFA15A\",\"#19d3f3\",\"#FF6692\",\"#B6E880\",\"#FF97FF\",\"#FECB52\"],\"font\":{\"color\":\"#2a3f5f\"},\"hovermode\":\"closest\",\"hoverlabel\":{\"align\":\"left\"},\"paper_bgcolor\":\"white\",\"plot_bgcolor\":\"white\",\"polar\":{\"bgcolor\":\"white\",\"angularaxis\":{\"gridcolor\":\"#EBF0F8\",\"linecolor\":\"#EBF0F8\",\"ticks\":\"\"},\"radialaxis\":{\"gridcolor\":\"#EBF0F8\",\"linecolor\":\"#EBF0F8\",\"ticks\":\"\"}},\"ternary\":{\"bgcolor\":\"white\",\"aaxis\":{\"gridcolor\":\"#DFE8F3\",\"linecolor\":\"#A2B1C6\",\"ticks\":\"\"},\"baxis\":{\"gridcolor\":\"#DFE8F3\",\"linecolor\":\"#A2B1C6\",\"ticks\":\"\"},\"caxis\":{\"gridcolor\":\"#DFE8F3\",\"linecolor\":\"#A2B1C6\",\"ticks\":\"\"}},\"coloraxis\":{\"colorbar\":{\"outlinewidth\":0,\"ticks\":\"\"}},\"colorscale\":{\"sequential\":[[0.0,\"#0d0887\"],[0.1111111111111111,\"#46039f\"],[0.2222222222222222,\"#7201a8\"],[0.3333333333333333,\"#9c179e\"],[0.4444444444444444,\"#bd3786\"],[0.5555555555555556,\"#d8576b\"],[0.6666666666666666,\"#ed7953\"],[0.7777777777777778,\"#fb9f3a\"],[0.8888888888888888,\"#fdca26\"],[1.0,\"#f0f921\"]],\"sequentialminus\":[[0.0,\"#0d0887\"],[0.1111111111111111,\"#46039f\"],[0.2222222222222222,\"#7201a8\"],[0.3333333333333333,\"#9c179e\"],[0.4444444444444444,\"#bd3786\"],[0.5555555555555556,\"#d8576b\"],[0.6666666666666666,\"#ed7953\"],[0.7777777777777778,\"#fb9f3a\"],[0.8888888888888888,\"#fdca26\"],[1.0,\"#f0f921\"]],\"diverging\":[[0,\"#8e0152\"],[0.1,\"#c51b7d\"],[0.2,\"#de77ae\"],[0.3,\"#f1b6da\"],[0.4,\"#fde0ef\"],[0.5,\"#f7f7f7\"],[0.6,\"#e6f5d0\"],[0.7,\"#b8e186\"],[0.8,\"#7fbc41\"],[0.9,\"#4d9221\"],[1,\"#276419\"]]},\"xaxis\":{\"gridcolor\":\"#EBF0F8\",\"linecolor\":\"#EBF0F8\",\"ticks\":\"\",\"title\":{\"standoff\":15},\"zerolinecolor\":\"#EBF0F8\",\"automargin\":true,\"zerolinewidth\":2},\"yaxis\":{\"gridcolor\":\"#EBF0F8\",\"linecolor\":\"#EBF0F8\",\"ticks\":\"\",\"title\":{\"standoff\":15},\"zerolinecolor\":\"#EBF0F8\",\"automargin\":true,\"zerolinewidth\":2},\"scene\":{\"xaxis\":{\"backgroundcolor\":\"white\",\"gridcolor\":\"#DFE8F3\",\"linecolor\":\"#EBF0F8\",\"showbackground\":true,\"ticks\":\"\",\"zerolinecolor\":\"#EBF0F8\",\"gridwidth\":2},\"yaxis\":{\"backgroundcolor\":\"white\",\"gridcolor\":\"#DFE8F3\",\"linecolor\":\"#EBF0F8\",\"showbackground\":true,\"ticks\":\"\",\"zerolinecolor\":\"#EBF0F8\",\"gridwidth\":2},\"zaxis\":{\"backgroundcolor\":\"white\",\"gridcolor\":\"#DFE8F3\",\"linecolor\":\"#EBF0F8\",\"showbackground\":true,\"ticks\":\"\",\"zerolinecolor\":\"#EBF0F8\",\"gridwidth\":2}},\"shapedefaults\":{\"line\":{\"color\":\"#2a3f5f\"}},\"annotationdefaults\":{\"arrowcolor\":\"#2a3f5f\",\"arrowhead\":0,\"arrowwidth\":1},\"geo\":{\"bgcolor\":\"white\",\"landcolor\":\"white\",\"subunitcolor\":\"#C8D4E3\",\"showland\":true,\"showlakes\":true,\"lakecolor\":\"white\"},\"title\":{\"x\":0.05},\"mapbox\":{\"style\":\"light\"}}},\"xaxis\":{\"anchor\":\"y\",\"domain\":[0.0,1.0],\"title\":{\"text\":\"Data\"}},\"yaxis\":{\"anchor\":\"x\",\"domain\":[0.0,1.0],\"title\":{\"text\":\"HeliumLevel\"},\"showgrid\":false},\"legend\":{\"title\":{\"text\":\"IP\"},\"tracegroupgap\":0},\"title\":{\"text\":\"S\\u00e9ries Temporais para HeliumLevel\"},\"height\":500},                        {\"responsive\": true}                    ).then(function(){\n",
       "                            \n",
       "var gd = document.getElementById('55d89218-caf9-494f-9d15-05f0d4fa8e62');\n",
       "var x = new MutationObserver(function (mutations, observer) {{\n",
       "        var display = window.getComputedStyle(gd).display;\n",
       "        if (!display || display === 'none') {{\n",
       "            console.log([gd, 'removed!']);\n",
       "            Plotly.purge(gd);\n",
       "            observer.disconnect();\n",
       "        }}\n",
       "}});\n",
       "\n",
       "// Listen for the removal of the full notebook cells\n",
       "var notebookContainer = gd.closest('#notebook-container');\n",
       "if (notebookContainer) {{\n",
       "    x.observe(notebookContainer, {childList: true});\n",
       "}}\n",
       "\n",
       "// Listen for the clearing of the current output cell\n",
       "var outputEl = gd.closest('.output');\n",
       "if (outputEl) {{\n",
       "    x.observe(outputEl, {childList: true});\n",
       "}}\n",
       "\n",
       "                        })                };                });            </script>        </div>"
      ]
     },
     "metadata": {},
     "output_type": "display_data"
    }
   ],
   "source": [
    "fig = px.line(\n",
    "    df.sort_index(), \n",
    "    y=\"HeliumLevel\", \n",
    "    line_group=\"IP\", \n",
    "    color=\"IP\", \n",
    "    markers=True,\n",
    "    hover_data=[\"IP\"],\n",
    "    title=\"Séries Temporais para HeliumLevel\",\n",
    "    height=500\n",
    ")\n",
    "fig.update_traces(\n",
    "    hovertemplate=\"<br>%{x|%H:%M - %d/%m}<br>IP: %{customdata[0]}<br>BoreTemperature: %{y}<extra></extra>\"\n",
    ")\n",
    "fig.update_layout(\n",
    "    yaxis=dict(showgrid=False)\n",
    ")\n",
    "fig.show(renderer=\"colab\")"
   ]
  },
  {
   "attachments": {},
   "cell_type": "markdown",
   "metadata": {},
   "source": [
    "#### Anotações\n",
    "- As medições não são constantes em horário e número de marcações por dia.\n",
    "  - O equipamento 172.19.28.70 se destaca: tem 12 medições no mesmo dia (bem superior à média). Pode ser válido checar o a causa raiz desse números.\n",
    "- Vários equipamentos tem os valores constantes ao longo do tempo - e no geral apresentam baixa variação.\n",
    "- Vários equipamentos não tem medições todos os dias.\n",
    "\n",
    "#### Analisando o número de medições (geral e diária)"
   ]
  },
  {
   "cell_type": "code",
   "execution_count": 7,
   "metadata": {},
   "outputs": [
    {
     "data": {
      "text/html": [
       "<div>\n",
       "<style scoped>\n",
       "    .dataframe tbody tr th:only-of-type {\n",
       "        vertical-align: middle;\n",
       "    }\n",
       "\n",
       "    .dataframe tbody tr th {\n",
       "        vertical-align: top;\n",
       "    }\n",
       "\n",
       "    .dataframe thead th {\n",
       "        text-align: right;\n",
       "    }\n",
       "</style>\n",
       "<table border=\"1\" class=\"dataframe\">\n",
       "  <thead>\n",
       "    <tr style=\"text-align: right;\">\n",
       "      <th>Day</th>\n",
       "      <th>2022-10-21</th>\n",
       "      <th>2022-10-22</th>\n",
       "      <th>2022-10-23</th>\n",
       "      <th>2022-10-24</th>\n",
       "      <th>2022-10-25</th>\n",
       "      <th>All</th>\n",
       "    </tr>\n",
       "    <tr>\n",
       "      <th>IP</th>\n",
       "      <th></th>\n",
       "      <th></th>\n",
       "      <th></th>\n",
       "      <th></th>\n",
       "      <th></th>\n",
       "      <th></th>\n",
       "    </tr>\n",
       "  </thead>\n",
       "  <tbody>\n",
       "    <tr>\n",
       "      <th>All</th>\n",
       "      <td>25</td>\n",
       "      <td>29</td>\n",
       "      <td>44</td>\n",
       "      <td>60</td>\n",
       "      <td>53</td>\n",
       "      <td>211</td>\n",
       "    </tr>\n",
       "    <tr>\n",
       "      <th>172.19.28.70</th>\n",
       "      <td>0</td>\n",
       "      <td>2</td>\n",
       "      <td>5</td>\n",
       "      <td>12</td>\n",
       "      <td>2</td>\n",
       "      <td>21</td>\n",
       "    </tr>\n",
       "    <tr>\n",
       "      <th>10.115.17.226</th>\n",
       "      <td>5</td>\n",
       "      <td>5</td>\n",
       "      <td>3</td>\n",
       "      <td>3</td>\n",
       "      <td>2</td>\n",
       "      <td>18</td>\n",
       "    </tr>\n",
       "    <tr>\n",
       "      <th>192.100.16.66</th>\n",
       "      <td>3</td>\n",
       "      <td>3</td>\n",
       "      <td>3</td>\n",
       "      <td>3</td>\n",
       "      <td>3</td>\n",
       "      <td>15</td>\n",
       "    </tr>\n",
       "    <tr>\n",
       "      <th>10.99.80.179</th>\n",
       "      <td>3</td>\n",
       "      <td>3</td>\n",
       "      <td>3</td>\n",
       "      <td>3</td>\n",
       "      <td>3</td>\n",
       "      <td>15</td>\n",
       "    </tr>\n",
       "    <tr>\n",
       "      <th>10.23.152.32</th>\n",
       "      <td>3</td>\n",
       "      <td>3</td>\n",
       "      <td>1</td>\n",
       "      <td>3</td>\n",
       "      <td>3</td>\n",
       "      <td>13</td>\n",
       "    </tr>\n",
       "    <tr>\n",
       "      <th>10.23.153.13</th>\n",
       "      <td>1</td>\n",
       "      <td>3</td>\n",
       "      <td>1</td>\n",
       "      <td>2</td>\n",
       "      <td>4</td>\n",
       "      <td>11</td>\n",
       "    </tr>\n",
       "    <tr>\n",
       "      <th>10.115.16.230</th>\n",
       "      <td>2</td>\n",
       "      <td>2</td>\n",
       "      <td>3</td>\n",
       "      <td>2</td>\n",
       "      <td>2</td>\n",
       "      <td>11</td>\n",
       "    </tr>\n",
       "    <tr>\n",
       "      <th>10.115.21.239</th>\n",
       "      <td>0</td>\n",
       "      <td>0</td>\n",
       "      <td>5</td>\n",
       "      <td>3</td>\n",
       "      <td>3</td>\n",
       "      <td>11</td>\n",
       "    </tr>\n",
       "    <tr>\n",
       "      <th>172.16.228.91</th>\n",
       "      <td>0</td>\n",
       "      <td>0</td>\n",
       "      <td>3</td>\n",
       "      <td>3</td>\n",
       "      <td>3</td>\n",
       "      <td>9</td>\n",
       "    </tr>\n",
       "    <tr>\n",
       "      <th>172.17.216.6</th>\n",
       "      <td>2</td>\n",
       "      <td>1</td>\n",
       "      <td>2</td>\n",
       "      <td>2</td>\n",
       "      <td>2</td>\n",
       "      <td>9</td>\n",
       "    </tr>\n",
       "    <tr>\n",
       "      <th>172.22.8.31</th>\n",
       "      <td>2</td>\n",
       "      <td>2</td>\n",
       "      <td>1</td>\n",
       "      <td>2</td>\n",
       "      <td>2</td>\n",
       "      <td>9</td>\n",
       "    </tr>\n",
       "    <tr>\n",
       "      <th>10.23.149.13</th>\n",
       "      <td>0</td>\n",
       "      <td>0</td>\n",
       "      <td>1</td>\n",
       "      <td>3</td>\n",
       "      <td>3</td>\n",
       "      <td>7</td>\n",
       "    </tr>\n",
       "    <tr>\n",
       "      <th>10.115.22.239</th>\n",
       "      <td>0</td>\n",
       "      <td>0</td>\n",
       "      <td>1</td>\n",
       "      <td>3</td>\n",
       "      <td>3</td>\n",
       "      <td>7</td>\n",
       "    </tr>\n",
       "    <tr>\n",
       "      <th>10.115.20.235</th>\n",
       "      <td>0</td>\n",
       "      <td>0</td>\n",
       "      <td>1</td>\n",
       "      <td>3</td>\n",
       "      <td>3</td>\n",
       "      <td>7</td>\n",
       "    </tr>\n",
       "    <tr>\n",
       "      <th>10.23.157.71</th>\n",
       "      <td>0</td>\n",
       "      <td>0</td>\n",
       "      <td>3</td>\n",
       "      <td>1</td>\n",
       "      <td>2</td>\n",
       "      <td>6</td>\n",
       "    </tr>\n",
       "    <tr>\n",
       "      <th>172.19.152.53</th>\n",
       "      <td>1</td>\n",
       "      <td>1</td>\n",
       "      <td>1</td>\n",
       "      <td>1</td>\n",
       "      <td>2</td>\n",
       "      <td>6</td>\n",
       "    </tr>\n",
       "    <tr>\n",
       "      <th>172.19.252.45</th>\n",
       "      <td>0</td>\n",
       "      <td>0</td>\n",
       "      <td>2</td>\n",
       "      <td>2</td>\n",
       "      <td>2</td>\n",
       "      <td>6</td>\n",
       "    </tr>\n",
       "    <tr>\n",
       "      <th>172.19.40.32</th>\n",
       "      <td>1</td>\n",
       "      <td>1</td>\n",
       "      <td>0</td>\n",
       "      <td>2</td>\n",
       "      <td>1</td>\n",
       "      <td>5</td>\n",
       "    </tr>\n",
       "    <tr>\n",
       "      <th>172.16.172.252</th>\n",
       "      <td>1</td>\n",
       "      <td>1</td>\n",
       "      <td>1</td>\n",
       "      <td>1</td>\n",
       "      <td>1</td>\n",
       "      <td>5</td>\n",
       "    </tr>\n",
       "    <tr>\n",
       "      <th>10.23.152.30</th>\n",
       "      <td>1</td>\n",
       "      <td>1</td>\n",
       "      <td>0</td>\n",
       "      <td>1</td>\n",
       "      <td>1</td>\n",
       "      <td>4</td>\n",
       "    </tr>\n",
       "    <tr>\n",
       "      <th>172.19.156.71</th>\n",
       "      <td>0</td>\n",
       "      <td>1</td>\n",
       "      <td>1</td>\n",
       "      <td>1</td>\n",
       "      <td>1</td>\n",
       "      <td>4</td>\n",
       "    </tr>\n",
       "    <tr>\n",
       "      <th>10.23.149.30</th>\n",
       "      <td>0</td>\n",
       "      <td>0</td>\n",
       "      <td>0</td>\n",
       "      <td>1</td>\n",
       "      <td>2</td>\n",
       "      <td>3</td>\n",
       "    </tr>\n",
       "    <tr>\n",
       "      <th>172.30.1.179</th>\n",
       "      <td>0</td>\n",
       "      <td>0</td>\n",
       "      <td>1</td>\n",
       "      <td>1</td>\n",
       "      <td>1</td>\n",
       "      <td>3</td>\n",
       "    </tr>\n",
       "    <tr>\n",
       "      <th>172.30.1.72</th>\n",
       "      <td>0</td>\n",
       "      <td>0</td>\n",
       "      <td>1</td>\n",
       "      <td>1</td>\n",
       "      <td>1</td>\n",
       "      <td>3</td>\n",
       "    </tr>\n",
       "    <tr>\n",
       "      <th>172.16.96.2</th>\n",
       "      <td>0</td>\n",
       "      <td>0</td>\n",
       "      <td>1</td>\n",
       "      <td>1</td>\n",
       "      <td>1</td>\n",
       "      <td>3</td>\n",
       "    </tr>\n",
       "  </tbody>\n",
       "</table>\n",
       "</div>"
      ],
      "text/plain": [
       "Day             2022-10-21  2022-10-22  2022-10-23  2022-10-24  2022-10-25  \\\n",
       "IP                                                                           \n",
       "All                     25          29          44          60          53   \n",
       "172.19.28.70             0           2           5          12           2   \n",
       "10.115.17.226            5           5           3           3           2   \n",
       "192.100.16.66            3           3           3           3           3   \n",
       "10.99.80.179             3           3           3           3           3   \n",
       "10.23.152.32             3           3           1           3           3   \n",
       "10.23.153.13             1           3           1           2           4   \n",
       "10.115.16.230            2           2           3           2           2   \n",
       "10.115.21.239            0           0           5           3           3   \n",
       "172.16.228.91            0           0           3           3           3   \n",
       "172.17.216.6             2           1           2           2           2   \n",
       "172.22.8.31              2           2           1           2           2   \n",
       "10.23.149.13             0           0           1           3           3   \n",
       "10.115.22.239            0           0           1           3           3   \n",
       "10.115.20.235            0           0           1           3           3   \n",
       "10.23.157.71             0           0           3           1           2   \n",
       "172.19.152.53            1           1           1           1           2   \n",
       "172.19.252.45            0           0           2           2           2   \n",
       "172.19.40.32             1           1           0           2           1   \n",
       "172.16.172.252           1           1           1           1           1   \n",
       "10.23.152.30             1           1           0           1           1   \n",
       "172.19.156.71            0           1           1           1           1   \n",
       "10.23.149.30             0           0           0           1           2   \n",
       "172.30.1.179             0           0           1           1           1   \n",
       "172.30.1.72              0           0           1           1           1   \n",
       "172.16.96.2              0           0           1           1           1   \n",
       "\n",
       "Day             All  \n",
       "IP                   \n",
       "All             211  \n",
       "172.19.28.70     21  \n",
       "10.115.17.226    18  \n",
       "192.100.16.66    15  \n",
       "10.99.80.179     15  \n",
       "10.23.152.32     13  \n",
       "10.23.153.13     11  \n",
       "10.115.16.230    11  \n",
       "10.115.21.239    11  \n",
       "172.16.228.91     9  \n",
       "172.17.216.6      9  \n",
       "172.22.8.31       9  \n",
       "10.23.149.13      7  \n",
       "10.115.22.239     7  \n",
       "10.115.20.235     7  \n",
       "10.23.157.71      6  \n",
       "172.19.152.53     6  \n",
       "172.19.252.45     6  \n",
       "172.19.40.32      5  \n",
       "172.16.172.252    5  \n",
       "10.23.152.30      4  \n",
       "172.19.156.71     4  \n",
       "10.23.149.30      3  \n",
       "172.30.1.179      3  \n",
       "172.30.1.72       3  \n",
       "172.16.96.2       3  "
      ]
     },
     "execution_count": 7,
     "metadata": {},
     "output_type": "execute_result"
    }
   ],
   "source": [
    "df_cross = pd.crosstab(df[\"IP\"], columns=df[\"Day\"], margins=True).sort_values(by=\"All\", ascending=False)\n",
    "\n",
    "df_cross"
   ]
  },
  {
   "attachments": {},
   "cell_type": "markdown",
   "metadata": {},
   "source": [
    "#### Anotações\n",
    "\n",
    "Os equipamentos serão selecionados com o critério:\n",
    "-   Top 3 equipamentos com medições.\n",
    "-   O equipamento deve ter medições em todos dias."
   ]
  },
  {
   "cell_type": "code",
   "execution_count": 8,
   "metadata": {},
   "outputs": [
    {
     "data": {
      "text/plain": [
       "['10.115.17.226', '192.100.16.66', '10.99.80.179']"
      ]
     },
     "metadata": {},
     "output_type": "display_data"
    }
   ],
   "source": [
    "selected_ips = df_cross[\n",
    "    (df_cross.ne(0).all(1))\n",
    "    & (df_cross.index != \"All\")\n",
    "].nlargest(\n",
    "    n=3, \n",
    "    columns=\"All\"\n",
    "    ).index.tolist()\n",
    "\n",
    "display(selected_ips)"
   ]
  },
  {
   "attachments": {},
   "cell_type": "markdown",
   "metadata": {},
   "source": [
    "#### Visualizando as séries temporais selecionadas"
   ]
  },
  {
   "cell_type": "code",
   "execution_count": 23,
   "metadata": {},
   "outputs": [
    {
     "data": {
      "application/vnd.plotly.v1+json": {
       "config": {
        "plotlyServerURL": "https://plot.ly"
       },
       "data": [
        {
         "customdata": [
          [
           "10.115.17.226"
          ],
          [
           "10.115.17.226"
          ],
          [
           "10.115.17.226"
          ],
          [
           "10.115.17.226"
          ],
          [
           "10.115.17.226"
          ],
          [
           "10.115.17.226"
          ],
          [
           "10.115.17.226"
          ],
          [
           "10.115.17.226"
          ],
          [
           "10.115.17.226"
          ],
          [
           "10.115.17.226"
          ],
          [
           "10.115.17.226"
          ],
          [
           "10.115.17.226"
          ],
          [
           "10.115.17.226"
          ],
          [
           "10.115.17.226"
          ],
          [
           "10.115.17.226"
          ],
          [
           "10.115.17.226"
          ],
          [
           "10.115.17.226"
          ],
          [
           "10.115.17.226"
          ]
         ],
         "hovertemplate": "<br>%{x|%H:%M - %d/%m}<br>IP: %{customdata[0]}<br>BoreTemperature: %{y}<extra></extra>",
         "legendgroup": "10.115.17.226",
         "line": {
          "color": "#636efa",
          "dash": "solid"
         },
         "marker": {
          "symbol": "circle"
         },
         "mode": "lines+markers",
         "name": "10.115.17.226",
         "orientation": "v",
         "showlegend": true,
         "type": "scatter",
         "x": [
          "2022-10-21T05:00:18",
          "2022-10-21T09:40:14",
          "2022-10-21T09:40:24",
          "2022-10-21T12:23:49",
          "2022-10-21T12:24:24",
          "2022-10-22T05:00:19",
          "2022-10-22T09:23:23",
          "2022-10-22T09:23:33",
          "2022-10-22T10:08:28",
          "2022-10-22T10:09:01",
          "2022-10-23T05:00:18",
          "2022-10-23T09:18:40",
          "2022-10-23T09:18:51",
          "2022-10-24T09:31:44",
          "2022-10-24T21:11:51",
          "2022-10-24T21:12:27",
          "2022-10-25T05:00:18",
          "2022-10-25T09:59:37"
         ],
         "xaxis": "x",
         "y": [
          59.7999992370606,
          59.7999992370606,
          59.7999992370606,
          59.7999992370606,
          59.7999992370606,
          68.0999984741211,
          68.0999984741211,
          68.0999984741211,
          68.0999984741211,
          68.0999984741211,
          75.5999984741211,
          75.5999984741211,
          75.5999984741211,
          77,
          77,
          77,
          67.4000015258789,
          67.4000015258789
         ],
         "yaxis": "y"
        },
        {
         "customdata": [
          [
           "192.100.16.66"
          ],
          [
           "192.100.16.66"
          ],
          [
           "192.100.16.66"
          ],
          [
           "192.100.16.66"
          ],
          [
           "192.100.16.66"
          ],
          [
           "192.100.16.66"
          ],
          [
           "192.100.16.66"
          ],
          [
           "192.100.16.66"
          ],
          [
           "192.100.16.66"
          ],
          [
           "192.100.16.66"
          ],
          [
           "192.100.16.66"
          ],
          [
           "192.100.16.66"
          ],
          [
           "192.100.16.66"
          ],
          [
           "192.100.16.66"
          ],
          [
           "192.100.16.66"
          ]
         ],
         "hovertemplate": "<br>%{x|%H:%M - %d/%m}<br>IP: %{customdata[0]}<br>BoreTemperature: %{y}<extra></extra>",
         "legendgroup": "192.100.16.66",
         "line": {
          "color": "#EF553B",
          "dash": "solid"
         },
         "marker": {
          "symbol": "circle"
         },
         "mode": "lines+markers",
         "name": "192.100.16.66",
         "orientation": "v",
         "showlegend": true,
         "type": "scatter",
         "x": [
          "2022-10-21T05:00:20",
          "2022-10-21T09:09:10",
          "2022-10-21T09:09:36",
          "2022-10-22T05:00:21",
          "2022-10-22T09:53:40",
          "2022-10-22T09:54:05",
          "2022-10-23T05:00:20",
          "2022-10-23T09:58:51",
          "2022-10-23T09:59:16",
          "2022-10-24T05:00:21",
          "2022-10-24T09:36:59",
          "2022-10-24T09:37:24",
          "2022-10-25T05:00:20",
          "2022-10-25T10:24:46",
          "2022-10-25T10:25:11"
         ],
         "xaxis": "x",
         "y": [
          42.2999992370606,
          42.2999992370606,
          42.2999992370606,
          43,
          42.2999992370606,
          42.2999992370606,
          42.2999992370606,
          42.2999992370606,
          42.2999992370606,
          42.2999992370606,
          42.2999992370606,
          42.2999992370606,
          43,
          42.2999992370606,
          42.2999992370606
         ],
         "yaxis": "y"
        },
        {
         "customdata": [
          [
           "10.99.80.179"
          ],
          [
           "10.99.80.179"
          ],
          [
           "10.99.80.179"
          ],
          [
           "10.99.80.179"
          ],
          [
           "10.99.80.179"
          ],
          [
           "10.99.80.179"
          ],
          [
           "10.99.80.179"
          ],
          [
           "10.99.80.179"
          ],
          [
           "10.99.80.179"
          ],
          [
           "10.99.80.179"
          ],
          [
           "10.99.80.179"
          ],
          [
           "10.99.80.179"
          ],
          [
           "10.99.80.179"
          ],
          [
           "10.99.80.179"
          ],
          [
           "10.99.80.179"
          ]
         ],
         "hovertemplate": "<br>%{x|%H:%M - %d/%m}<br>IP: %{customdata[0]}<br>BoreTemperature: %{y}<extra></extra>",
         "legendgroup": "10.99.80.179",
         "line": {
          "color": "#00cc96",
          "dash": "solid"
         },
         "marker": {
          "symbol": "circle"
         },
         "mode": "lines+markers",
         "name": "10.99.80.179",
         "orientation": "v",
         "showlegend": true,
         "type": "scatter",
         "x": [
          "2022-10-21T05:00:27",
          "2022-10-21T09:07:21",
          "2022-10-21T09:07:44",
          "2022-10-22T05:00:26",
          "2022-10-22T09:38:52",
          "2022-10-22T09:39:15",
          "2022-10-23T05:00:26",
          "2022-10-23T09:03:57",
          "2022-10-23T09:04:20",
          "2022-10-24T05:00:27",
          "2022-10-24T09:34:58",
          "2022-10-24T09:35:21",
          "2022-10-25T05:00:27",
          "2022-10-25T09:20:42",
          "2022-10-25T09:21:07"
         ],
         "xaxis": "x",
         "y": [
          48.5999984741211,
          48.5999984741211,
          48.5999984741211,
          47.9000015258789,
          47.9000015258789,
          47.9000015258789,
          47.2000007629394,
          47.2000007629394,
          47.2000007629394,
          46.5,
          46.5,
          46.5,
          49.2999992370606,
          49.2999992370606,
          49.2999992370606
         ],
         "yaxis": "y"
        }
       ],
       "layout": {
        "height": 300,
        "legend": {
         "title": {
          "text": "IP"
         },
         "tracegroupgap": 0
        },
        "template": {
         "data": {
          "bar": [
           {
            "error_x": {
             "color": "#2a3f5f"
            },
            "error_y": {
             "color": "#2a3f5f"
            },
            "marker": {
             "line": {
              "color": "white",
              "width": 0.5
             },
             "pattern": {
              "fillmode": "overlay",
              "size": 10,
              "solidity": 0.2
             }
            },
            "type": "bar"
           }
          ],
          "barpolar": [
           {
            "marker": {
             "line": {
              "color": "white",
              "width": 0.5
             },
             "pattern": {
              "fillmode": "overlay",
              "size": 10,
              "solidity": 0.2
             }
            },
            "type": "barpolar"
           }
          ],
          "carpet": [
           {
            "aaxis": {
             "endlinecolor": "#2a3f5f",
             "gridcolor": "#C8D4E3",
             "linecolor": "#C8D4E3",
             "minorgridcolor": "#C8D4E3",
             "startlinecolor": "#2a3f5f"
            },
            "baxis": {
             "endlinecolor": "#2a3f5f",
             "gridcolor": "#C8D4E3",
             "linecolor": "#C8D4E3",
             "minorgridcolor": "#C8D4E3",
             "startlinecolor": "#2a3f5f"
            },
            "type": "carpet"
           }
          ],
          "choropleth": [
           {
            "colorbar": {
             "outlinewidth": 0,
             "ticks": ""
            },
            "type": "choropleth"
           }
          ],
          "contour": [
           {
            "colorbar": {
             "outlinewidth": 0,
             "ticks": ""
            },
            "colorscale": [
             [
              0,
              "#0d0887"
             ],
             [
              0.1111111111111111,
              "#46039f"
             ],
             [
              0.2222222222222222,
              "#7201a8"
             ],
             [
              0.3333333333333333,
              "#9c179e"
             ],
             [
              0.4444444444444444,
              "#bd3786"
             ],
             [
              0.5555555555555556,
              "#d8576b"
             ],
             [
              0.6666666666666666,
              "#ed7953"
             ],
             [
              0.7777777777777778,
              "#fb9f3a"
             ],
             [
              0.8888888888888888,
              "#fdca26"
             ],
             [
              1,
              "#f0f921"
             ]
            ],
            "type": "contour"
           }
          ],
          "contourcarpet": [
           {
            "colorbar": {
             "outlinewidth": 0,
             "ticks": ""
            },
            "type": "contourcarpet"
           }
          ],
          "heatmap": [
           {
            "colorbar": {
             "outlinewidth": 0,
             "ticks": ""
            },
            "colorscale": [
             [
              0,
              "#0d0887"
             ],
             [
              0.1111111111111111,
              "#46039f"
             ],
             [
              0.2222222222222222,
              "#7201a8"
             ],
             [
              0.3333333333333333,
              "#9c179e"
             ],
             [
              0.4444444444444444,
              "#bd3786"
             ],
             [
              0.5555555555555556,
              "#d8576b"
             ],
             [
              0.6666666666666666,
              "#ed7953"
             ],
             [
              0.7777777777777778,
              "#fb9f3a"
             ],
             [
              0.8888888888888888,
              "#fdca26"
             ],
             [
              1,
              "#f0f921"
             ]
            ],
            "type": "heatmap"
           }
          ],
          "heatmapgl": [
           {
            "colorbar": {
             "outlinewidth": 0,
             "ticks": ""
            },
            "colorscale": [
             [
              0,
              "#0d0887"
             ],
             [
              0.1111111111111111,
              "#46039f"
             ],
             [
              0.2222222222222222,
              "#7201a8"
             ],
             [
              0.3333333333333333,
              "#9c179e"
             ],
             [
              0.4444444444444444,
              "#bd3786"
             ],
             [
              0.5555555555555556,
              "#d8576b"
             ],
             [
              0.6666666666666666,
              "#ed7953"
             ],
             [
              0.7777777777777778,
              "#fb9f3a"
             ],
             [
              0.8888888888888888,
              "#fdca26"
             ],
             [
              1,
              "#f0f921"
             ]
            ],
            "type": "heatmapgl"
           }
          ],
          "histogram": [
           {
            "marker": {
             "pattern": {
              "fillmode": "overlay",
              "size": 10,
              "solidity": 0.2
             }
            },
            "type": "histogram"
           }
          ],
          "histogram2d": [
           {
            "colorbar": {
             "outlinewidth": 0,
             "ticks": ""
            },
            "colorscale": [
             [
              0,
              "#0d0887"
             ],
             [
              0.1111111111111111,
              "#46039f"
             ],
             [
              0.2222222222222222,
              "#7201a8"
             ],
             [
              0.3333333333333333,
              "#9c179e"
             ],
             [
              0.4444444444444444,
              "#bd3786"
             ],
             [
              0.5555555555555556,
              "#d8576b"
             ],
             [
              0.6666666666666666,
              "#ed7953"
             ],
             [
              0.7777777777777778,
              "#fb9f3a"
             ],
             [
              0.8888888888888888,
              "#fdca26"
             ],
             [
              1,
              "#f0f921"
             ]
            ],
            "type": "histogram2d"
           }
          ],
          "histogram2dcontour": [
           {
            "colorbar": {
             "outlinewidth": 0,
             "ticks": ""
            },
            "colorscale": [
             [
              0,
              "#0d0887"
             ],
             [
              0.1111111111111111,
              "#46039f"
             ],
             [
              0.2222222222222222,
              "#7201a8"
             ],
             [
              0.3333333333333333,
              "#9c179e"
             ],
             [
              0.4444444444444444,
              "#bd3786"
             ],
             [
              0.5555555555555556,
              "#d8576b"
             ],
             [
              0.6666666666666666,
              "#ed7953"
             ],
             [
              0.7777777777777778,
              "#fb9f3a"
             ],
             [
              0.8888888888888888,
              "#fdca26"
             ],
             [
              1,
              "#f0f921"
             ]
            ],
            "type": "histogram2dcontour"
           }
          ],
          "mesh3d": [
           {
            "colorbar": {
             "outlinewidth": 0,
             "ticks": ""
            },
            "type": "mesh3d"
           }
          ],
          "parcoords": [
           {
            "line": {
             "colorbar": {
              "outlinewidth": 0,
              "ticks": ""
             }
            },
            "type": "parcoords"
           }
          ],
          "pie": [
           {
            "automargin": true,
            "type": "pie"
           }
          ],
          "scatter": [
           {
            "fillpattern": {
             "fillmode": "overlay",
             "size": 10,
             "solidity": 0.2
            },
            "type": "scatter"
           }
          ],
          "scatter3d": [
           {
            "line": {
             "colorbar": {
              "outlinewidth": 0,
              "ticks": ""
             }
            },
            "marker": {
             "colorbar": {
              "outlinewidth": 0,
              "ticks": ""
             }
            },
            "type": "scatter3d"
           }
          ],
          "scattercarpet": [
           {
            "marker": {
             "colorbar": {
              "outlinewidth": 0,
              "ticks": ""
             }
            },
            "type": "scattercarpet"
           }
          ],
          "scattergeo": [
           {
            "marker": {
             "colorbar": {
              "outlinewidth": 0,
              "ticks": ""
             }
            },
            "type": "scattergeo"
           }
          ],
          "scattergl": [
           {
            "marker": {
             "colorbar": {
              "outlinewidth": 0,
              "ticks": ""
             }
            },
            "type": "scattergl"
           }
          ],
          "scattermapbox": [
           {
            "marker": {
             "colorbar": {
              "outlinewidth": 0,
              "ticks": ""
             }
            },
            "type": "scattermapbox"
           }
          ],
          "scatterpolar": [
           {
            "marker": {
             "colorbar": {
              "outlinewidth": 0,
              "ticks": ""
             }
            },
            "type": "scatterpolar"
           }
          ],
          "scatterpolargl": [
           {
            "marker": {
             "colorbar": {
              "outlinewidth": 0,
              "ticks": ""
             }
            },
            "type": "scatterpolargl"
           }
          ],
          "scatterternary": [
           {
            "marker": {
             "colorbar": {
              "outlinewidth": 0,
              "ticks": ""
             }
            },
            "type": "scatterternary"
           }
          ],
          "surface": [
           {
            "colorbar": {
             "outlinewidth": 0,
             "ticks": ""
            },
            "colorscale": [
             [
              0,
              "#0d0887"
             ],
             [
              0.1111111111111111,
              "#46039f"
             ],
             [
              0.2222222222222222,
              "#7201a8"
             ],
             [
              0.3333333333333333,
              "#9c179e"
             ],
             [
              0.4444444444444444,
              "#bd3786"
             ],
             [
              0.5555555555555556,
              "#d8576b"
             ],
             [
              0.6666666666666666,
              "#ed7953"
             ],
             [
              0.7777777777777778,
              "#fb9f3a"
             ],
             [
              0.8888888888888888,
              "#fdca26"
             ],
             [
              1,
              "#f0f921"
             ]
            ],
            "type": "surface"
           }
          ],
          "table": [
           {
            "cells": {
             "fill": {
              "color": "#EBF0F8"
             },
             "line": {
              "color": "white"
             }
            },
            "header": {
             "fill": {
              "color": "#C8D4E3"
             },
             "line": {
              "color": "white"
             }
            },
            "type": "table"
           }
          ]
         },
         "layout": {
          "annotationdefaults": {
           "arrowcolor": "#2a3f5f",
           "arrowhead": 0,
           "arrowwidth": 1
          },
          "autotypenumbers": "strict",
          "coloraxis": {
           "colorbar": {
            "outlinewidth": 0,
            "ticks": ""
           }
          },
          "colorscale": {
           "diverging": [
            [
             0,
             "#8e0152"
            ],
            [
             0.1,
             "#c51b7d"
            ],
            [
             0.2,
             "#de77ae"
            ],
            [
             0.3,
             "#f1b6da"
            ],
            [
             0.4,
             "#fde0ef"
            ],
            [
             0.5,
             "#f7f7f7"
            ],
            [
             0.6,
             "#e6f5d0"
            ],
            [
             0.7,
             "#b8e186"
            ],
            [
             0.8,
             "#7fbc41"
            ],
            [
             0.9,
             "#4d9221"
            ],
            [
             1,
             "#276419"
            ]
           ],
           "sequential": [
            [
             0,
             "#0d0887"
            ],
            [
             0.1111111111111111,
             "#46039f"
            ],
            [
             0.2222222222222222,
             "#7201a8"
            ],
            [
             0.3333333333333333,
             "#9c179e"
            ],
            [
             0.4444444444444444,
             "#bd3786"
            ],
            [
             0.5555555555555556,
             "#d8576b"
            ],
            [
             0.6666666666666666,
             "#ed7953"
            ],
            [
             0.7777777777777778,
             "#fb9f3a"
            ],
            [
             0.8888888888888888,
             "#fdca26"
            ],
            [
             1,
             "#f0f921"
            ]
           ],
           "sequentialminus": [
            [
             0,
             "#0d0887"
            ],
            [
             0.1111111111111111,
             "#46039f"
            ],
            [
             0.2222222222222222,
             "#7201a8"
            ],
            [
             0.3333333333333333,
             "#9c179e"
            ],
            [
             0.4444444444444444,
             "#bd3786"
            ],
            [
             0.5555555555555556,
             "#d8576b"
            ],
            [
             0.6666666666666666,
             "#ed7953"
            ],
            [
             0.7777777777777778,
             "#fb9f3a"
            ],
            [
             0.8888888888888888,
             "#fdca26"
            ],
            [
             1,
             "#f0f921"
            ]
           ]
          },
          "colorway": [
           "#636efa",
           "#EF553B",
           "#00cc96",
           "#ab63fa",
           "#FFA15A",
           "#19d3f3",
           "#FF6692",
           "#B6E880",
           "#FF97FF",
           "#FECB52"
          ],
          "font": {
           "color": "#2a3f5f"
          },
          "geo": {
           "bgcolor": "white",
           "lakecolor": "white",
           "landcolor": "white",
           "showlakes": true,
           "showland": true,
           "subunitcolor": "#C8D4E3"
          },
          "hoverlabel": {
           "align": "left"
          },
          "hovermode": "closest",
          "mapbox": {
           "style": "light"
          },
          "paper_bgcolor": "white",
          "plot_bgcolor": "white",
          "polar": {
           "angularaxis": {
            "gridcolor": "#EBF0F8",
            "linecolor": "#EBF0F8",
            "ticks": ""
           },
           "bgcolor": "white",
           "radialaxis": {
            "gridcolor": "#EBF0F8",
            "linecolor": "#EBF0F8",
            "ticks": ""
           }
          },
          "scene": {
           "xaxis": {
            "backgroundcolor": "white",
            "gridcolor": "#DFE8F3",
            "gridwidth": 2,
            "linecolor": "#EBF0F8",
            "showbackground": true,
            "ticks": "",
            "zerolinecolor": "#EBF0F8"
           },
           "yaxis": {
            "backgroundcolor": "white",
            "gridcolor": "#DFE8F3",
            "gridwidth": 2,
            "linecolor": "#EBF0F8",
            "showbackground": true,
            "ticks": "",
            "zerolinecolor": "#EBF0F8"
           },
           "zaxis": {
            "backgroundcolor": "white",
            "gridcolor": "#DFE8F3",
            "gridwidth": 2,
            "linecolor": "#EBF0F8",
            "showbackground": true,
            "ticks": "",
            "zerolinecolor": "#EBF0F8"
           }
          },
          "shapedefaults": {
           "line": {
            "color": "#2a3f5f"
           }
          },
          "ternary": {
           "aaxis": {
            "gridcolor": "#DFE8F3",
            "linecolor": "#A2B1C6",
            "ticks": ""
           },
           "baxis": {
            "gridcolor": "#DFE8F3",
            "linecolor": "#A2B1C6",
            "ticks": ""
           },
           "bgcolor": "white",
           "caxis": {
            "gridcolor": "#DFE8F3",
            "linecolor": "#A2B1C6",
            "ticks": ""
           }
          },
          "title": {
           "x": 0.05
          },
          "xaxis": {
           "automargin": true,
           "gridcolor": "#EBF0F8",
           "linecolor": "#EBF0F8",
           "ticks": "",
           "title": {
            "standoff": 15
           },
           "zerolinecolor": "#EBF0F8",
           "zerolinewidth": 2
          },
          "yaxis": {
           "automargin": true,
           "gridcolor": "#EBF0F8",
           "linecolor": "#EBF0F8",
           "ticks": "",
           "title": {
            "standoff": 15
           },
           "zerolinecolor": "#EBF0F8",
           "zerolinewidth": 2
          }
         }
        },
        "title": {
         "text": "Séries Temporais para BoreTemperature"
        },
        "xaxis": {
         "anchor": "y",
         "domain": [
          0,
          1
         ],
         "dtick": "d",
         "tickformat": "%H:%M<br>%b %d",
         "title": {
          "text": "Data"
         }
        },
        "yaxis": {
         "anchor": "x",
         "domain": [
          0,
          1
         ],
         "showgrid": false,
         "title": {
          "text": "BoreTemperature"
         }
        }
       }
      },
      "text/html": [
       "<div>                            <div id=\"52d8a2e8-7939-460f-9a39-bce5b644f355\" class=\"plotly-graph-div\" style=\"height:300px; width:100%;\"></div>            <script type=\"text/javascript\">                require([\"plotly\"], function(Plotly) {                    window.PLOTLYENV=window.PLOTLYENV || {};                                    if (document.getElementById(\"52d8a2e8-7939-460f-9a39-bce5b644f355\")) {                    Plotly.newPlot(                        \"52d8a2e8-7939-460f-9a39-bce5b644f355\",                        [{\"customdata\":[[\"10.115.17.226\"],[\"10.115.17.226\"],[\"10.115.17.226\"],[\"10.115.17.226\"],[\"10.115.17.226\"],[\"10.115.17.226\"],[\"10.115.17.226\"],[\"10.115.17.226\"],[\"10.115.17.226\"],[\"10.115.17.226\"],[\"10.115.17.226\"],[\"10.115.17.226\"],[\"10.115.17.226\"],[\"10.115.17.226\"],[\"10.115.17.226\"],[\"10.115.17.226\"],[\"10.115.17.226\"],[\"10.115.17.226\"]],\"hovertemplate\":\"<br>%{x|%H:%M - %d/%m}<br>IP: %{customdata[0]}<br>BoreTemperature: %{y}<extra></extra>\",\"legendgroup\":\"10.115.17.226\",\"line\":{\"color\":\"#636efa\",\"dash\":\"solid\"},\"marker\":{\"symbol\":\"circle\"},\"mode\":\"lines+markers\",\"name\":\"10.115.17.226\",\"orientation\":\"v\",\"showlegend\":true,\"x\":[\"2022-10-21T05:00:18\",\"2022-10-21T09:40:14\",\"2022-10-21T09:40:24\",\"2022-10-21T12:23:49\",\"2022-10-21T12:24:24\",\"2022-10-22T05:00:19\",\"2022-10-22T09:23:23\",\"2022-10-22T09:23:33\",\"2022-10-22T10:08:28\",\"2022-10-22T10:09:01\",\"2022-10-23T05:00:18\",\"2022-10-23T09:18:40\",\"2022-10-23T09:18:51\",\"2022-10-24T09:31:44\",\"2022-10-24T21:11:51\",\"2022-10-24T21:12:27\",\"2022-10-25T05:00:18\",\"2022-10-25T09:59:37\"],\"xaxis\":\"x\",\"y\":[59.7999992370606,59.7999992370606,59.7999992370606,59.7999992370606,59.7999992370606,68.0999984741211,68.0999984741211,68.0999984741211,68.0999984741211,68.0999984741211,75.5999984741211,75.5999984741211,75.5999984741211,77.0,77.0,77.0,67.4000015258789,67.4000015258789],\"yaxis\":\"y\",\"type\":\"scatter\"},{\"customdata\":[[\"192.100.16.66\"],[\"192.100.16.66\"],[\"192.100.16.66\"],[\"192.100.16.66\"],[\"192.100.16.66\"],[\"192.100.16.66\"],[\"192.100.16.66\"],[\"192.100.16.66\"],[\"192.100.16.66\"],[\"192.100.16.66\"],[\"192.100.16.66\"],[\"192.100.16.66\"],[\"192.100.16.66\"],[\"192.100.16.66\"],[\"192.100.16.66\"]],\"hovertemplate\":\"<br>%{x|%H:%M - %d/%m}<br>IP: %{customdata[0]}<br>BoreTemperature: %{y}<extra></extra>\",\"legendgroup\":\"192.100.16.66\",\"line\":{\"color\":\"#EF553B\",\"dash\":\"solid\"},\"marker\":{\"symbol\":\"circle\"},\"mode\":\"lines+markers\",\"name\":\"192.100.16.66\",\"orientation\":\"v\",\"showlegend\":true,\"x\":[\"2022-10-21T05:00:20\",\"2022-10-21T09:09:10\",\"2022-10-21T09:09:36\",\"2022-10-22T05:00:21\",\"2022-10-22T09:53:40\",\"2022-10-22T09:54:05\",\"2022-10-23T05:00:20\",\"2022-10-23T09:58:51\",\"2022-10-23T09:59:16\",\"2022-10-24T05:00:21\",\"2022-10-24T09:36:59\",\"2022-10-24T09:37:24\",\"2022-10-25T05:00:20\",\"2022-10-25T10:24:46\",\"2022-10-25T10:25:11\"],\"xaxis\":\"x\",\"y\":[42.2999992370606,42.2999992370606,42.2999992370606,43.0,42.2999992370606,42.2999992370606,42.2999992370606,42.2999992370606,42.2999992370606,42.2999992370606,42.2999992370606,42.2999992370606,43.0,42.2999992370606,42.2999992370606],\"yaxis\":\"y\",\"type\":\"scatter\"},{\"customdata\":[[\"10.99.80.179\"],[\"10.99.80.179\"],[\"10.99.80.179\"],[\"10.99.80.179\"],[\"10.99.80.179\"],[\"10.99.80.179\"],[\"10.99.80.179\"],[\"10.99.80.179\"],[\"10.99.80.179\"],[\"10.99.80.179\"],[\"10.99.80.179\"],[\"10.99.80.179\"],[\"10.99.80.179\"],[\"10.99.80.179\"],[\"10.99.80.179\"]],\"hovertemplate\":\"<br>%{x|%H:%M - %d/%m}<br>IP: %{customdata[0]}<br>BoreTemperature: %{y}<extra></extra>\",\"legendgroup\":\"10.99.80.179\",\"line\":{\"color\":\"#00cc96\",\"dash\":\"solid\"},\"marker\":{\"symbol\":\"circle\"},\"mode\":\"lines+markers\",\"name\":\"10.99.80.179\",\"orientation\":\"v\",\"showlegend\":true,\"x\":[\"2022-10-21T05:00:27\",\"2022-10-21T09:07:21\",\"2022-10-21T09:07:44\",\"2022-10-22T05:00:26\",\"2022-10-22T09:38:52\",\"2022-10-22T09:39:15\",\"2022-10-23T05:00:26\",\"2022-10-23T09:03:57\",\"2022-10-23T09:04:20\",\"2022-10-24T05:00:27\",\"2022-10-24T09:34:58\",\"2022-10-24T09:35:21\",\"2022-10-25T05:00:27\",\"2022-10-25T09:20:42\",\"2022-10-25T09:21:07\"],\"xaxis\":\"x\",\"y\":[48.5999984741211,48.5999984741211,48.5999984741211,47.9000015258789,47.9000015258789,47.9000015258789,47.2000007629394,47.2000007629394,47.2000007629394,46.5,46.5,46.5,49.2999992370606,49.2999992370606,49.2999992370606],\"yaxis\":\"y\",\"type\":\"scatter\"}],                        {\"template\":{\"data\":{\"histogram2dcontour\":[{\"type\":\"histogram2dcontour\",\"colorbar\":{\"outlinewidth\":0,\"ticks\":\"\"},\"colorscale\":[[0.0,\"#0d0887\"],[0.1111111111111111,\"#46039f\"],[0.2222222222222222,\"#7201a8\"],[0.3333333333333333,\"#9c179e\"],[0.4444444444444444,\"#bd3786\"],[0.5555555555555556,\"#d8576b\"],[0.6666666666666666,\"#ed7953\"],[0.7777777777777778,\"#fb9f3a\"],[0.8888888888888888,\"#fdca26\"],[1.0,\"#f0f921\"]]}],\"choropleth\":[{\"type\":\"choropleth\",\"colorbar\":{\"outlinewidth\":0,\"ticks\":\"\"}}],\"histogram2d\":[{\"type\":\"histogram2d\",\"colorbar\":{\"outlinewidth\":0,\"ticks\":\"\"},\"colorscale\":[[0.0,\"#0d0887\"],[0.1111111111111111,\"#46039f\"],[0.2222222222222222,\"#7201a8\"],[0.3333333333333333,\"#9c179e\"],[0.4444444444444444,\"#bd3786\"],[0.5555555555555556,\"#d8576b\"],[0.6666666666666666,\"#ed7953\"],[0.7777777777777778,\"#fb9f3a\"],[0.8888888888888888,\"#fdca26\"],[1.0,\"#f0f921\"]]}],\"heatmap\":[{\"type\":\"heatmap\",\"colorbar\":{\"outlinewidth\":0,\"ticks\":\"\"},\"colorscale\":[[0.0,\"#0d0887\"],[0.1111111111111111,\"#46039f\"],[0.2222222222222222,\"#7201a8\"],[0.3333333333333333,\"#9c179e\"],[0.4444444444444444,\"#bd3786\"],[0.5555555555555556,\"#d8576b\"],[0.6666666666666666,\"#ed7953\"],[0.7777777777777778,\"#fb9f3a\"],[0.8888888888888888,\"#fdca26\"],[1.0,\"#f0f921\"]]}],\"heatmapgl\":[{\"type\":\"heatmapgl\",\"colorbar\":{\"outlinewidth\":0,\"ticks\":\"\"},\"colorscale\":[[0.0,\"#0d0887\"],[0.1111111111111111,\"#46039f\"],[0.2222222222222222,\"#7201a8\"],[0.3333333333333333,\"#9c179e\"],[0.4444444444444444,\"#bd3786\"],[0.5555555555555556,\"#d8576b\"],[0.6666666666666666,\"#ed7953\"],[0.7777777777777778,\"#fb9f3a\"],[0.8888888888888888,\"#fdca26\"],[1.0,\"#f0f921\"]]}],\"contourcarpet\":[{\"type\":\"contourcarpet\",\"colorbar\":{\"outlinewidth\":0,\"ticks\":\"\"}}],\"contour\":[{\"type\":\"contour\",\"colorbar\":{\"outlinewidth\":0,\"ticks\":\"\"},\"colorscale\":[[0.0,\"#0d0887\"],[0.1111111111111111,\"#46039f\"],[0.2222222222222222,\"#7201a8\"],[0.3333333333333333,\"#9c179e\"],[0.4444444444444444,\"#bd3786\"],[0.5555555555555556,\"#d8576b\"],[0.6666666666666666,\"#ed7953\"],[0.7777777777777778,\"#fb9f3a\"],[0.8888888888888888,\"#fdca26\"],[1.0,\"#f0f921\"]]}],\"surface\":[{\"type\":\"surface\",\"colorbar\":{\"outlinewidth\":0,\"ticks\":\"\"},\"colorscale\":[[0.0,\"#0d0887\"],[0.1111111111111111,\"#46039f\"],[0.2222222222222222,\"#7201a8\"],[0.3333333333333333,\"#9c179e\"],[0.4444444444444444,\"#bd3786\"],[0.5555555555555556,\"#d8576b\"],[0.6666666666666666,\"#ed7953\"],[0.7777777777777778,\"#fb9f3a\"],[0.8888888888888888,\"#fdca26\"],[1.0,\"#f0f921\"]]}],\"mesh3d\":[{\"type\":\"mesh3d\",\"colorbar\":{\"outlinewidth\":0,\"ticks\":\"\"}}],\"scatter\":[{\"fillpattern\":{\"fillmode\":\"overlay\",\"size\":10,\"solidity\":0.2},\"type\":\"scatter\"}],\"parcoords\":[{\"type\":\"parcoords\",\"line\":{\"colorbar\":{\"outlinewidth\":0,\"ticks\":\"\"}}}],\"scatterpolargl\":[{\"type\":\"scatterpolargl\",\"marker\":{\"colorbar\":{\"outlinewidth\":0,\"ticks\":\"\"}}}],\"bar\":[{\"error_x\":{\"color\":\"#2a3f5f\"},\"error_y\":{\"color\":\"#2a3f5f\"},\"marker\":{\"line\":{\"color\":\"white\",\"width\":0.5},\"pattern\":{\"fillmode\":\"overlay\",\"size\":10,\"solidity\":0.2}},\"type\":\"bar\"}],\"scattergeo\":[{\"type\":\"scattergeo\",\"marker\":{\"colorbar\":{\"outlinewidth\":0,\"ticks\":\"\"}}}],\"scatterpolar\":[{\"type\":\"scatterpolar\",\"marker\":{\"colorbar\":{\"outlinewidth\":0,\"ticks\":\"\"}}}],\"histogram\":[{\"marker\":{\"pattern\":{\"fillmode\":\"overlay\",\"size\":10,\"solidity\":0.2}},\"type\":\"histogram\"}],\"scattergl\":[{\"type\":\"scattergl\",\"marker\":{\"colorbar\":{\"outlinewidth\":0,\"ticks\":\"\"}}}],\"scatter3d\":[{\"type\":\"scatter3d\",\"line\":{\"colorbar\":{\"outlinewidth\":0,\"ticks\":\"\"}},\"marker\":{\"colorbar\":{\"outlinewidth\":0,\"ticks\":\"\"}}}],\"scattermapbox\":[{\"type\":\"scattermapbox\",\"marker\":{\"colorbar\":{\"outlinewidth\":0,\"ticks\":\"\"}}}],\"scatterternary\":[{\"type\":\"scatterternary\",\"marker\":{\"colorbar\":{\"outlinewidth\":0,\"ticks\":\"\"}}}],\"scattercarpet\":[{\"type\":\"scattercarpet\",\"marker\":{\"colorbar\":{\"outlinewidth\":0,\"ticks\":\"\"}}}],\"carpet\":[{\"aaxis\":{\"endlinecolor\":\"#2a3f5f\",\"gridcolor\":\"#C8D4E3\",\"linecolor\":\"#C8D4E3\",\"minorgridcolor\":\"#C8D4E3\",\"startlinecolor\":\"#2a3f5f\"},\"baxis\":{\"endlinecolor\":\"#2a3f5f\",\"gridcolor\":\"#C8D4E3\",\"linecolor\":\"#C8D4E3\",\"minorgridcolor\":\"#C8D4E3\",\"startlinecolor\":\"#2a3f5f\"},\"type\":\"carpet\"}],\"table\":[{\"cells\":{\"fill\":{\"color\":\"#EBF0F8\"},\"line\":{\"color\":\"white\"}},\"header\":{\"fill\":{\"color\":\"#C8D4E3\"},\"line\":{\"color\":\"white\"}},\"type\":\"table\"}],\"barpolar\":[{\"marker\":{\"line\":{\"color\":\"white\",\"width\":0.5},\"pattern\":{\"fillmode\":\"overlay\",\"size\":10,\"solidity\":0.2}},\"type\":\"barpolar\"}],\"pie\":[{\"automargin\":true,\"type\":\"pie\"}]},\"layout\":{\"autotypenumbers\":\"strict\",\"colorway\":[\"#636efa\",\"#EF553B\",\"#00cc96\",\"#ab63fa\",\"#FFA15A\",\"#19d3f3\",\"#FF6692\",\"#B6E880\",\"#FF97FF\",\"#FECB52\"],\"font\":{\"color\":\"#2a3f5f\"},\"hovermode\":\"closest\",\"hoverlabel\":{\"align\":\"left\"},\"paper_bgcolor\":\"white\",\"plot_bgcolor\":\"white\",\"polar\":{\"bgcolor\":\"white\",\"angularaxis\":{\"gridcolor\":\"#EBF0F8\",\"linecolor\":\"#EBF0F8\",\"ticks\":\"\"},\"radialaxis\":{\"gridcolor\":\"#EBF0F8\",\"linecolor\":\"#EBF0F8\",\"ticks\":\"\"}},\"ternary\":{\"bgcolor\":\"white\",\"aaxis\":{\"gridcolor\":\"#DFE8F3\",\"linecolor\":\"#A2B1C6\",\"ticks\":\"\"},\"baxis\":{\"gridcolor\":\"#DFE8F3\",\"linecolor\":\"#A2B1C6\",\"ticks\":\"\"},\"caxis\":{\"gridcolor\":\"#DFE8F3\",\"linecolor\":\"#A2B1C6\",\"ticks\":\"\"}},\"coloraxis\":{\"colorbar\":{\"outlinewidth\":0,\"ticks\":\"\"}},\"colorscale\":{\"sequential\":[[0.0,\"#0d0887\"],[0.1111111111111111,\"#46039f\"],[0.2222222222222222,\"#7201a8\"],[0.3333333333333333,\"#9c179e\"],[0.4444444444444444,\"#bd3786\"],[0.5555555555555556,\"#d8576b\"],[0.6666666666666666,\"#ed7953\"],[0.7777777777777778,\"#fb9f3a\"],[0.8888888888888888,\"#fdca26\"],[1.0,\"#f0f921\"]],\"sequentialminus\":[[0.0,\"#0d0887\"],[0.1111111111111111,\"#46039f\"],[0.2222222222222222,\"#7201a8\"],[0.3333333333333333,\"#9c179e\"],[0.4444444444444444,\"#bd3786\"],[0.5555555555555556,\"#d8576b\"],[0.6666666666666666,\"#ed7953\"],[0.7777777777777778,\"#fb9f3a\"],[0.8888888888888888,\"#fdca26\"],[1.0,\"#f0f921\"]],\"diverging\":[[0,\"#8e0152\"],[0.1,\"#c51b7d\"],[0.2,\"#de77ae\"],[0.3,\"#f1b6da\"],[0.4,\"#fde0ef\"],[0.5,\"#f7f7f7\"],[0.6,\"#e6f5d0\"],[0.7,\"#b8e186\"],[0.8,\"#7fbc41\"],[0.9,\"#4d9221\"],[1,\"#276419\"]]},\"xaxis\":{\"gridcolor\":\"#EBF0F8\",\"linecolor\":\"#EBF0F8\",\"ticks\":\"\",\"title\":{\"standoff\":15},\"zerolinecolor\":\"#EBF0F8\",\"automargin\":true,\"zerolinewidth\":2},\"yaxis\":{\"gridcolor\":\"#EBF0F8\",\"linecolor\":\"#EBF0F8\",\"ticks\":\"\",\"title\":{\"standoff\":15},\"zerolinecolor\":\"#EBF0F8\",\"automargin\":true,\"zerolinewidth\":2},\"scene\":{\"xaxis\":{\"backgroundcolor\":\"white\",\"gridcolor\":\"#DFE8F3\",\"linecolor\":\"#EBF0F8\",\"showbackground\":true,\"ticks\":\"\",\"zerolinecolor\":\"#EBF0F8\",\"gridwidth\":2},\"yaxis\":{\"backgroundcolor\":\"white\",\"gridcolor\":\"#DFE8F3\",\"linecolor\":\"#EBF0F8\",\"showbackground\":true,\"ticks\":\"\",\"zerolinecolor\":\"#EBF0F8\",\"gridwidth\":2},\"zaxis\":{\"backgroundcolor\":\"white\",\"gridcolor\":\"#DFE8F3\",\"linecolor\":\"#EBF0F8\",\"showbackground\":true,\"ticks\":\"\",\"zerolinecolor\":\"#EBF0F8\",\"gridwidth\":2}},\"shapedefaults\":{\"line\":{\"color\":\"#2a3f5f\"}},\"annotationdefaults\":{\"arrowcolor\":\"#2a3f5f\",\"arrowhead\":0,\"arrowwidth\":1},\"geo\":{\"bgcolor\":\"white\",\"landcolor\":\"white\",\"subunitcolor\":\"#C8D4E3\",\"showland\":true,\"showlakes\":true,\"lakecolor\":\"white\"},\"title\":{\"x\":0.05},\"mapbox\":{\"style\":\"light\"}}},\"xaxis\":{\"anchor\":\"y\",\"domain\":[0.0,1.0],\"title\":{\"text\":\"Data\"},\"dtick\":\"d\",\"tickformat\":\"%H:%M<br>%b %d\"},\"yaxis\":{\"anchor\":\"x\",\"domain\":[0.0,1.0],\"title\":{\"text\":\"BoreTemperature\"},\"showgrid\":false},\"legend\":{\"title\":{\"text\":\"IP\"},\"tracegroupgap\":0},\"title\":{\"text\":\"S\\u00e9ries Temporais para BoreTemperature\"},\"height\":300},                        {\"responsive\": true}                    ).then(function(){\n",
       "                            \n",
       "var gd = document.getElementById('52d8a2e8-7939-460f-9a39-bce5b644f355');\n",
       "var x = new MutationObserver(function (mutations, observer) {{\n",
       "        var display = window.getComputedStyle(gd).display;\n",
       "        if (!display || display === 'none') {{\n",
       "            console.log([gd, 'removed!']);\n",
       "            Plotly.purge(gd);\n",
       "            observer.disconnect();\n",
       "        }}\n",
       "}});\n",
       "\n",
       "// Listen for the removal of the full notebook cells\n",
       "var notebookContainer = gd.closest('#notebook-container');\n",
       "if (notebookContainer) {{\n",
       "    x.observe(notebookContainer, {childList: true});\n",
       "}}\n",
       "\n",
       "// Listen for the clearing of the current output cell\n",
       "var outputEl = gd.closest('.output');\n",
       "if (outputEl) {{\n",
       "    x.observe(outputEl, {childList: true});\n",
       "}}\n",
       "\n",
       "                        })                };                });            </script>        </div>"
      ]
     },
     "metadata": {},
     "output_type": "display_data"
    }
   ],
   "source": [
    "fig = px.line(\n",
    "    df[df[\"IP\"].isin(selected_ips)].sort_index(), \n",
    "    y=\"BoreTemperature\", \n",
    "    line_group=\"IP\", \n",
    "    color=\"IP\", \n",
    "    markers=True,\n",
    "    hover_data=[\"IP\"],\n",
    "    title=\"Séries Temporais para BoreTemperature\",\n",
    "    height=300\n",
    ")\n",
    "fig.update_traces(\n",
    "    hovertemplate=\"<br>%{x|%H:%M - %d/%m}<br>IP: %{customdata[0]}<br>BoreTemperature: %{y}<extra></extra>\"\n",
    ")\n",
    "fig.update_layout(\n",
    "    yaxis=dict(showgrid=False),\n",
    "    xaxis=(dict(dtick=\"d\", tickformat=\"%b %d\"))\n",
    ")\n",
    "fig.show(renderer=\"colab\")"
   ]
  },
  {
   "cell_type": "code",
   "execution_count": 24,
   "metadata": {},
   "outputs": [
    {
     "data": {
      "application/vnd.plotly.v1+json": {
       "config": {
        "plotlyServerURL": "https://plot.ly"
       },
       "data": [
        {
         "customdata": [
          [
           "10.115.17.226"
          ],
          [
           "10.115.17.226"
          ],
          [
           "10.115.17.226"
          ],
          [
           "10.115.17.226"
          ],
          [
           "10.115.17.226"
          ],
          [
           "10.115.17.226"
          ],
          [
           "10.115.17.226"
          ],
          [
           "10.115.17.226"
          ],
          [
           "10.115.17.226"
          ],
          [
           "10.115.17.226"
          ],
          [
           "10.115.17.226"
          ],
          [
           "10.115.17.226"
          ],
          [
           "10.115.17.226"
          ],
          [
           "10.115.17.226"
          ],
          [
           "10.115.17.226"
          ],
          [
           "10.115.17.226"
          ],
          [
           "10.115.17.226"
          ],
          [
           "10.115.17.226"
          ]
         ],
         "hovertemplate": "<br>%{x|%H:%M - %d/%m}<br>IP: %{customdata[0]}<br>BoreTemperature: %{y}<extra></extra>",
         "legendgroup": "10.115.17.226",
         "line": {
          "color": "#636efa",
          "dash": "solid"
         },
         "marker": {
          "symbol": "circle"
         },
         "mode": "lines+markers",
         "name": "10.115.17.226",
         "orientation": "v",
         "showlegend": true,
         "type": "scatter",
         "x": [
          "2022-10-21T05:00:18",
          "2022-10-21T09:40:14",
          "2022-10-21T09:40:24",
          "2022-10-21T12:23:49",
          "2022-10-21T12:24:24",
          "2022-10-22T05:00:19",
          "2022-10-22T09:23:23",
          "2022-10-22T09:23:33",
          "2022-10-22T10:08:28",
          "2022-10-22T10:09:01",
          "2022-10-23T05:00:18",
          "2022-10-23T09:18:40",
          "2022-10-23T09:18:51",
          "2022-10-24T09:31:44",
          "2022-10-24T21:11:51",
          "2022-10-24T21:12:27",
          "2022-10-25T05:00:18",
          "2022-10-25T09:59:37"
         ],
         "xaxis": "x",
         "y": [
          91.5,
          91.5,
          91.5,
          91.5,
          91.5,
          91.6999969482422,
          91.6999969482422,
          91.6999969482422,
          91.6999969482422,
          91.6999969482422,
          91.6999969482422,
          91.6999969482422,
          91.6999969482422,
          91.1999969482422,
          91.1999969482422,
          91.1999969482422,
          90.6999969482422,
          90.6999969482422
         ],
         "yaxis": "y"
        },
        {
         "customdata": [
          [
           "192.100.16.66"
          ],
          [
           "192.100.16.66"
          ],
          [
           "192.100.16.66"
          ],
          [
           "192.100.16.66"
          ],
          [
           "192.100.16.66"
          ],
          [
           "192.100.16.66"
          ],
          [
           "192.100.16.66"
          ],
          [
           "192.100.16.66"
          ],
          [
           "192.100.16.66"
          ],
          [
           "192.100.16.66"
          ],
          [
           "192.100.16.66"
          ],
          [
           "192.100.16.66"
          ],
          [
           "192.100.16.66"
          ],
          [
           "192.100.16.66"
          ],
          [
           "192.100.16.66"
          ]
         ],
         "hovertemplate": "<br>%{x|%H:%M - %d/%m}<br>IP: %{customdata[0]}<br>BoreTemperature: %{y}<extra></extra>",
         "legendgroup": "192.100.16.66",
         "line": {
          "color": "#EF553B",
          "dash": "solid"
         },
         "marker": {
          "symbol": "circle"
         },
         "mode": "lines+markers",
         "name": "192.100.16.66",
         "orientation": "v",
         "showlegend": true,
         "type": "scatter",
         "x": [
          "2022-10-21T05:00:20",
          "2022-10-21T09:09:10",
          "2022-10-21T09:09:36",
          "2022-10-22T05:00:21",
          "2022-10-22T09:53:40",
          "2022-10-22T09:54:05",
          "2022-10-23T05:00:20",
          "2022-10-23T09:58:51",
          "2022-10-23T09:59:16",
          "2022-10-24T05:00:21",
          "2022-10-24T09:36:59",
          "2022-10-24T09:37:24",
          "2022-10-25T05:00:20",
          "2022-10-25T10:24:46",
          "2022-10-25T10:25:11"
         ],
         "xaxis": "x",
         "y": [
          88.6999969482422,
          88.8000030517578,
          88.8000030517578,
          88.8000030517578,
          88.8000030517578,
          88.8000030517578,
          88.8000030517578,
          88.6999969482422,
          88.6999969482422,
          88.6999969482422,
          88.8000030517578,
          88.8000030517578,
          88.8000030517578,
          88.8000030517578,
          88.8000030517578
         ],
         "yaxis": "y"
        },
        {
         "customdata": [
          [
           "10.99.80.179"
          ],
          [
           "10.99.80.179"
          ],
          [
           "10.99.80.179"
          ],
          [
           "10.99.80.179"
          ],
          [
           "10.99.80.179"
          ],
          [
           "10.99.80.179"
          ],
          [
           "10.99.80.179"
          ],
          [
           "10.99.80.179"
          ],
          [
           "10.99.80.179"
          ],
          [
           "10.99.80.179"
          ],
          [
           "10.99.80.179"
          ],
          [
           "10.99.80.179"
          ],
          [
           "10.99.80.179"
          ],
          [
           "10.99.80.179"
          ],
          [
           "10.99.80.179"
          ]
         ],
         "hovertemplate": "<br>%{x|%H:%M - %d/%m}<br>IP: %{customdata[0]}<br>BoreTemperature: %{y}<extra></extra>",
         "legendgroup": "10.99.80.179",
         "line": {
          "color": "#00cc96",
          "dash": "solid"
         },
         "marker": {
          "symbol": "circle"
         },
         "mode": "lines+markers",
         "name": "10.99.80.179",
         "orientation": "v",
         "showlegend": true,
         "type": "scatter",
         "x": [
          "2022-10-21T05:00:27",
          "2022-10-21T09:07:21",
          "2022-10-21T09:07:44",
          "2022-10-22T05:00:26",
          "2022-10-22T09:38:52",
          "2022-10-22T09:39:15",
          "2022-10-23T05:00:26",
          "2022-10-23T09:03:57",
          "2022-10-23T09:04:20",
          "2022-10-24T05:00:27",
          "2022-10-24T09:34:58",
          "2022-10-24T09:35:21",
          "2022-10-25T05:00:27",
          "2022-10-25T09:20:42",
          "2022-10-25T09:21:07"
         ],
         "xaxis": "x",
         "y": [
          82.4000015258789,
          82.4000015258789,
          82.4000015258789,
          82.1999969482422,
          82.1999969482422,
          82.1999969482422,
          82.4000015258789,
          82.4000015258789,
          82.4000015258789,
          82.4000015258789,
          82.4000015258789,
          82.4000015258789,
          82.4000015258789,
          82.4000015258789,
          82.4000015258789
         ],
         "yaxis": "y"
        }
       ],
       "layout": {
        "height": 300,
        "legend": {
         "title": {
          "text": "IP"
         },
         "tracegroupgap": 0
        },
        "template": {
         "data": {
          "bar": [
           {
            "error_x": {
             "color": "#2a3f5f"
            },
            "error_y": {
             "color": "#2a3f5f"
            },
            "marker": {
             "line": {
              "color": "white",
              "width": 0.5
             },
             "pattern": {
              "fillmode": "overlay",
              "size": 10,
              "solidity": 0.2
             }
            },
            "type": "bar"
           }
          ],
          "barpolar": [
           {
            "marker": {
             "line": {
              "color": "white",
              "width": 0.5
             },
             "pattern": {
              "fillmode": "overlay",
              "size": 10,
              "solidity": 0.2
             }
            },
            "type": "barpolar"
           }
          ],
          "carpet": [
           {
            "aaxis": {
             "endlinecolor": "#2a3f5f",
             "gridcolor": "#C8D4E3",
             "linecolor": "#C8D4E3",
             "minorgridcolor": "#C8D4E3",
             "startlinecolor": "#2a3f5f"
            },
            "baxis": {
             "endlinecolor": "#2a3f5f",
             "gridcolor": "#C8D4E3",
             "linecolor": "#C8D4E3",
             "minorgridcolor": "#C8D4E3",
             "startlinecolor": "#2a3f5f"
            },
            "type": "carpet"
           }
          ],
          "choropleth": [
           {
            "colorbar": {
             "outlinewidth": 0,
             "ticks": ""
            },
            "type": "choropleth"
           }
          ],
          "contour": [
           {
            "colorbar": {
             "outlinewidth": 0,
             "ticks": ""
            },
            "colorscale": [
             [
              0,
              "#0d0887"
             ],
             [
              0.1111111111111111,
              "#46039f"
             ],
             [
              0.2222222222222222,
              "#7201a8"
             ],
             [
              0.3333333333333333,
              "#9c179e"
             ],
             [
              0.4444444444444444,
              "#bd3786"
             ],
             [
              0.5555555555555556,
              "#d8576b"
             ],
             [
              0.6666666666666666,
              "#ed7953"
             ],
             [
              0.7777777777777778,
              "#fb9f3a"
             ],
             [
              0.8888888888888888,
              "#fdca26"
             ],
             [
              1,
              "#f0f921"
             ]
            ],
            "type": "contour"
           }
          ],
          "contourcarpet": [
           {
            "colorbar": {
             "outlinewidth": 0,
             "ticks": ""
            },
            "type": "contourcarpet"
           }
          ],
          "heatmap": [
           {
            "colorbar": {
             "outlinewidth": 0,
             "ticks": ""
            },
            "colorscale": [
             [
              0,
              "#0d0887"
             ],
             [
              0.1111111111111111,
              "#46039f"
             ],
             [
              0.2222222222222222,
              "#7201a8"
             ],
             [
              0.3333333333333333,
              "#9c179e"
             ],
             [
              0.4444444444444444,
              "#bd3786"
             ],
             [
              0.5555555555555556,
              "#d8576b"
             ],
             [
              0.6666666666666666,
              "#ed7953"
             ],
             [
              0.7777777777777778,
              "#fb9f3a"
             ],
             [
              0.8888888888888888,
              "#fdca26"
             ],
             [
              1,
              "#f0f921"
             ]
            ],
            "type": "heatmap"
           }
          ],
          "heatmapgl": [
           {
            "colorbar": {
             "outlinewidth": 0,
             "ticks": ""
            },
            "colorscale": [
             [
              0,
              "#0d0887"
             ],
             [
              0.1111111111111111,
              "#46039f"
             ],
             [
              0.2222222222222222,
              "#7201a8"
             ],
             [
              0.3333333333333333,
              "#9c179e"
             ],
             [
              0.4444444444444444,
              "#bd3786"
             ],
             [
              0.5555555555555556,
              "#d8576b"
             ],
             [
              0.6666666666666666,
              "#ed7953"
             ],
             [
              0.7777777777777778,
              "#fb9f3a"
             ],
             [
              0.8888888888888888,
              "#fdca26"
             ],
             [
              1,
              "#f0f921"
             ]
            ],
            "type": "heatmapgl"
           }
          ],
          "histogram": [
           {
            "marker": {
             "pattern": {
              "fillmode": "overlay",
              "size": 10,
              "solidity": 0.2
             }
            },
            "type": "histogram"
           }
          ],
          "histogram2d": [
           {
            "colorbar": {
             "outlinewidth": 0,
             "ticks": ""
            },
            "colorscale": [
             [
              0,
              "#0d0887"
             ],
             [
              0.1111111111111111,
              "#46039f"
             ],
             [
              0.2222222222222222,
              "#7201a8"
             ],
             [
              0.3333333333333333,
              "#9c179e"
             ],
             [
              0.4444444444444444,
              "#bd3786"
             ],
             [
              0.5555555555555556,
              "#d8576b"
             ],
             [
              0.6666666666666666,
              "#ed7953"
             ],
             [
              0.7777777777777778,
              "#fb9f3a"
             ],
             [
              0.8888888888888888,
              "#fdca26"
             ],
             [
              1,
              "#f0f921"
             ]
            ],
            "type": "histogram2d"
           }
          ],
          "histogram2dcontour": [
           {
            "colorbar": {
             "outlinewidth": 0,
             "ticks": ""
            },
            "colorscale": [
             [
              0,
              "#0d0887"
             ],
             [
              0.1111111111111111,
              "#46039f"
             ],
             [
              0.2222222222222222,
              "#7201a8"
             ],
             [
              0.3333333333333333,
              "#9c179e"
             ],
             [
              0.4444444444444444,
              "#bd3786"
             ],
             [
              0.5555555555555556,
              "#d8576b"
             ],
             [
              0.6666666666666666,
              "#ed7953"
             ],
             [
              0.7777777777777778,
              "#fb9f3a"
             ],
             [
              0.8888888888888888,
              "#fdca26"
             ],
             [
              1,
              "#f0f921"
             ]
            ],
            "type": "histogram2dcontour"
           }
          ],
          "mesh3d": [
           {
            "colorbar": {
             "outlinewidth": 0,
             "ticks": ""
            },
            "type": "mesh3d"
           }
          ],
          "parcoords": [
           {
            "line": {
             "colorbar": {
              "outlinewidth": 0,
              "ticks": ""
             }
            },
            "type": "parcoords"
           }
          ],
          "pie": [
           {
            "automargin": true,
            "type": "pie"
           }
          ],
          "scatter": [
           {
            "fillpattern": {
             "fillmode": "overlay",
             "size": 10,
             "solidity": 0.2
            },
            "type": "scatter"
           }
          ],
          "scatter3d": [
           {
            "line": {
             "colorbar": {
              "outlinewidth": 0,
              "ticks": ""
             }
            },
            "marker": {
             "colorbar": {
              "outlinewidth": 0,
              "ticks": ""
             }
            },
            "type": "scatter3d"
           }
          ],
          "scattercarpet": [
           {
            "marker": {
             "colorbar": {
              "outlinewidth": 0,
              "ticks": ""
             }
            },
            "type": "scattercarpet"
           }
          ],
          "scattergeo": [
           {
            "marker": {
             "colorbar": {
              "outlinewidth": 0,
              "ticks": ""
             }
            },
            "type": "scattergeo"
           }
          ],
          "scattergl": [
           {
            "marker": {
             "colorbar": {
              "outlinewidth": 0,
              "ticks": ""
             }
            },
            "type": "scattergl"
           }
          ],
          "scattermapbox": [
           {
            "marker": {
             "colorbar": {
              "outlinewidth": 0,
              "ticks": ""
             }
            },
            "type": "scattermapbox"
           }
          ],
          "scatterpolar": [
           {
            "marker": {
             "colorbar": {
              "outlinewidth": 0,
              "ticks": ""
             }
            },
            "type": "scatterpolar"
           }
          ],
          "scatterpolargl": [
           {
            "marker": {
             "colorbar": {
              "outlinewidth": 0,
              "ticks": ""
             }
            },
            "type": "scatterpolargl"
           }
          ],
          "scatterternary": [
           {
            "marker": {
             "colorbar": {
              "outlinewidth": 0,
              "ticks": ""
             }
            },
            "type": "scatterternary"
           }
          ],
          "surface": [
           {
            "colorbar": {
             "outlinewidth": 0,
             "ticks": ""
            },
            "colorscale": [
             [
              0,
              "#0d0887"
             ],
             [
              0.1111111111111111,
              "#46039f"
             ],
             [
              0.2222222222222222,
              "#7201a8"
             ],
             [
              0.3333333333333333,
              "#9c179e"
             ],
             [
              0.4444444444444444,
              "#bd3786"
             ],
             [
              0.5555555555555556,
              "#d8576b"
             ],
             [
              0.6666666666666666,
              "#ed7953"
             ],
             [
              0.7777777777777778,
              "#fb9f3a"
             ],
             [
              0.8888888888888888,
              "#fdca26"
             ],
             [
              1,
              "#f0f921"
             ]
            ],
            "type": "surface"
           }
          ],
          "table": [
           {
            "cells": {
             "fill": {
              "color": "#EBF0F8"
             },
             "line": {
              "color": "white"
             }
            },
            "header": {
             "fill": {
              "color": "#C8D4E3"
             },
             "line": {
              "color": "white"
             }
            },
            "type": "table"
           }
          ]
         },
         "layout": {
          "annotationdefaults": {
           "arrowcolor": "#2a3f5f",
           "arrowhead": 0,
           "arrowwidth": 1
          },
          "autotypenumbers": "strict",
          "coloraxis": {
           "colorbar": {
            "outlinewidth": 0,
            "ticks": ""
           }
          },
          "colorscale": {
           "diverging": [
            [
             0,
             "#8e0152"
            ],
            [
             0.1,
             "#c51b7d"
            ],
            [
             0.2,
             "#de77ae"
            ],
            [
             0.3,
             "#f1b6da"
            ],
            [
             0.4,
             "#fde0ef"
            ],
            [
             0.5,
             "#f7f7f7"
            ],
            [
             0.6,
             "#e6f5d0"
            ],
            [
             0.7,
             "#b8e186"
            ],
            [
             0.8,
             "#7fbc41"
            ],
            [
             0.9,
             "#4d9221"
            ],
            [
             1,
             "#276419"
            ]
           ],
           "sequential": [
            [
             0,
             "#0d0887"
            ],
            [
             0.1111111111111111,
             "#46039f"
            ],
            [
             0.2222222222222222,
             "#7201a8"
            ],
            [
             0.3333333333333333,
             "#9c179e"
            ],
            [
             0.4444444444444444,
             "#bd3786"
            ],
            [
             0.5555555555555556,
             "#d8576b"
            ],
            [
             0.6666666666666666,
             "#ed7953"
            ],
            [
             0.7777777777777778,
             "#fb9f3a"
            ],
            [
             0.8888888888888888,
             "#fdca26"
            ],
            [
             1,
             "#f0f921"
            ]
           ],
           "sequentialminus": [
            [
             0,
             "#0d0887"
            ],
            [
             0.1111111111111111,
             "#46039f"
            ],
            [
             0.2222222222222222,
             "#7201a8"
            ],
            [
             0.3333333333333333,
             "#9c179e"
            ],
            [
             0.4444444444444444,
             "#bd3786"
            ],
            [
             0.5555555555555556,
             "#d8576b"
            ],
            [
             0.6666666666666666,
             "#ed7953"
            ],
            [
             0.7777777777777778,
             "#fb9f3a"
            ],
            [
             0.8888888888888888,
             "#fdca26"
            ],
            [
             1,
             "#f0f921"
            ]
           ]
          },
          "colorway": [
           "#636efa",
           "#EF553B",
           "#00cc96",
           "#ab63fa",
           "#FFA15A",
           "#19d3f3",
           "#FF6692",
           "#B6E880",
           "#FF97FF",
           "#FECB52"
          ],
          "font": {
           "color": "#2a3f5f"
          },
          "geo": {
           "bgcolor": "white",
           "lakecolor": "white",
           "landcolor": "white",
           "showlakes": true,
           "showland": true,
           "subunitcolor": "#C8D4E3"
          },
          "hoverlabel": {
           "align": "left"
          },
          "hovermode": "closest",
          "mapbox": {
           "style": "light"
          },
          "paper_bgcolor": "white",
          "plot_bgcolor": "white",
          "polar": {
           "angularaxis": {
            "gridcolor": "#EBF0F8",
            "linecolor": "#EBF0F8",
            "ticks": ""
           },
           "bgcolor": "white",
           "radialaxis": {
            "gridcolor": "#EBF0F8",
            "linecolor": "#EBF0F8",
            "ticks": ""
           }
          },
          "scene": {
           "xaxis": {
            "backgroundcolor": "white",
            "gridcolor": "#DFE8F3",
            "gridwidth": 2,
            "linecolor": "#EBF0F8",
            "showbackground": true,
            "ticks": "",
            "zerolinecolor": "#EBF0F8"
           },
           "yaxis": {
            "backgroundcolor": "white",
            "gridcolor": "#DFE8F3",
            "gridwidth": 2,
            "linecolor": "#EBF0F8",
            "showbackground": true,
            "ticks": "",
            "zerolinecolor": "#EBF0F8"
           },
           "zaxis": {
            "backgroundcolor": "white",
            "gridcolor": "#DFE8F3",
            "gridwidth": 2,
            "linecolor": "#EBF0F8",
            "showbackground": true,
            "ticks": "",
            "zerolinecolor": "#EBF0F8"
           }
          },
          "shapedefaults": {
           "line": {
            "color": "#2a3f5f"
           }
          },
          "ternary": {
           "aaxis": {
            "gridcolor": "#DFE8F3",
            "linecolor": "#A2B1C6",
            "ticks": ""
           },
           "baxis": {
            "gridcolor": "#DFE8F3",
            "linecolor": "#A2B1C6",
            "ticks": ""
           },
           "bgcolor": "white",
           "caxis": {
            "gridcolor": "#DFE8F3",
            "linecolor": "#A2B1C6",
            "ticks": ""
           }
          },
          "title": {
           "x": 0.05
          },
          "xaxis": {
           "automargin": true,
           "gridcolor": "#EBF0F8",
           "linecolor": "#EBF0F8",
           "ticks": "",
           "title": {
            "standoff": 15
           },
           "zerolinecolor": "#EBF0F8",
           "zerolinewidth": 2
          },
          "yaxis": {
           "automargin": true,
           "gridcolor": "#EBF0F8",
           "linecolor": "#EBF0F8",
           "ticks": "",
           "title": {
            "standoff": 15
           },
           "zerolinecolor": "#EBF0F8",
           "zerolinewidth": 2
          }
         }
        },
        "title": {
         "text": "Séries Temporais para HeliumLevel"
        },
        "xaxis": {
         "anchor": "y",
         "domain": [
          0,
          1
         ],
         "dtick": "d",
         "tickformat": "%b %d",
         "title": {
          "text": "Data"
         }
        },
        "yaxis": {
         "anchor": "x",
         "domain": [
          0,
          1
         ],
         "showgrid": false,
         "title": {
          "text": "HeliumLevel"
         }
        }
       }
      },
      "text/html": [
       "<div>                            <div id=\"bc0585aa-7347-4af8-8fee-f5f2edef3355\" class=\"plotly-graph-div\" style=\"height:300px; width:100%;\"></div>            <script type=\"text/javascript\">                require([\"plotly\"], function(Plotly) {                    window.PLOTLYENV=window.PLOTLYENV || {};                                    if (document.getElementById(\"bc0585aa-7347-4af8-8fee-f5f2edef3355\")) {                    Plotly.newPlot(                        \"bc0585aa-7347-4af8-8fee-f5f2edef3355\",                        [{\"customdata\":[[\"10.115.17.226\"],[\"10.115.17.226\"],[\"10.115.17.226\"],[\"10.115.17.226\"],[\"10.115.17.226\"],[\"10.115.17.226\"],[\"10.115.17.226\"],[\"10.115.17.226\"],[\"10.115.17.226\"],[\"10.115.17.226\"],[\"10.115.17.226\"],[\"10.115.17.226\"],[\"10.115.17.226\"],[\"10.115.17.226\"],[\"10.115.17.226\"],[\"10.115.17.226\"],[\"10.115.17.226\"],[\"10.115.17.226\"]],\"hovertemplate\":\"<br>%{x|%H:%M - %d/%m}<br>IP: %{customdata[0]}<br>BoreTemperature: %{y}<extra></extra>\",\"legendgroup\":\"10.115.17.226\",\"line\":{\"color\":\"#636efa\",\"dash\":\"solid\"},\"marker\":{\"symbol\":\"circle\"},\"mode\":\"lines+markers\",\"name\":\"10.115.17.226\",\"orientation\":\"v\",\"showlegend\":true,\"x\":[\"2022-10-21T05:00:18\",\"2022-10-21T09:40:14\",\"2022-10-21T09:40:24\",\"2022-10-21T12:23:49\",\"2022-10-21T12:24:24\",\"2022-10-22T05:00:19\",\"2022-10-22T09:23:23\",\"2022-10-22T09:23:33\",\"2022-10-22T10:08:28\",\"2022-10-22T10:09:01\",\"2022-10-23T05:00:18\",\"2022-10-23T09:18:40\",\"2022-10-23T09:18:51\",\"2022-10-24T09:31:44\",\"2022-10-24T21:11:51\",\"2022-10-24T21:12:27\",\"2022-10-25T05:00:18\",\"2022-10-25T09:59:37\"],\"xaxis\":\"x\",\"y\":[91.5,91.5,91.5,91.5,91.5,91.6999969482422,91.6999969482422,91.6999969482422,91.6999969482422,91.6999969482422,91.6999969482422,91.6999969482422,91.6999969482422,91.1999969482422,91.1999969482422,91.1999969482422,90.6999969482422,90.6999969482422],\"yaxis\":\"y\",\"type\":\"scatter\"},{\"customdata\":[[\"192.100.16.66\"],[\"192.100.16.66\"],[\"192.100.16.66\"],[\"192.100.16.66\"],[\"192.100.16.66\"],[\"192.100.16.66\"],[\"192.100.16.66\"],[\"192.100.16.66\"],[\"192.100.16.66\"],[\"192.100.16.66\"],[\"192.100.16.66\"],[\"192.100.16.66\"],[\"192.100.16.66\"],[\"192.100.16.66\"],[\"192.100.16.66\"]],\"hovertemplate\":\"<br>%{x|%H:%M - %d/%m}<br>IP: %{customdata[0]}<br>BoreTemperature: %{y}<extra></extra>\",\"legendgroup\":\"192.100.16.66\",\"line\":{\"color\":\"#EF553B\",\"dash\":\"solid\"},\"marker\":{\"symbol\":\"circle\"},\"mode\":\"lines+markers\",\"name\":\"192.100.16.66\",\"orientation\":\"v\",\"showlegend\":true,\"x\":[\"2022-10-21T05:00:20\",\"2022-10-21T09:09:10\",\"2022-10-21T09:09:36\",\"2022-10-22T05:00:21\",\"2022-10-22T09:53:40\",\"2022-10-22T09:54:05\",\"2022-10-23T05:00:20\",\"2022-10-23T09:58:51\",\"2022-10-23T09:59:16\",\"2022-10-24T05:00:21\",\"2022-10-24T09:36:59\",\"2022-10-24T09:37:24\",\"2022-10-25T05:00:20\",\"2022-10-25T10:24:46\",\"2022-10-25T10:25:11\"],\"xaxis\":\"x\",\"y\":[88.6999969482422,88.8000030517578,88.8000030517578,88.8000030517578,88.8000030517578,88.8000030517578,88.8000030517578,88.6999969482422,88.6999969482422,88.6999969482422,88.8000030517578,88.8000030517578,88.8000030517578,88.8000030517578,88.8000030517578],\"yaxis\":\"y\",\"type\":\"scatter\"},{\"customdata\":[[\"10.99.80.179\"],[\"10.99.80.179\"],[\"10.99.80.179\"],[\"10.99.80.179\"],[\"10.99.80.179\"],[\"10.99.80.179\"],[\"10.99.80.179\"],[\"10.99.80.179\"],[\"10.99.80.179\"],[\"10.99.80.179\"],[\"10.99.80.179\"],[\"10.99.80.179\"],[\"10.99.80.179\"],[\"10.99.80.179\"],[\"10.99.80.179\"]],\"hovertemplate\":\"<br>%{x|%H:%M - %d/%m}<br>IP: %{customdata[0]}<br>BoreTemperature: %{y}<extra></extra>\",\"legendgroup\":\"10.99.80.179\",\"line\":{\"color\":\"#00cc96\",\"dash\":\"solid\"},\"marker\":{\"symbol\":\"circle\"},\"mode\":\"lines+markers\",\"name\":\"10.99.80.179\",\"orientation\":\"v\",\"showlegend\":true,\"x\":[\"2022-10-21T05:00:27\",\"2022-10-21T09:07:21\",\"2022-10-21T09:07:44\",\"2022-10-22T05:00:26\",\"2022-10-22T09:38:52\",\"2022-10-22T09:39:15\",\"2022-10-23T05:00:26\",\"2022-10-23T09:03:57\",\"2022-10-23T09:04:20\",\"2022-10-24T05:00:27\",\"2022-10-24T09:34:58\",\"2022-10-24T09:35:21\",\"2022-10-25T05:00:27\",\"2022-10-25T09:20:42\",\"2022-10-25T09:21:07\"],\"xaxis\":\"x\",\"y\":[82.4000015258789,82.4000015258789,82.4000015258789,82.1999969482422,82.1999969482422,82.1999969482422,82.4000015258789,82.4000015258789,82.4000015258789,82.4000015258789,82.4000015258789,82.4000015258789,82.4000015258789,82.4000015258789,82.4000015258789],\"yaxis\":\"y\",\"type\":\"scatter\"}],                        {\"template\":{\"data\":{\"histogram2dcontour\":[{\"type\":\"histogram2dcontour\",\"colorbar\":{\"outlinewidth\":0,\"ticks\":\"\"},\"colorscale\":[[0.0,\"#0d0887\"],[0.1111111111111111,\"#46039f\"],[0.2222222222222222,\"#7201a8\"],[0.3333333333333333,\"#9c179e\"],[0.4444444444444444,\"#bd3786\"],[0.5555555555555556,\"#d8576b\"],[0.6666666666666666,\"#ed7953\"],[0.7777777777777778,\"#fb9f3a\"],[0.8888888888888888,\"#fdca26\"],[1.0,\"#f0f921\"]]}],\"choropleth\":[{\"type\":\"choropleth\",\"colorbar\":{\"outlinewidth\":0,\"ticks\":\"\"}}],\"histogram2d\":[{\"type\":\"histogram2d\",\"colorbar\":{\"outlinewidth\":0,\"ticks\":\"\"},\"colorscale\":[[0.0,\"#0d0887\"],[0.1111111111111111,\"#46039f\"],[0.2222222222222222,\"#7201a8\"],[0.3333333333333333,\"#9c179e\"],[0.4444444444444444,\"#bd3786\"],[0.5555555555555556,\"#d8576b\"],[0.6666666666666666,\"#ed7953\"],[0.7777777777777778,\"#fb9f3a\"],[0.8888888888888888,\"#fdca26\"],[1.0,\"#f0f921\"]]}],\"heatmap\":[{\"type\":\"heatmap\",\"colorbar\":{\"outlinewidth\":0,\"ticks\":\"\"},\"colorscale\":[[0.0,\"#0d0887\"],[0.1111111111111111,\"#46039f\"],[0.2222222222222222,\"#7201a8\"],[0.3333333333333333,\"#9c179e\"],[0.4444444444444444,\"#bd3786\"],[0.5555555555555556,\"#d8576b\"],[0.6666666666666666,\"#ed7953\"],[0.7777777777777778,\"#fb9f3a\"],[0.8888888888888888,\"#fdca26\"],[1.0,\"#f0f921\"]]}],\"heatmapgl\":[{\"type\":\"heatmapgl\",\"colorbar\":{\"outlinewidth\":0,\"ticks\":\"\"},\"colorscale\":[[0.0,\"#0d0887\"],[0.1111111111111111,\"#46039f\"],[0.2222222222222222,\"#7201a8\"],[0.3333333333333333,\"#9c179e\"],[0.4444444444444444,\"#bd3786\"],[0.5555555555555556,\"#d8576b\"],[0.6666666666666666,\"#ed7953\"],[0.7777777777777778,\"#fb9f3a\"],[0.8888888888888888,\"#fdca26\"],[1.0,\"#f0f921\"]]}],\"contourcarpet\":[{\"type\":\"contourcarpet\",\"colorbar\":{\"outlinewidth\":0,\"ticks\":\"\"}}],\"contour\":[{\"type\":\"contour\",\"colorbar\":{\"outlinewidth\":0,\"ticks\":\"\"},\"colorscale\":[[0.0,\"#0d0887\"],[0.1111111111111111,\"#46039f\"],[0.2222222222222222,\"#7201a8\"],[0.3333333333333333,\"#9c179e\"],[0.4444444444444444,\"#bd3786\"],[0.5555555555555556,\"#d8576b\"],[0.6666666666666666,\"#ed7953\"],[0.7777777777777778,\"#fb9f3a\"],[0.8888888888888888,\"#fdca26\"],[1.0,\"#f0f921\"]]}],\"surface\":[{\"type\":\"surface\",\"colorbar\":{\"outlinewidth\":0,\"ticks\":\"\"},\"colorscale\":[[0.0,\"#0d0887\"],[0.1111111111111111,\"#46039f\"],[0.2222222222222222,\"#7201a8\"],[0.3333333333333333,\"#9c179e\"],[0.4444444444444444,\"#bd3786\"],[0.5555555555555556,\"#d8576b\"],[0.6666666666666666,\"#ed7953\"],[0.7777777777777778,\"#fb9f3a\"],[0.8888888888888888,\"#fdca26\"],[1.0,\"#f0f921\"]]}],\"mesh3d\":[{\"type\":\"mesh3d\",\"colorbar\":{\"outlinewidth\":0,\"ticks\":\"\"}}],\"scatter\":[{\"fillpattern\":{\"fillmode\":\"overlay\",\"size\":10,\"solidity\":0.2},\"type\":\"scatter\"}],\"parcoords\":[{\"type\":\"parcoords\",\"line\":{\"colorbar\":{\"outlinewidth\":0,\"ticks\":\"\"}}}],\"scatterpolargl\":[{\"type\":\"scatterpolargl\",\"marker\":{\"colorbar\":{\"outlinewidth\":0,\"ticks\":\"\"}}}],\"bar\":[{\"error_x\":{\"color\":\"#2a3f5f\"},\"error_y\":{\"color\":\"#2a3f5f\"},\"marker\":{\"line\":{\"color\":\"white\",\"width\":0.5},\"pattern\":{\"fillmode\":\"overlay\",\"size\":10,\"solidity\":0.2}},\"type\":\"bar\"}],\"scattergeo\":[{\"type\":\"scattergeo\",\"marker\":{\"colorbar\":{\"outlinewidth\":0,\"ticks\":\"\"}}}],\"scatterpolar\":[{\"type\":\"scatterpolar\",\"marker\":{\"colorbar\":{\"outlinewidth\":0,\"ticks\":\"\"}}}],\"histogram\":[{\"marker\":{\"pattern\":{\"fillmode\":\"overlay\",\"size\":10,\"solidity\":0.2}},\"type\":\"histogram\"}],\"scattergl\":[{\"type\":\"scattergl\",\"marker\":{\"colorbar\":{\"outlinewidth\":0,\"ticks\":\"\"}}}],\"scatter3d\":[{\"type\":\"scatter3d\",\"line\":{\"colorbar\":{\"outlinewidth\":0,\"ticks\":\"\"}},\"marker\":{\"colorbar\":{\"outlinewidth\":0,\"ticks\":\"\"}}}],\"scattermapbox\":[{\"type\":\"scattermapbox\",\"marker\":{\"colorbar\":{\"outlinewidth\":0,\"ticks\":\"\"}}}],\"scatterternary\":[{\"type\":\"scatterternary\",\"marker\":{\"colorbar\":{\"outlinewidth\":0,\"ticks\":\"\"}}}],\"scattercarpet\":[{\"type\":\"scattercarpet\",\"marker\":{\"colorbar\":{\"outlinewidth\":0,\"ticks\":\"\"}}}],\"carpet\":[{\"aaxis\":{\"endlinecolor\":\"#2a3f5f\",\"gridcolor\":\"#C8D4E3\",\"linecolor\":\"#C8D4E3\",\"minorgridcolor\":\"#C8D4E3\",\"startlinecolor\":\"#2a3f5f\"},\"baxis\":{\"endlinecolor\":\"#2a3f5f\",\"gridcolor\":\"#C8D4E3\",\"linecolor\":\"#C8D4E3\",\"minorgridcolor\":\"#C8D4E3\",\"startlinecolor\":\"#2a3f5f\"},\"type\":\"carpet\"}],\"table\":[{\"cells\":{\"fill\":{\"color\":\"#EBF0F8\"},\"line\":{\"color\":\"white\"}},\"header\":{\"fill\":{\"color\":\"#C8D4E3\"},\"line\":{\"color\":\"white\"}},\"type\":\"table\"}],\"barpolar\":[{\"marker\":{\"line\":{\"color\":\"white\",\"width\":0.5},\"pattern\":{\"fillmode\":\"overlay\",\"size\":10,\"solidity\":0.2}},\"type\":\"barpolar\"}],\"pie\":[{\"automargin\":true,\"type\":\"pie\"}]},\"layout\":{\"autotypenumbers\":\"strict\",\"colorway\":[\"#636efa\",\"#EF553B\",\"#00cc96\",\"#ab63fa\",\"#FFA15A\",\"#19d3f3\",\"#FF6692\",\"#B6E880\",\"#FF97FF\",\"#FECB52\"],\"font\":{\"color\":\"#2a3f5f\"},\"hovermode\":\"closest\",\"hoverlabel\":{\"align\":\"left\"},\"paper_bgcolor\":\"white\",\"plot_bgcolor\":\"white\",\"polar\":{\"bgcolor\":\"white\",\"angularaxis\":{\"gridcolor\":\"#EBF0F8\",\"linecolor\":\"#EBF0F8\",\"ticks\":\"\"},\"radialaxis\":{\"gridcolor\":\"#EBF0F8\",\"linecolor\":\"#EBF0F8\",\"ticks\":\"\"}},\"ternary\":{\"bgcolor\":\"white\",\"aaxis\":{\"gridcolor\":\"#DFE8F3\",\"linecolor\":\"#A2B1C6\",\"ticks\":\"\"},\"baxis\":{\"gridcolor\":\"#DFE8F3\",\"linecolor\":\"#A2B1C6\",\"ticks\":\"\"},\"caxis\":{\"gridcolor\":\"#DFE8F3\",\"linecolor\":\"#A2B1C6\",\"ticks\":\"\"}},\"coloraxis\":{\"colorbar\":{\"outlinewidth\":0,\"ticks\":\"\"}},\"colorscale\":{\"sequential\":[[0.0,\"#0d0887\"],[0.1111111111111111,\"#46039f\"],[0.2222222222222222,\"#7201a8\"],[0.3333333333333333,\"#9c179e\"],[0.4444444444444444,\"#bd3786\"],[0.5555555555555556,\"#d8576b\"],[0.6666666666666666,\"#ed7953\"],[0.7777777777777778,\"#fb9f3a\"],[0.8888888888888888,\"#fdca26\"],[1.0,\"#f0f921\"]],\"sequentialminus\":[[0.0,\"#0d0887\"],[0.1111111111111111,\"#46039f\"],[0.2222222222222222,\"#7201a8\"],[0.3333333333333333,\"#9c179e\"],[0.4444444444444444,\"#bd3786\"],[0.5555555555555556,\"#d8576b\"],[0.6666666666666666,\"#ed7953\"],[0.7777777777777778,\"#fb9f3a\"],[0.8888888888888888,\"#fdca26\"],[1.0,\"#f0f921\"]],\"diverging\":[[0,\"#8e0152\"],[0.1,\"#c51b7d\"],[0.2,\"#de77ae\"],[0.3,\"#f1b6da\"],[0.4,\"#fde0ef\"],[0.5,\"#f7f7f7\"],[0.6,\"#e6f5d0\"],[0.7,\"#b8e186\"],[0.8,\"#7fbc41\"],[0.9,\"#4d9221\"],[1,\"#276419\"]]},\"xaxis\":{\"gridcolor\":\"#EBF0F8\",\"linecolor\":\"#EBF0F8\",\"ticks\":\"\",\"title\":{\"standoff\":15},\"zerolinecolor\":\"#EBF0F8\",\"automargin\":true,\"zerolinewidth\":2},\"yaxis\":{\"gridcolor\":\"#EBF0F8\",\"linecolor\":\"#EBF0F8\",\"ticks\":\"\",\"title\":{\"standoff\":15},\"zerolinecolor\":\"#EBF0F8\",\"automargin\":true,\"zerolinewidth\":2},\"scene\":{\"xaxis\":{\"backgroundcolor\":\"white\",\"gridcolor\":\"#DFE8F3\",\"linecolor\":\"#EBF0F8\",\"showbackground\":true,\"ticks\":\"\",\"zerolinecolor\":\"#EBF0F8\",\"gridwidth\":2},\"yaxis\":{\"backgroundcolor\":\"white\",\"gridcolor\":\"#DFE8F3\",\"linecolor\":\"#EBF0F8\",\"showbackground\":true,\"ticks\":\"\",\"zerolinecolor\":\"#EBF0F8\",\"gridwidth\":2},\"zaxis\":{\"backgroundcolor\":\"white\",\"gridcolor\":\"#DFE8F3\",\"linecolor\":\"#EBF0F8\",\"showbackground\":true,\"ticks\":\"\",\"zerolinecolor\":\"#EBF0F8\",\"gridwidth\":2}},\"shapedefaults\":{\"line\":{\"color\":\"#2a3f5f\"}},\"annotationdefaults\":{\"arrowcolor\":\"#2a3f5f\",\"arrowhead\":0,\"arrowwidth\":1},\"geo\":{\"bgcolor\":\"white\",\"landcolor\":\"white\",\"subunitcolor\":\"#C8D4E3\",\"showland\":true,\"showlakes\":true,\"lakecolor\":\"white\"},\"title\":{\"x\":0.05},\"mapbox\":{\"style\":\"light\"}}},\"xaxis\":{\"anchor\":\"y\",\"domain\":[0.0,1.0],\"title\":{\"text\":\"Data\"},\"dtick\":\"d\",\"tickformat\":\"%b %d\"},\"yaxis\":{\"anchor\":\"x\",\"domain\":[0.0,1.0],\"title\":{\"text\":\"HeliumLevel\"},\"showgrid\":false},\"legend\":{\"title\":{\"text\":\"IP\"},\"tracegroupgap\":0},\"title\":{\"text\":\"S\\u00e9ries Temporais para HeliumLevel\"},\"height\":300},                        {\"responsive\": true}                    ).then(function(){\n",
       "                            \n",
       "var gd = document.getElementById('bc0585aa-7347-4af8-8fee-f5f2edef3355');\n",
       "var x = new MutationObserver(function (mutations, observer) {{\n",
       "        var display = window.getComputedStyle(gd).display;\n",
       "        if (!display || display === 'none') {{\n",
       "            console.log([gd, 'removed!']);\n",
       "            Plotly.purge(gd);\n",
       "            observer.disconnect();\n",
       "        }}\n",
       "}});\n",
       "\n",
       "// Listen for the removal of the full notebook cells\n",
       "var notebookContainer = gd.closest('#notebook-container');\n",
       "if (notebookContainer) {{\n",
       "    x.observe(notebookContainer, {childList: true});\n",
       "}}\n",
       "\n",
       "// Listen for the clearing of the current output cell\n",
       "var outputEl = gd.closest('.output');\n",
       "if (outputEl) {{\n",
       "    x.observe(outputEl, {childList: true});\n",
       "}}\n",
       "\n",
       "                        })                };                });            </script>        </div>"
      ]
     },
     "metadata": {},
     "output_type": "display_data"
    }
   ],
   "source": [
    "# Creating plot\n",
    "fig = px.line(\n",
    "    df[df[\"IP\"].isin(selected_ips)].sort_index(), \n",
    "    y=\"HeliumLevel\", \n",
    "    line_group=\"IP\", \n",
    "    color=\"IP\", \n",
    "    markers=True,\n",
    "    hover_data=[\"IP\"],\n",
    "    title=\"Séries Temporais para HeliumLevel\",\n",
    "    height=300\n",
    ")\n",
    "fig.update_traces(\n",
    "    hovertemplate=\"<br>%{x|%H:%M - %d/%m}<br>IP: %{customdata[0]}<br>BoreTemperature: %{y}<extra></extra>\"\n",
    ")\n",
    "fig.update_layout(\n",
    "    yaxis=dict(showgrid=False),\n",
    "    xaxis=(dict(dtick=\"d\", tickformat=\"%b %d\"))\n",
    ")\n",
    "fig.show(renderer=\"colab\")"
   ]
  },
  {
   "attachments": {},
   "cell_type": "markdown",
   "metadata": {},
   "source": [
    "## Exportando os dados\n",
    "\n",
    "A análise de componentes das séries temporais e a criação dos modelos serão feitos em notebooks separados (um para cada equipamento)."
   ]
  },
  {
   "cell_type": "code",
   "execution_count": 11,
   "metadata": {},
   "outputs": [],
   "source": [
    "for selected_ip in selected_ips:\n",
    "    df[df[\"IP\"]==selected_ip][[\"HeliumLevel\", \"BoreTemperature\"]].rename_axis(f\"{selected_ip}\").to_csv(\n",
    "        path_or_buf=processed_data_folder/f\"{selected_ip}.csv\"\n",
    "    )"
   ]
  }
 ],
 "metadata": {
  "kernelspec": {
   "display_name": "time-series-sensor",
   "language": "python",
   "name": "python3"
  },
  "language_info": {
   "codemirror_mode": {
    "name": "ipython",
    "version": 3
   },
   "file_extension": ".py",
   "mimetype": "text/x-python",
   "name": "python",
   "nbconvert_exporter": "python",
   "pygments_lexer": "ipython3",
   "version": "3.10.8"
  },
  "orig_nbformat": 4,
  "vscode": {
   "interpreter": {
    "hash": "141a6666b6f77aa659db8c391f9c64d4192653ea4de867eb2c677e8618f1d39d"
   }
  }
 },
 "nbformat": 4,
 "nbformat_minor": 2
}
